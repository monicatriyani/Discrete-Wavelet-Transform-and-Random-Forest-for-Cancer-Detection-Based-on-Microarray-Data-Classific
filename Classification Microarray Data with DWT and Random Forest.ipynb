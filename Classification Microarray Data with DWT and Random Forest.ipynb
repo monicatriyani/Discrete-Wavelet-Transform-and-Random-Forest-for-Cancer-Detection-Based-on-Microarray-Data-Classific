{
 "cells": [
  {
   "cell_type": "markdown",
   "metadata": {},
   "source": [
    "# Klasifikasi Data Microarray Menggunakan DWT & Random Forest"
   ]
  },
  {
   "cell_type": "markdown",
   "metadata": {},
   "source": [
    "### Import Packages and Dataset\n",
    "\n",
    "***Packages***"
   ]
  },
  {
   "cell_type": "code",
   "execution_count": 1,
   "metadata": {},
   "outputs": [],
   "source": [
    "import pandas as pd\n",
    "import numpy as np\n",
    "import matplotlib.pyplot as plt\n",
    "import seaborn as sns\n",
    "\n",
    "import math\n",
    "from sklearn.tree import DecisionTreeClassifier\n",
    "from sklearn.ensemble import RandomForestClassifier\n",
    "from sklearn.model_selection import train_test_split\n",
    "from sklearn.preprocessing import MinMaxScaler\n",
    "from sklearn.model_selection import KFold\n",
    "from sklearn.model_selection import RandomizedSearchCV\n",
    "from sklearn.model_selection import GridSearchCV\n",
    "from sklearn.metrics import accuracy_score, precision_score, recall_score\n",
    "from sklearn.metrics import classification_report, confusion_matrix\n",
    "from sklearn import metrics\n",
    "\n",
    "import pywt\n",
    "\n",
    "import warnings\n",
    "warnings.filterwarnings('ignore')"
   ]
  },
  {
   "cell_type": "markdown",
   "metadata": {},
   "source": [
    "***Dataset***"
   ]
  },
  {
   "cell_type": "markdown",
   "metadata": {},
   "source": [
    "- Colon Cancer"
   ]
  },
  {
   "cell_type": "code",
   "execution_count": 2,
   "metadata": {},
   "outputs": [
    {
     "data": {
      "text/plain": [
       "2001"
      ]
     },
     "execution_count": 2,
     "metadata": {},
     "output_type": "execute_result"
    }
   ],
   "source": [
    "data = pd.read_csv(\"data/colonTumor.csv\")\n",
    "data_length = data.shape[1]\n",
    "data_length"
   ]
  },
  {
   "cell_type": "code",
   "execution_count": 5,
   "metadata": {},
   "outputs": [],
   "source": [
    "column = []\n",
    "for i in range(data_length):\n",
    "    column.append(\"atribut\"+str(i))"
   ]
  },
  {
   "cell_type": "code",
   "execution_count": 6,
   "metadata": {},
   "outputs": [
    {
     "data": {
      "text/html": [
       "<div>\n",
       "<style scoped>\n",
       "    .dataframe tbody tr th:only-of-type {\n",
       "        vertical-align: middle;\n",
       "    }\n",
       "\n",
       "    .dataframe tbody tr th {\n",
       "        vertical-align: top;\n",
       "    }\n",
       "\n",
       "    .dataframe thead th {\n",
       "        text-align: right;\n",
       "    }\n",
       "</style>\n",
       "<table border=\"1\" class=\"dataframe\">\n",
       "  <thead>\n",
       "    <tr style=\"text-align: right;\">\n",
       "      <th></th>\n",
       "      <th>atribut0</th>\n",
       "      <th>atribut1</th>\n",
       "      <th>atribut2</th>\n",
       "      <th>atribut3</th>\n",
       "      <th>atribut4</th>\n",
       "      <th>atribut5</th>\n",
       "      <th>atribut6</th>\n",
       "      <th>atribut7</th>\n",
       "      <th>atribut8</th>\n",
       "      <th>atribut9</th>\n",
       "      <th>...</th>\n",
       "      <th>atribut1991</th>\n",
       "      <th>atribut1992</th>\n",
       "      <th>atribut1993</th>\n",
       "      <th>atribut1994</th>\n",
       "      <th>atribut1995</th>\n",
       "      <th>atribut1996</th>\n",
       "      <th>atribut1997</th>\n",
       "      <th>atribut1998</th>\n",
       "      <th>atribut1999</th>\n",
       "      <th>atribut2000</th>\n",
       "    </tr>\n",
       "  </thead>\n",
       "  <tbody>\n",
       "    <tr>\n",
       "      <th>0</th>\n",
       "      <td>8589.4163</td>\n",
       "      <td>5468.2409</td>\n",
       "      <td>4263.4075</td>\n",
       "      <td>4064.9357</td>\n",
       "      <td>1997.8929</td>\n",
       "      <td>5282.3250</td>\n",
       "      <td>2169.7200</td>\n",
       "      <td>2773.4212</td>\n",
       "      <td>7526.3862</td>\n",
       "      <td>4607.6762</td>\n",
       "      <td>...</td>\n",
       "      <td>67.56125</td>\n",
       "      <td>259.91250</td>\n",
       "      <td>138.89875</td>\n",
       "      <td>88.23250</td>\n",
       "      <td>39.667857</td>\n",
       "      <td>67.82875</td>\n",
       "      <td>75.67750</td>\n",
       "      <td>83.52250</td>\n",
       "      <td>28.70125</td>\n",
       "      <td>negative</td>\n",
       "    </tr>\n",
       "    <tr>\n",
       "      <th>1</th>\n",
       "      <td>9164.2537</td>\n",
       "      <td>6719.5295</td>\n",
       "      <td>4883.4487</td>\n",
       "      <td>3718.1589</td>\n",
       "      <td>2015.2214</td>\n",
       "      <td>5569.9071</td>\n",
       "      <td>3849.0588</td>\n",
       "      <td>2793.3875</td>\n",
       "      <td>7017.7338</td>\n",
       "      <td>4802.2524</td>\n",
       "      <td>...</td>\n",
       "      <td>92.23875</td>\n",
       "      <td>96.27625</td>\n",
       "      <td>150.59000</td>\n",
       "      <td>82.23750</td>\n",
       "      <td>85.033333</td>\n",
       "      <td>152.19500</td>\n",
       "      <td>186.56750</td>\n",
       "      <td>44.47250</td>\n",
       "      <td>16.77375</td>\n",
       "      <td>positive</td>\n",
       "    </tr>\n",
       "    <tr>\n",
       "      <th>2</th>\n",
       "      <td>3825.7050</td>\n",
       "      <td>6970.3614</td>\n",
       "      <td>5369.9688</td>\n",
       "      <td>4705.6500</td>\n",
       "      <td>1166.5536</td>\n",
       "      <td>1572.1679</td>\n",
       "      <td>1325.4025</td>\n",
       "      <td>1472.2587</td>\n",
       "      <td>3296.9512</td>\n",
       "      <td>2786.5821</td>\n",
       "      <td>...</td>\n",
       "      <td>82.71500</td>\n",
       "      <td>31.10250</td>\n",
       "      <td>193.92000</td>\n",
       "      <td>76.97250</td>\n",
       "      <td>224.620240</td>\n",
       "      <td>31.22500</td>\n",
       "      <td>42.65625</td>\n",
       "      <td>16.09250</td>\n",
       "      <td>15.15625</td>\n",
       "      <td>negative</td>\n",
       "    </tr>\n",
       "    <tr>\n",
       "      <th>3</th>\n",
       "      <td>6246.4487</td>\n",
       "      <td>7823.5341</td>\n",
       "      <td>5955.8350</td>\n",
       "      <td>3975.5643</td>\n",
       "      <td>2002.6131</td>\n",
       "      <td>2130.5429</td>\n",
       "      <td>1531.1425</td>\n",
       "      <td>1714.6312</td>\n",
       "      <td>3869.7850</td>\n",
       "      <td>4989.4071</td>\n",
       "      <td>...</td>\n",
       "      <td>41.68375</td>\n",
       "      <td>5.92500</td>\n",
       "      <td>183.00625</td>\n",
       "      <td>74.52875</td>\n",
       "      <td>67.710714</td>\n",
       "      <td>48.33875</td>\n",
       "      <td>42.52000</td>\n",
       "      <td>49.98250</td>\n",
       "      <td>16.08500</td>\n",
       "      <td>positive</td>\n",
       "    </tr>\n",
       "    <tr>\n",
       "      <th>4</th>\n",
       "      <td>3230.3287</td>\n",
       "      <td>3694.4500</td>\n",
       "      <td>3400.7400</td>\n",
       "      <td>3463.5857</td>\n",
       "      <td>2181.4202</td>\n",
       "      <td>2922.7821</td>\n",
       "      <td>2069.2463</td>\n",
       "      <td>2948.5750</td>\n",
       "      <td>3303.3712</td>\n",
       "      <td>3109.4131</td>\n",
       "      <td>...</td>\n",
       "      <td>76.60375</td>\n",
       "      <td>161.35000</td>\n",
       "      <td>61.70125</td>\n",
       "      <td>54.56375</td>\n",
       "      <td>223.359520</td>\n",
       "      <td>73.09875</td>\n",
       "      <td>57.59875</td>\n",
       "      <td>7.48875</td>\n",
       "      <td>31.81250</td>\n",
       "      <td>negative</td>\n",
       "    </tr>\n",
       "  </tbody>\n",
       "</table>\n",
       "<p>5 rows × 2001 columns</p>\n",
       "</div>"
      ],
      "text/plain": [
       "    atribut0   atribut1   atribut2   atribut3   atribut4   atribut5  \\\n",
       "0  8589.4163  5468.2409  4263.4075  4064.9357  1997.8929  5282.3250   \n",
       "1  9164.2537  6719.5295  4883.4487  3718.1589  2015.2214  5569.9071   \n",
       "2  3825.7050  6970.3614  5369.9688  4705.6500  1166.5536  1572.1679   \n",
       "3  6246.4487  7823.5341  5955.8350  3975.5643  2002.6131  2130.5429   \n",
       "4  3230.3287  3694.4500  3400.7400  3463.5857  2181.4202  2922.7821   \n",
       "\n",
       "    atribut6   atribut7   atribut8   atribut9  ...  atribut1991  atribut1992  \\\n",
       "0  2169.7200  2773.4212  7526.3862  4607.6762  ...     67.56125    259.91250   \n",
       "1  3849.0588  2793.3875  7017.7338  4802.2524  ...     92.23875     96.27625   \n",
       "2  1325.4025  1472.2587  3296.9512  2786.5821  ...     82.71500     31.10250   \n",
       "3  1531.1425  1714.6312  3869.7850  4989.4071  ...     41.68375      5.92500   \n",
       "4  2069.2463  2948.5750  3303.3712  3109.4131  ...     76.60375    161.35000   \n",
       "\n",
       "   atribut1993  atribut1994  atribut1995  atribut1996  atribut1997  \\\n",
       "0    138.89875     88.23250    39.667857     67.82875     75.67750   \n",
       "1    150.59000     82.23750    85.033333    152.19500    186.56750   \n",
       "2    193.92000     76.97250   224.620240     31.22500     42.65625   \n",
       "3    183.00625     74.52875    67.710714     48.33875     42.52000   \n",
       "4     61.70125     54.56375   223.359520     73.09875     57.59875   \n",
       "\n",
       "   atribut1998  atribut1999  atribut2000  \n",
       "0     83.52250     28.70125     negative  \n",
       "1     44.47250     16.77375     positive  \n",
       "2     16.09250     15.15625     negative  \n",
       "3     49.98250     16.08500     positive  \n",
       "4      7.48875     31.81250     negative  \n",
       "\n",
       "[5 rows x 2001 columns]"
      ]
     },
     "execution_count": 6,
     "metadata": {},
     "output_type": "execute_result"
    }
   ],
   "source": [
    "data_colon = pd.read_csv(\"data/colonTumor.csv\", header=None, names=column)\n",
    "data_colon.head()"
   ]
  },
  {
   "cell_type": "code",
   "execution_count": 7,
   "metadata": {},
   "outputs": [
    {
     "data": {
      "text/html": [
       "<div>\n",
       "<style scoped>\n",
       "    .dataframe tbody tr th:only-of-type {\n",
       "        vertical-align: middle;\n",
       "    }\n",
       "\n",
       "    .dataframe tbody tr th {\n",
       "        vertical-align: top;\n",
       "    }\n",
       "\n",
       "    .dataframe thead th {\n",
       "        text-align: right;\n",
       "    }\n",
       "</style>\n",
       "<table border=\"1\" class=\"dataframe\">\n",
       "  <thead>\n",
       "    <tr style=\"text-align: right;\">\n",
       "      <th></th>\n",
       "      <th>atribut0</th>\n",
       "      <th>atribut1</th>\n",
       "      <th>atribut2</th>\n",
       "      <th>atribut3</th>\n",
       "      <th>atribut4</th>\n",
       "      <th>atribut5</th>\n",
       "      <th>atribut6</th>\n",
       "      <th>atribut7</th>\n",
       "      <th>atribut8</th>\n",
       "      <th>atribut9</th>\n",
       "      <th>...</th>\n",
       "      <th>atribut1991</th>\n",
       "      <th>atribut1992</th>\n",
       "      <th>atribut1993</th>\n",
       "      <th>atribut1994</th>\n",
       "      <th>atribut1995</th>\n",
       "      <th>atribut1996</th>\n",
       "      <th>atribut1997</th>\n",
       "      <th>atribut1998</th>\n",
       "      <th>atribut1999</th>\n",
       "      <th>status</th>\n",
       "    </tr>\n",
       "  </thead>\n",
       "  <tbody>\n",
       "    <tr>\n",
       "      <th>0</th>\n",
       "      <td>8589.4163</td>\n",
       "      <td>5468.2409</td>\n",
       "      <td>4263.4075</td>\n",
       "      <td>4064.9357</td>\n",
       "      <td>1997.8929</td>\n",
       "      <td>5282.3250</td>\n",
       "      <td>2169.7200</td>\n",
       "      <td>2773.4212</td>\n",
       "      <td>7526.3862</td>\n",
       "      <td>4607.6762</td>\n",
       "      <td>...</td>\n",
       "      <td>67.56125</td>\n",
       "      <td>259.91250</td>\n",
       "      <td>138.89875</td>\n",
       "      <td>88.23250</td>\n",
       "      <td>39.667857</td>\n",
       "      <td>67.82875</td>\n",
       "      <td>75.67750</td>\n",
       "      <td>83.52250</td>\n",
       "      <td>28.70125</td>\n",
       "      <td>negative</td>\n",
       "    </tr>\n",
       "    <tr>\n",
       "      <th>1</th>\n",
       "      <td>9164.2537</td>\n",
       "      <td>6719.5295</td>\n",
       "      <td>4883.4487</td>\n",
       "      <td>3718.1589</td>\n",
       "      <td>2015.2214</td>\n",
       "      <td>5569.9071</td>\n",
       "      <td>3849.0588</td>\n",
       "      <td>2793.3875</td>\n",
       "      <td>7017.7338</td>\n",
       "      <td>4802.2524</td>\n",
       "      <td>...</td>\n",
       "      <td>92.23875</td>\n",
       "      <td>96.27625</td>\n",
       "      <td>150.59000</td>\n",
       "      <td>82.23750</td>\n",
       "      <td>85.033333</td>\n",
       "      <td>152.19500</td>\n",
       "      <td>186.56750</td>\n",
       "      <td>44.47250</td>\n",
       "      <td>16.77375</td>\n",
       "      <td>positive</td>\n",
       "    </tr>\n",
       "    <tr>\n",
       "      <th>2</th>\n",
       "      <td>3825.7050</td>\n",
       "      <td>6970.3614</td>\n",
       "      <td>5369.9688</td>\n",
       "      <td>4705.6500</td>\n",
       "      <td>1166.5536</td>\n",
       "      <td>1572.1679</td>\n",
       "      <td>1325.4025</td>\n",
       "      <td>1472.2587</td>\n",
       "      <td>3296.9512</td>\n",
       "      <td>2786.5821</td>\n",
       "      <td>...</td>\n",
       "      <td>82.71500</td>\n",
       "      <td>31.10250</td>\n",
       "      <td>193.92000</td>\n",
       "      <td>76.97250</td>\n",
       "      <td>224.620240</td>\n",
       "      <td>31.22500</td>\n",
       "      <td>42.65625</td>\n",
       "      <td>16.09250</td>\n",
       "      <td>15.15625</td>\n",
       "      <td>negative</td>\n",
       "    </tr>\n",
       "    <tr>\n",
       "      <th>3</th>\n",
       "      <td>6246.4487</td>\n",
       "      <td>7823.5341</td>\n",
       "      <td>5955.8350</td>\n",
       "      <td>3975.5643</td>\n",
       "      <td>2002.6131</td>\n",
       "      <td>2130.5429</td>\n",
       "      <td>1531.1425</td>\n",
       "      <td>1714.6312</td>\n",
       "      <td>3869.7850</td>\n",
       "      <td>4989.4071</td>\n",
       "      <td>...</td>\n",
       "      <td>41.68375</td>\n",
       "      <td>5.92500</td>\n",
       "      <td>183.00625</td>\n",
       "      <td>74.52875</td>\n",
       "      <td>67.710714</td>\n",
       "      <td>48.33875</td>\n",
       "      <td>42.52000</td>\n",
       "      <td>49.98250</td>\n",
       "      <td>16.08500</td>\n",
       "      <td>positive</td>\n",
       "    </tr>\n",
       "    <tr>\n",
       "      <th>4</th>\n",
       "      <td>3230.3287</td>\n",
       "      <td>3694.4500</td>\n",
       "      <td>3400.7400</td>\n",
       "      <td>3463.5857</td>\n",
       "      <td>2181.4202</td>\n",
       "      <td>2922.7821</td>\n",
       "      <td>2069.2463</td>\n",
       "      <td>2948.5750</td>\n",
       "      <td>3303.3712</td>\n",
       "      <td>3109.4131</td>\n",
       "      <td>...</td>\n",
       "      <td>76.60375</td>\n",
       "      <td>161.35000</td>\n",
       "      <td>61.70125</td>\n",
       "      <td>54.56375</td>\n",
       "      <td>223.359520</td>\n",
       "      <td>73.09875</td>\n",
       "      <td>57.59875</td>\n",
       "      <td>7.48875</td>\n",
       "      <td>31.81250</td>\n",
       "      <td>negative</td>\n",
       "    </tr>\n",
       "  </tbody>\n",
       "</table>\n",
       "<p>5 rows × 2001 columns</p>\n",
       "</div>"
      ],
      "text/plain": [
       "    atribut0   atribut1   atribut2   atribut3   atribut4   atribut5  \\\n",
       "0  8589.4163  5468.2409  4263.4075  4064.9357  1997.8929  5282.3250   \n",
       "1  9164.2537  6719.5295  4883.4487  3718.1589  2015.2214  5569.9071   \n",
       "2  3825.7050  6970.3614  5369.9688  4705.6500  1166.5536  1572.1679   \n",
       "3  6246.4487  7823.5341  5955.8350  3975.5643  2002.6131  2130.5429   \n",
       "4  3230.3287  3694.4500  3400.7400  3463.5857  2181.4202  2922.7821   \n",
       "\n",
       "    atribut6   atribut7   atribut8   atribut9  ...  atribut1991  atribut1992  \\\n",
       "0  2169.7200  2773.4212  7526.3862  4607.6762  ...     67.56125    259.91250   \n",
       "1  3849.0588  2793.3875  7017.7338  4802.2524  ...     92.23875     96.27625   \n",
       "2  1325.4025  1472.2587  3296.9512  2786.5821  ...     82.71500     31.10250   \n",
       "3  1531.1425  1714.6312  3869.7850  4989.4071  ...     41.68375      5.92500   \n",
       "4  2069.2463  2948.5750  3303.3712  3109.4131  ...     76.60375    161.35000   \n",
       "\n",
       "   atribut1993  atribut1994  atribut1995  atribut1996  atribut1997  \\\n",
       "0    138.89875     88.23250    39.667857     67.82875     75.67750   \n",
       "1    150.59000     82.23750    85.033333    152.19500    186.56750   \n",
       "2    193.92000     76.97250   224.620240     31.22500     42.65625   \n",
       "3    183.00625     74.52875    67.710714     48.33875     42.52000   \n",
       "4     61.70125     54.56375   223.359520     73.09875     57.59875   \n",
       "\n",
       "   atribut1998  atribut1999    status  \n",
       "0     83.52250     28.70125  negative  \n",
       "1     44.47250     16.77375  positive  \n",
       "2     16.09250     15.15625  negative  \n",
       "3     49.98250     16.08500  positive  \n",
       "4      7.48875     31.81250  negative  \n",
       "\n",
       "[5 rows x 2001 columns]"
      ]
     },
     "execution_count": 7,
     "metadata": {},
     "output_type": "execute_result"
    }
   ],
   "source": [
    "data_colon = data_colon.rename(columns={'atribut2000': 'status'})\n",
    "data_colon.head()"
   ]
  },
  {
   "cell_type": "code",
   "execution_count": 8,
   "metadata": {},
   "outputs": [
    {
     "data": {
      "text/html": [
       "<div>\n",
       "<style scoped>\n",
       "    .dataframe tbody tr th:only-of-type {\n",
       "        vertical-align: middle;\n",
       "    }\n",
       "\n",
       "    .dataframe tbody tr th {\n",
       "        vertical-align: top;\n",
       "    }\n",
       "\n",
       "    .dataframe thead th {\n",
       "        text-align: right;\n",
       "    }\n",
       "</style>\n",
       "<table border=\"1\" class=\"dataframe\">\n",
       "  <thead>\n",
       "    <tr style=\"text-align: right;\">\n",
       "      <th></th>\n",
       "      <th>atribut0</th>\n",
       "      <th>atribut1</th>\n",
       "      <th>atribut2</th>\n",
       "      <th>atribut3</th>\n",
       "      <th>atribut4</th>\n",
       "      <th>atribut5</th>\n",
       "      <th>atribut6</th>\n",
       "      <th>atribut7</th>\n",
       "      <th>atribut8</th>\n",
       "      <th>atribut9</th>\n",
       "      <th>...</th>\n",
       "      <th>atribut1991</th>\n",
       "      <th>atribut1992</th>\n",
       "      <th>atribut1993</th>\n",
       "      <th>atribut1994</th>\n",
       "      <th>atribut1995</th>\n",
       "      <th>atribut1996</th>\n",
       "      <th>atribut1997</th>\n",
       "      <th>atribut1998</th>\n",
       "      <th>atribut1999</th>\n",
       "      <th>status</th>\n",
       "    </tr>\n",
       "  </thead>\n",
       "  <tbody>\n",
       "    <tr>\n",
       "      <th>0</th>\n",
       "      <td>8589.4163</td>\n",
       "      <td>5468.2409</td>\n",
       "      <td>4263.4075</td>\n",
       "      <td>4064.9357</td>\n",
       "      <td>1997.8929</td>\n",
       "      <td>5282.3250</td>\n",
       "      <td>2169.7200</td>\n",
       "      <td>2773.4212</td>\n",
       "      <td>7526.3862</td>\n",
       "      <td>4607.6762</td>\n",
       "      <td>...</td>\n",
       "      <td>67.56125</td>\n",
       "      <td>259.91250</td>\n",
       "      <td>138.89875</td>\n",
       "      <td>88.23250</td>\n",
       "      <td>39.667857</td>\n",
       "      <td>67.82875</td>\n",
       "      <td>75.67750</td>\n",
       "      <td>83.52250</td>\n",
       "      <td>28.70125</td>\n",
       "      <td>0</td>\n",
       "    </tr>\n",
       "    <tr>\n",
       "      <th>1</th>\n",
       "      <td>9164.2537</td>\n",
       "      <td>6719.5295</td>\n",
       "      <td>4883.4487</td>\n",
       "      <td>3718.1589</td>\n",
       "      <td>2015.2214</td>\n",
       "      <td>5569.9071</td>\n",
       "      <td>3849.0588</td>\n",
       "      <td>2793.3875</td>\n",
       "      <td>7017.7338</td>\n",
       "      <td>4802.2524</td>\n",
       "      <td>...</td>\n",
       "      <td>92.23875</td>\n",
       "      <td>96.27625</td>\n",
       "      <td>150.59000</td>\n",
       "      <td>82.23750</td>\n",
       "      <td>85.033333</td>\n",
       "      <td>152.19500</td>\n",
       "      <td>186.56750</td>\n",
       "      <td>44.47250</td>\n",
       "      <td>16.77375</td>\n",
       "      <td>1</td>\n",
       "    </tr>\n",
       "    <tr>\n",
       "      <th>2</th>\n",
       "      <td>3825.7050</td>\n",
       "      <td>6970.3614</td>\n",
       "      <td>5369.9688</td>\n",
       "      <td>4705.6500</td>\n",
       "      <td>1166.5536</td>\n",
       "      <td>1572.1679</td>\n",
       "      <td>1325.4025</td>\n",
       "      <td>1472.2587</td>\n",
       "      <td>3296.9512</td>\n",
       "      <td>2786.5821</td>\n",
       "      <td>...</td>\n",
       "      <td>82.71500</td>\n",
       "      <td>31.10250</td>\n",
       "      <td>193.92000</td>\n",
       "      <td>76.97250</td>\n",
       "      <td>224.620240</td>\n",
       "      <td>31.22500</td>\n",
       "      <td>42.65625</td>\n",
       "      <td>16.09250</td>\n",
       "      <td>15.15625</td>\n",
       "      <td>0</td>\n",
       "    </tr>\n",
       "    <tr>\n",
       "      <th>3</th>\n",
       "      <td>6246.4487</td>\n",
       "      <td>7823.5341</td>\n",
       "      <td>5955.8350</td>\n",
       "      <td>3975.5643</td>\n",
       "      <td>2002.6131</td>\n",
       "      <td>2130.5429</td>\n",
       "      <td>1531.1425</td>\n",
       "      <td>1714.6312</td>\n",
       "      <td>3869.7850</td>\n",
       "      <td>4989.4071</td>\n",
       "      <td>...</td>\n",
       "      <td>41.68375</td>\n",
       "      <td>5.92500</td>\n",
       "      <td>183.00625</td>\n",
       "      <td>74.52875</td>\n",
       "      <td>67.710714</td>\n",
       "      <td>48.33875</td>\n",
       "      <td>42.52000</td>\n",
       "      <td>49.98250</td>\n",
       "      <td>16.08500</td>\n",
       "      <td>1</td>\n",
       "    </tr>\n",
       "    <tr>\n",
       "      <th>4</th>\n",
       "      <td>3230.3287</td>\n",
       "      <td>3694.4500</td>\n",
       "      <td>3400.7400</td>\n",
       "      <td>3463.5857</td>\n",
       "      <td>2181.4202</td>\n",
       "      <td>2922.7821</td>\n",
       "      <td>2069.2463</td>\n",
       "      <td>2948.5750</td>\n",
       "      <td>3303.3712</td>\n",
       "      <td>3109.4131</td>\n",
       "      <td>...</td>\n",
       "      <td>76.60375</td>\n",
       "      <td>161.35000</td>\n",
       "      <td>61.70125</td>\n",
       "      <td>54.56375</td>\n",
       "      <td>223.359520</td>\n",
       "      <td>73.09875</td>\n",
       "      <td>57.59875</td>\n",
       "      <td>7.48875</td>\n",
       "      <td>31.81250</td>\n",
       "      <td>0</td>\n",
       "    </tr>\n",
       "  </tbody>\n",
       "</table>\n",
       "<p>5 rows × 2001 columns</p>\n",
       "</div>"
      ],
      "text/plain": [
       "    atribut0   atribut1   atribut2   atribut3   atribut4   atribut5  \\\n",
       "0  8589.4163  5468.2409  4263.4075  4064.9357  1997.8929  5282.3250   \n",
       "1  9164.2537  6719.5295  4883.4487  3718.1589  2015.2214  5569.9071   \n",
       "2  3825.7050  6970.3614  5369.9688  4705.6500  1166.5536  1572.1679   \n",
       "3  6246.4487  7823.5341  5955.8350  3975.5643  2002.6131  2130.5429   \n",
       "4  3230.3287  3694.4500  3400.7400  3463.5857  2181.4202  2922.7821   \n",
       "\n",
       "    atribut6   atribut7   atribut8   atribut9  ...  atribut1991  atribut1992  \\\n",
       "0  2169.7200  2773.4212  7526.3862  4607.6762  ...     67.56125    259.91250   \n",
       "1  3849.0588  2793.3875  7017.7338  4802.2524  ...     92.23875     96.27625   \n",
       "2  1325.4025  1472.2587  3296.9512  2786.5821  ...     82.71500     31.10250   \n",
       "3  1531.1425  1714.6312  3869.7850  4989.4071  ...     41.68375      5.92500   \n",
       "4  2069.2463  2948.5750  3303.3712  3109.4131  ...     76.60375    161.35000   \n",
       "\n",
       "   atribut1993  atribut1994  atribut1995  atribut1996  atribut1997  \\\n",
       "0    138.89875     88.23250    39.667857     67.82875     75.67750   \n",
       "1    150.59000     82.23750    85.033333    152.19500    186.56750   \n",
       "2    193.92000     76.97250   224.620240     31.22500     42.65625   \n",
       "3    183.00625     74.52875    67.710714     48.33875     42.52000   \n",
       "4     61.70125     54.56375   223.359520     73.09875     57.59875   \n",
       "\n",
       "   atribut1998  atribut1999  status  \n",
       "0     83.52250     28.70125       0  \n",
       "1     44.47250     16.77375       1  \n",
       "2     16.09250     15.15625       0  \n",
       "3     49.98250     16.08500       1  \n",
       "4      7.48875     31.81250       0  \n",
       "\n",
       "[5 rows x 2001 columns]"
      ]
     },
     "execution_count": 8,
     "metadata": {},
     "output_type": "execute_result"
    }
   ],
   "source": [
    "data_colon.loc[data_colon['status'] == 'negative', ['status']] = 0\n",
    "data_colon.loc[data_colon['status'] == 'positive', ['status']] = 1\n",
    "data_colon.head()"
   ]
  },
  {
   "cell_type": "code",
   "execution_count": 9,
   "metadata": {},
   "outputs": [],
   "source": [
    "data_colon = data_colon.apply(pd.to_numeric)"
   ]
  },
  {
   "cell_type": "markdown",
   "metadata": {},
   "source": [
    "- Lung Cancer"
   ]
  },
  {
   "cell_type": "code",
   "execution_count": 10,
   "metadata": {},
   "outputs": [
    {
     "data": {
      "text/plain": [
       "12534"
      ]
     },
     "execution_count": 10,
     "metadata": {},
     "output_type": "execute_result"
    }
   ],
   "source": [
    "data = pd.read_csv(\"data/lungCancer_train.csv\")\n",
    "data_length = data.shape[1]\n",
    "data_length"
   ]
  },
  {
   "cell_type": "code",
   "execution_count": 11,
   "metadata": {},
   "outputs": [],
   "source": [
    "column = []\n",
    "for i in range(data_length):\n",
    "    column.append(\"atribut\"+str(i))"
   ]
  },
  {
   "cell_type": "code",
   "execution_count": 12,
   "metadata": {},
   "outputs": [
    {
     "data": {
      "text/html": [
       "<div>\n",
       "<style scoped>\n",
       "    .dataframe tbody tr th:only-of-type {\n",
       "        vertical-align: middle;\n",
       "    }\n",
       "\n",
       "    .dataframe tbody tr th {\n",
       "        vertical-align: top;\n",
       "    }\n",
       "\n",
       "    .dataframe thead th {\n",
       "        text-align: right;\n",
       "    }\n",
       "</style>\n",
       "<table border=\"1\" class=\"dataframe\">\n",
       "  <thead>\n",
       "    <tr style=\"text-align: right;\">\n",
       "      <th></th>\n",
       "      <th>atribut0</th>\n",
       "      <th>atribut1</th>\n",
       "      <th>atribut2</th>\n",
       "      <th>atribut3</th>\n",
       "      <th>atribut4</th>\n",
       "      <th>atribut5</th>\n",
       "      <th>atribut6</th>\n",
       "      <th>atribut7</th>\n",
       "      <th>atribut8</th>\n",
       "      <th>atribut9</th>\n",
       "      <th>...</th>\n",
       "      <th>atribut12524</th>\n",
       "      <th>atribut12525</th>\n",
       "      <th>atribut12526</th>\n",
       "      <th>atribut12527</th>\n",
       "      <th>atribut12528</th>\n",
       "      <th>atribut12529</th>\n",
       "      <th>atribut12530</th>\n",
       "      <th>atribut12531</th>\n",
       "      <th>atribut12532</th>\n",
       "      <th>atribut12533</th>\n",
       "    </tr>\n",
       "  </thead>\n",
       "  <tbody>\n",
       "    <tr>\n",
       "      <th>0</th>\n",
       "      <td>199.1</td>\n",
       "      <td>38.7</td>\n",
       "      <td>-1.0</td>\n",
       "      <td>-55.9</td>\n",
       "      <td>4.5</td>\n",
       "      <td>1042.5</td>\n",
       "      <td>-12.0</td>\n",
       "      <td>783.2</td>\n",
       "      <td>320.9</td>\n",
       "      <td>1384.8</td>\n",
       "      <td>...</td>\n",
       "      <td>8.6</td>\n",
       "      <td>12.7</td>\n",
       "      <td>26.3</td>\n",
       "      <td>176.9</td>\n",
       "      <td>22.2</td>\n",
       "      <td>41.8</td>\n",
       "      <td>36.1</td>\n",
       "      <td>21.8</td>\n",
       "      <td>3.2</td>\n",
       "      <td>Mesothelioma</td>\n",
       "    </tr>\n",
       "    <tr>\n",
       "      <th>1</th>\n",
       "      <td>188.5</td>\n",
       "      <td>82.0</td>\n",
       "      <td>-10.1</td>\n",
       "      <td>30.5</td>\n",
       "      <td>-6.6</td>\n",
       "      <td>877.1</td>\n",
       "      <td>71.0</td>\n",
       "      <td>309.9</td>\n",
       "      <td>2347.2</td>\n",
       "      <td>1017.6</td>\n",
       "      <td>...</td>\n",
       "      <td>14.5</td>\n",
       "      <td>-32.3</td>\n",
       "      <td>24.0</td>\n",
       "      <td>78.5</td>\n",
       "      <td>24.4</td>\n",
       "      <td>52.6</td>\n",
       "      <td>28.9</td>\n",
       "      <td>-6.6</td>\n",
       "      <td>40.6</td>\n",
       "      <td>Mesothelioma</td>\n",
       "    </tr>\n",
       "    <tr>\n",
       "      <th>2</th>\n",
       "      <td>284.1</td>\n",
       "      <td>35.6</td>\n",
       "      <td>-19.6</td>\n",
       "      <td>-111.2</td>\n",
       "      <td>-25.0</td>\n",
       "      <td>993.4</td>\n",
       "      <td>11.3</td>\n",
       "      <td>594.1</td>\n",
       "      <td>485.4</td>\n",
       "      <td>843.9</td>\n",
       "      <td>...</td>\n",
       "      <td>13.2</td>\n",
       "      <td>59.0</td>\n",
       "      <td>1.8</td>\n",
       "      <td>49.3</td>\n",
       "      <td>1.5</td>\n",
       "      <td>52.2</td>\n",
       "      <td>257.0</td>\n",
       "      <td>25.1</td>\n",
       "      <td>-79.6</td>\n",
       "      <td>Mesothelioma</td>\n",
       "    </tr>\n",
       "    <tr>\n",
       "      <th>3</th>\n",
       "      <td>204.5</td>\n",
       "      <td>20.4</td>\n",
       "      <td>9.4</td>\n",
       "      <td>-99.5</td>\n",
       "      <td>-10.1</td>\n",
       "      <td>273.9</td>\n",
       "      <td>22.8</td>\n",
       "      <td>713.3</td>\n",
       "      <td>250.0</td>\n",
       "      <td>1212.2</td>\n",
       "      <td>...</td>\n",
       "      <td>18.9</td>\n",
       "      <td>18.7</td>\n",
       "      <td>28.5</td>\n",
       "      <td>193.3</td>\n",
       "      <td>5.4</td>\n",
       "      <td>41.7</td>\n",
       "      <td>4.5</td>\n",
       "      <td>11.2</td>\n",
       "      <td>-43.3</td>\n",
       "      <td>Mesothelioma</td>\n",
       "    </tr>\n",
       "    <tr>\n",
       "      <th>4</th>\n",
       "      <td>213.1</td>\n",
       "      <td>98.3</td>\n",
       "      <td>31.4</td>\n",
       "      <td>46.1</td>\n",
       "      <td>75.0</td>\n",
       "      <td>1568.6</td>\n",
       "      <td>17.8</td>\n",
       "      <td>769.2</td>\n",
       "      <td>4540.3</td>\n",
       "      <td>947.6</td>\n",
       "      <td>...</td>\n",
       "      <td>14.7</td>\n",
       "      <td>68.9</td>\n",
       "      <td>25.5</td>\n",
       "      <td>40.9</td>\n",
       "      <td>-38.2</td>\n",
       "      <td>27.7</td>\n",
       "      <td>62.2</td>\n",
       "      <td>8.3</td>\n",
       "      <td>-172.5</td>\n",
       "      <td>Mesothelioma</td>\n",
       "    </tr>\n",
       "  </tbody>\n",
       "</table>\n",
       "<p>5 rows × 12534 columns</p>\n",
       "</div>"
      ],
      "text/plain": [
       "   atribut0  atribut1  atribut2  atribut3  atribut4  atribut5  atribut6  \\\n",
       "0     199.1      38.7      -1.0     -55.9       4.5    1042.5     -12.0   \n",
       "1     188.5      82.0     -10.1      30.5      -6.6     877.1      71.0   \n",
       "2     284.1      35.6     -19.6    -111.2     -25.0     993.4      11.3   \n",
       "3     204.5      20.4       9.4     -99.5     -10.1     273.9      22.8   \n",
       "4     213.1      98.3      31.4      46.1      75.0    1568.6      17.8   \n",
       "\n",
       "   atribut7  atribut8  atribut9  ...  atribut12524  atribut12525  \\\n",
       "0     783.2     320.9    1384.8  ...           8.6          12.7   \n",
       "1     309.9    2347.2    1017.6  ...          14.5         -32.3   \n",
       "2     594.1     485.4     843.9  ...          13.2          59.0   \n",
       "3     713.3     250.0    1212.2  ...          18.9          18.7   \n",
       "4     769.2    4540.3     947.6  ...          14.7          68.9   \n",
       "\n",
       "   atribut12526  atribut12527  atribut12528  atribut12529  atribut12530  \\\n",
       "0          26.3         176.9          22.2          41.8          36.1   \n",
       "1          24.0          78.5          24.4          52.6          28.9   \n",
       "2           1.8          49.3           1.5          52.2         257.0   \n",
       "3          28.5         193.3           5.4          41.7           4.5   \n",
       "4          25.5          40.9         -38.2          27.7          62.2   \n",
       "\n",
       "   atribut12531  atribut12532  atribut12533  \n",
       "0          21.8           3.2  Mesothelioma  \n",
       "1          -6.6          40.6  Mesothelioma  \n",
       "2          25.1         -79.6  Mesothelioma  \n",
       "3          11.2         -43.3  Mesothelioma  \n",
       "4           8.3        -172.5  Mesothelioma  \n",
       "\n",
       "[5 rows x 12534 columns]"
      ]
     },
     "execution_count": 12,
     "metadata": {},
     "output_type": "execute_result"
    }
   ],
   "source": [
    "data_lung = pd.read_csv(\"data/lungCancer_train.csv\", header=None, names=column)\n",
    "data_lung = data_lung.append(pd.read_csv(\"data/lungCancer_test.csv\", header=None, names=column))\n",
    "data_lung.head()"
   ]
  },
  {
   "cell_type": "code",
   "execution_count": 13,
   "metadata": {},
   "outputs": [
    {
     "data": {
      "text/html": [
       "<div>\n",
       "<style scoped>\n",
       "    .dataframe tbody tr th:only-of-type {\n",
       "        vertical-align: middle;\n",
       "    }\n",
       "\n",
       "    .dataframe tbody tr th {\n",
       "        vertical-align: top;\n",
       "    }\n",
       "\n",
       "    .dataframe thead th {\n",
       "        text-align: right;\n",
       "    }\n",
       "</style>\n",
       "<table border=\"1\" class=\"dataframe\">\n",
       "  <thead>\n",
       "    <tr style=\"text-align: right;\">\n",
       "      <th></th>\n",
       "      <th>atribut0</th>\n",
       "      <th>atribut1</th>\n",
       "      <th>atribut2</th>\n",
       "      <th>atribut3</th>\n",
       "      <th>atribut4</th>\n",
       "      <th>atribut5</th>\n",
       "      <th>atribut6</th>\n",
       "      <th>atribut7</th>\n",
       "      <th>atribut8</th>\n",
       "      <th>atribut9</th>\n",
       "      <th>...</th>\n",
       "      <th>atribut12524</th>\n",
       "      <th>atribut12525</th>\n",
       "      <th>atribut12526</th>\n",
       "      <th>atribut12527</th>\n",
       "      <th>atribut12528</th>\n",
       "      <th>atribut12529</th>\n",
       "      <th>atribut12530</th>\n",
       "      <th>atribut12531</th>\n",
       "      <th>atribut12532</th>\n",
       "      <th>status</th>\n",
       "    </tr>\n",
       "  </thead>\n",
       "  <tbody>\n",
       "    <tr>\n",
       "      <th>0</th>\n",
       "      <td>199.1</td>\n",
       "      <td>38.7</td>\n",
       "      <td>-1.0</td>\n",
       "      <td>-55.9</td>\n",
       "      <td>4.5</td>\n",
       "      <td>1042.5</td>\n",
       "      <td>-12.0</td>\n",
       "      <td>783.2</td>\n",
       "      <td>320.9</td>\n",
       "      <td>1384.8</td>\n",
       "      <td>...</td>\n",
       "      <td>8.6</td>\n",
       "      <td>12.7</td>\n",
       "      <td>26.3</td>\n",
       "      <td>176.9</td>\n",
       "      <td>22.2</td>\n",
       "      <td>41.8</td>\n",
       "      <td>36.1</td>\n",
       "      <td>21.8</td>\n",
       "      <td>3.2</td>\n",
       "      <td>Mesothelioma</td>\n",
       "    </tr>\n",
       "    <tr>\n",
       "      <th>1</th>\n",
       "      <td>188.5</td>\n",
       "      <td>82.0</td>\n",
       "      <td>-10.1</td>\n",
       "      <td>30.5</td>\n",
       "      <td>-6.6</td>\n",
       "      <td>877.1</td>\n",
       "      <td>71.0</td>\n",
       "      <td>309.9</td>\n",
       "      <td>2347.2</td>\n",
       "      <td>1017.6</td>\n",
       "      <td>...</td>\n",
       "      <td>14.5</td>\n",
       "      <td>-32.3</td>\n",
       "      <td>24.0</td>\n",
       "      <td>78.5</td>\n",
       "      <td>24.4</td>\n",
       "      <td>52.6</td>\n",
       "      <td>28.9</td>\n",
       "      <td>-6.6</td>\n",
       "      <td>40.6</td>\n",
       "      <td>Mesothelioma</td>\n",
       "    </tr>\n",
       "    <tr>\n",
       "      <th>2</th>\n",
       "      <td>284.1</td>\n",
       "      <td>35.6</td>\n",
       "      <td>-19.6</td>\n",
       "      <td>-111.2</td>\n",
       "      <td>-25.0</td>\n",
       "      <td>993.4</td>\n",
       "      <td>11.3</td>\n",
       "      <td>594.1</td>\n",
       "      <td>485.4</td>\n",
       "      <td>843.9</td>\n",
       "      <td>...</td>\n",
       "      <td>13.2</td>\n",
       "      <td>59.0</td>\n",
       "      <td>1.8</td>\n",
       "      <td>49.3</td>\n",
       "      <td>1.5</td>\n",
       "      <td>52.2</td>\n",
       "      <td>257.0</td>\n",
       "      <td>25.1</td>\n",
       "      <td>-79.6</td>\n",
       "      <td>Mesothelioma</td>\n",
       "    </tr>\n",
       "    <tr>\n",
       "      <th>3</th>\n",
       "      <td>204.5</td>\n",
       "      <td>20.4</td>\n",
       "      <td>9.4</td>\n",
       "      <td>-99.5</td>\n",
       "      <td>-10.1</td>\n",
       "      <td>273.9</td>\n",
       "      <td>22.8</td>\n",
       "      <td>713.3</td>\n",
       "      <td>250.0</td>\n",
       "      <td>1212.2</td>\n",
       "      <td>...</td>\n",
       "      <td>18.9</td>\n",
       "      <td>18.7</td>\n",
       "      <td>28.5</td>\n",
       "      <td>193.3</td>\n",
       "      <td>5.4</td>\n",
       "      <td>41.7</td>\n",
       "      <td>4.5</td>\n",
       "      <td>11.2</td>\n",
       "      <td>-43.3</td>\n",
       "      <td>Mesothelioma</td>\n",
       "    </tr>\n",
       "    <tr>\n",
       "      <th>4</th>\n",
       "      <td>213.1</td>\n",
       "      <td>98.3</td>\n",
       "      <td>31.4</td>\n",
       "      <td>46.1</td>\n",
       "      <td>75.0</td>\n",
       "      <td>1568.6</td>\n",
       "      <td>17.8</td>\n",
       "      <td>769.2</td>\n",
       "      <td>4540.3</td>\n",
       "      <td>947.6</td>\n",
       "      <td>...</td>\n",
       "      <td>14.7</td>\n",
       "      <td>68.9</td>\n",
       "      <td>25.5</td>\n",
       "      <td>40.9</td>\n",
       "      <td>-38.2</td>\n",
       "      <td>27.7</td>\n",
       "      <td>62.2</td>\n",
       "      <td>8.3</td>\n",
       "      <td>-172.5</td>\n",
       "      <td>Mesothelioma</td>\n",
       "    </tr>\n",
       "  </tbody>\n",
       "</table>\n",
       "<p>5 rows × 12534 columns</p>\n",
       "</div>"
      ],
      "text/plain": [
       "   atribut0  atribut1  atribut2  atribut3  atribut4  atribut5  atribut6  \\\n",
       "0     199.1      38.7      -1.0     -55.9       4.5    1042.5     -12.0   \n",
       "1     188.5      82.0     -10.1      30.5      -6.6     877.1      71.0   \n",
       "2     284.1      35.6     -19.6    -111.2     -25.0     993.4      11.3   \n",
       "3     204.5      20.4       9.4     -99.5     -10.1     273.9      22.8   \n",
       "4     213.1      98.3      31.4      46.1      75.0    1568.6      17.8   \n",
       "\n",
       "   atribut7  atribut8  atribut9  ...  atribut12524  atribut12525  \\\n",
       "0     783.2     320.9    1384.8  ...           8.6          12.7   \n",
       "1     309.9    2347.2    1017.6  ...          14.5         -32.3   \n",
       "2     594.1     485.4     843.9  ...          13.2          59.0   \n",
       "3     713.3     250.0    1212.2  ...          18.9          18.7   \n",
       "4     769.2    4540.3     947.6  ...          14.7          68.9   \n",
       "\n",
       "   atribut12526  atribut12527  atribut12528  atribut12529  atribut12530  \\\n",
       "0          26.3         176.9          22.2          41.8          36.1   \n",
       "1          24.0          78.5          24.4          52.6          28.9   \n",
       "2           1.8          49.3           1.5          52.2         257.0   \n",
       "3          28.5         193.3           5.4          41.7           4.5   \n",
       "4          25.5          40.9         -38.2          27.7          62.2   \n",
       "\n",
       "   atribut12531  atribut12532        status  \n",
       "0          21.8           3.2  Mesothelioma  \n",
       "1          -6.6          40.6  Mesothelioma  \n",
       "2          25.1         -79.6  Mesothelioma  \n",
       "3          11.2         -43.3  Mesothelioma  \n",
       "4           8.3        -172.5  Mesothelioma  \n",
       "\n",
       "[5 rows x 12534 columns]"
      ]
     },
     "execution_count": 13,
     "metadata": {},
     "output_type": "execute_result"
    }
   ],
   "source": [
    "data_lung = data_lung.rename(columns={'atribut12533': 'status'})\n",
    "data_lung.head()"
   ]
  },
  {
   "cell_type": "code",
   "execution_count": 14,
   "metadata": {},
   "outputs": [
    {
     "data": {
      "text/html": [
       "<div>\n",
       "<style scoped>\n",
       "    .dataframe tbody tr th:only-of-type {\n",
       "        vertical-align: middle;\n",
       "    }\n",
       "\n",
       "    .dataframe tbody tr th {\n",
       "        vertical-align: top;\n",
       "    }\n",
       "\n",
       "    .dataframe thead th {\n",
       "        text-align: right;\n",
       "    }\n",
       "</style>\n",
       "<table border=\"1\" class=\"dataframe\">\n",
       "  <thead>\n",
       "    <tr style=\"text-align: right;\">\n",
       "      <th></th>\n",
       "      <th>atribut0</th>\n",
       "      <th>atribut1</th>\n",
       "      <th>atribut2</th>\n",
       "      <th>atribut3</th>\n",
       "      <th>atribut4</th>\n",
       "      <th>atribut5</th>\n",
       "      <th>atribut6</th>\n",
       "      <th>atribut7</th>\n",
       "      <th>atribut8</th>\n",
       "      <th>atribut9</th>\n",
       "      <th>...</th>\n",
       "      <th>atribut12524</th>\n",
       "      <th>atribut12525</th>\n",
       "      <th>atribut12526</th>\n",
       "      <th>atribut12527</th>\n",
       "      <th>atribut12528</th>\n",
       "      <th>atribut12529</th>\n",
       "      <th>atribut12530</th>\n",
       "      <th>atribut12531</th>\n",
       "      <th>atribut12532</th>\n",
       "      <th>status</th>\n",
       "    </tr>\n",
       "  </thead>\n",
       "  <tbody>\n",
       "    <tr>\n",
       "      <th>0</th>\n",
       "      <td>199.1</td>\n",
       "      <td>38.7</td>\n",
       "      <td>-1.0</td>\n",
       "      <td>-55.9</td>\n",
       "      <td>4.5</td>\n",
       "      <td>1042.5</td>\n",
       "      <td>-12.0</td>\n",
       "      <td>783.2</td>\n",
       "      <td>320.9</td>\n",
       "      <td>1384.8</td>\n",
       "      <td>...</td>\n",
       "      <td>8.6</td>\n",
       "      <td>12.7</td>\n",
       "      <td>26.3</td>\n",
       "      <td>176.9</td>\n",
       "      <td>22.2</td>\n",
       "      <td>41.8</td>\n",
       "      <td>36.1</td>\n",
       "      <td>21.8</td>\n",
       "      <td>3.2</td>\n",
       "      <td>1</td>\n",
       "    </tr>\n",
       "    <tr>\n",
       "      <th>1</th>\n",
       "      <td>188.5</td>\n",
       "      <td>82.0</td>\n",
       "      <td>-10.1</td>\n",
       "      <td>30.5</td>\n",
       "      <td>-6.6</td>\n",
       "      <td>877.1</td>\n",
       "      <td>71.0</td>\n",
       "      <td>309.9</td>\n",
       "      <td>2347.2</td>\n",
       "      <td>1017.6</td>\n",
       "      <td>...</td>\n",
       "      <td>14.5</td>\n",
       "      <td>-32.3</td>\n",
       "      <td>24.0</td>\n",
       "      <td>78.5</td>\n",
       "      <td>24.4</td>\n",
       "      <td>52.6</td>\n",
       "      <td>28.9</td>\n",
       "      <td>-6.6</td>\n",
       "      <td>40.6</td>\n",
       "      <td>1</td>\n",
       "    </tr>\n",
       "    <tr>\n",
       "      <th>2</th>\n",
       "      <td>284.1</td>\n",
       "      <td>35.6</td>\n",
       "      <td>-19.6</td>\n",
       "      <td>-111.2</td>\n",
       "      <td>-25.0</td>\n",
       "      <td>993.4</td>\n",
       "      <td>11.3</td>\n",
       "      <td>594.1</td>\n",
       "      <td>485.4</td>\n",
       "      <td>843.9</td>\n",
       "      <td>...</td>\n",
       "      <td>13.2</td>\n",
       "      <td>59.0</td>\n",
       "      <td>1.8</td>\n",
       "      <td>49.3</td>\n",
       "      <td>1.5</td>\n",
       "      <td>52.2</td>\n",
       "      <td>257.0</td>\n",
       "      <td>25.1</td>\n",
       "      <td>-79.6</td>\n",
       "      <td>1</td>\n",
       "    </tr>\n",
       "    <tr>\n",
       "      <th>3</th>\n",
       "      <td>204.5</td>\n",
       "      <td>20.4</td>\n",
       "      <td>9.4</td>\n",
       "      <td>-99.5</td>\n",
       "      <td>-10.1</td>\n",
       "      <td>273.9</td>\n",
       "      <td>22.8</td>\n",
       "      <td>713.3</td>\n",
       "      <td>250.0</td>\n",
       "      <td>1212.2</td>\n",
       "      <td>...</td>\n",
       "      <td>18.9</td>\n",
       "      <td>18.7</td>\n",
       "      <td>28.5</td>\n",
       "      <td>193.3</td>\n",
       "      <td>5.4</td>\n",
       "      <td>41.7</td>\n",
       "      <td>4.5</td>\n",
       "      <td>11.2</td>\n",
       "      <td>-43.3</td>\n",
       "      <td>1</td>\n",
       "    </tr>\n",
       "    <tr>\n",
       "      <th>4</th>\n",
       "      <td>213.1</td>\n",
       "      <td>98.3</td>\n",
       "      <td>31.4</td>\n",
       "      <td>46.1</td>\n",
       "      <td>75.0</td>\n",
       "      <td>1568.6</td>\n",
       "      <td>17.8</td>\n",
       "      <td>769.2</td>\n",
       "      <td>4540.3</td>\n",
       "      <td>947.6</td>\n",
       "      <td>...</td>\n",
       "      <td>14.7</td>\n",
       "      <td>68.9</td>\n",
       "      <td>25.5</td>\n",
       "      <td>40.9</td>\n",
       "      <td>-38.2</td>\n",
       "      <td>27.7</td>\n",
       "      <td>62.2</td>\n",
       "      <td>8.3</td>\n",
       "      <td>-172.5</td>\n",
       "      <td>1</td>\n",
       "    </tr>\n",
       "  </tbody>\n",
       "</table>\n",
       "<p>5 rows × 12534 columns</p>\n",
       "</div>"
      ],
      "text/plain": [
       "   atribut0  atribut1  atribut2  atribut3  atribut4  atribut5  atribut6  \\\n",
       "0     199.1      38.7      -1.0     -55.9       4.5    1042.5     -12.0   \n",
       "1     188.5      82.0     -10.1      30.5      -6.6     877.1      71.0   \n",
       "2     284.1      35.6     -19.6    -111.2     -25.0     993.4      11.3   \n",
       "3     204.5      20.4       9.4     -99.5     -10.1     273.9      22.8   \n",
       "4     213.1      98.3      31.4      46.1      75.0    1568.6      17.8   \n",
       "\n",
       "   atribut7  atribut8  atribut9  ...  atribut12524  atribut12525  \\\n",
       "0     783.2     320.9    1384.8  ...           8.6          12.7   \n",
       "1     309.9    2347.2    1017.6  ...          14.5         -32.3   \n",
       "2     594.1     485.4     843.9  ...          13.2          59.0   \n",
       "3     713.3     250.0    1212.2  ...          18.9          18.7   \n",
       "4     769.2    4540.3     947.6  ...          14.7          68.9   \n",
       "\n",
       "   atribut12526  atribut12527  atribut12528  atribut12529  atribut12530  \\\n",
       "0          26.3         176.9          22.2          41.8          36.1   \n",
       "1          24.0          78.5          24.4          52.6          28.9   \n",
       "2           1.8          49.3           1.5          52.2         257.0   \n",
       "3          28.5         193.3           5.4          41.7           4.5   \n",
       "4          25.5          40.9         -38.2          27.7          62.2   \n",
       "\n",
       "   atribut12531  atribut12532  status  \n",
       "0          21.8           3.2       1  \n",
       "1          -6.6          40.6       1  \n",
       "2          25.1         -79.6       1  \n",
       "3          11.2         -43.3       1  \n",
       "4           8.3        -172.5       1  \n",
       "\n",
       "[5 rows x 12534 columns]"
      ]
     },
     "execution_count": 14,
     "metadata": {},
     "output_type": "execute_result"
    }
   ],
   "source": [
    "data_lung.loc[data_lung['status'] == 'ADCA', ['status']] = 0\n",
    "data_lung.loc[data_lung['status'] == 'Mesothelioma', ['status']] = 1\n",
    "data_lung.head()"
   ]
  },
  {
   "cell_type": "code",
   "execution_count": 15,
   "metadata": {},
   "outputs": [],
   "source": [
    "data_lung = data_lung.apply(pd.to_numeric)"
   ]
  },
  {
   "cell_type": "markdown",
   "metadata": {},
   "source": [
    "- Ovarian Cancer"
   ]
  },
  {
   "cell_type": "code",
   "execution_count": 16,
   "metadata": {},
   "outputs": [
    {
     "data": {
      "text/plain": [
       "15155"
      ]
     },
     "execution_count": 16,
     "metadata": {},
     "output_type": "execute_result"
    }
   ],
   "source": [
    "data = pd.read_csv(\"data/ovarian_61902.csv\")\n",
    "data_length = data.shape[1]\n",
    "data_length"
   ]
  },
  {
   "cell_type": "code",
   "execution_count": 17,
   "metadata": {},
   "outputs": [],
   "source": [
    "column = []\n",
    "for i in range(data_length):\n",
    "    column.append(\"atribut\"+str(i))"
   ]
  },
  {
   "cell_type": "code",
   "execution_count": 18,
   "metadata": {},
   "outputs": [
    {
     "data": {
      "text/html": [
       "<div>\n",
       "<style scoped>\n",
       "    .dataframe tbody tr th:only-of-type {\n",
       "        vertical-align: middle;\n",
       "    }\n",
       "\n",
       "    .dataframe tbody tr th {\n",
       "        vertical-align: top;\n",
       "    }\n",
       "\n",
       "    .dataframe thead th {\n",
       "        text-align: right;\n",
       "    }\n",
       "</style>\n",
       "<table border=\"1\" class=\"dataframe\">\n",
       "  <thead>\n",
       "    <tr style=\"text-align: right;\">\n",
       "      <th></th>\n",
       "      <th>atribut0</th>\n",
       "      <th>atribut1</th>\n",
       "      <th>atribut2</th>\n",
       "      <th>atribut3</th>\n",
       "      <th>atribut4</th>\n",
       "      <th>atribut5</th>\n",
       "      <th>atribut6</th>\n",
       "      <th>atribut7</th>\n",
       "      <th>atribut8</th>\n",
       "      <th>atribut9</th>\n",
       "      <th>...</th>\n",
       "      <th>atribut15145</th>\n",
       "      <th>atribut15146</th>\n",
       "      <th>atribut15147</th>\n",
       "      <th>atribut15148</th>\n",
       "      <th>atribut15149</th>\n",
       "      <th>atribut15150</th>\n",
       "      <th>atribut15151</th>\n",
       "      <th>atribut15152</th>\n",
       "      <th>atribut15153</th>\n",
       "      <th>atribut15154</th>\n",
       "    </tr>\n",
       "  </thead>\n",
       "  <tbody>\n",
       "    <tr>\n",
       "      <th>0</th>\n",
       "      <td>0.494626</td>\n",
       "      <td>0.263735</td>\n",
       "      <td>0.321841</td>\n",
       "      <td>0.220934</td>\n",
       "      <td>0.297622</td>\n",
       "      <td>0.316458</td>\n",
       "      <td>0.154763</td>\n",
       "      <td>0.223685</td>\n",
       "      <td>0.304346</td>\n",
       "      <td>0.241757</td>\n",
       "      <td>...</td>\n",
       "      <td>0.483622</td>\n",
       "      <td>0.449296</td>\n",
       "      <td>0.449296</td>\n",
       "      <td>0.449296</td>\n",
       "      <td>0.449296</td>\n",
       "      <td>0.449296</td>\n",
       "      <td>0.449296</td>\n",
       "      <td>0.449296</td>\n",
       "      <td>0.449296</td>\n",
       "      <td>Normal</td>\n",
       "    </tr>\n",
       "    <tr>\n",
       "      <th>1</th>\n",
       "      <td>0.258063</td>\n",
       "      <td>0.406593</td>\n",
       "      <td>0.321841</td>\n",
       "      <td>0.069771</td>\n",
       "      <td>0.333335</td>\n",
       "      <td>0.354432</td>\n",
       "      <td>0.321431</td>\n",
       "      <td>0.144740</td>\n",
       "      <td>0.260869</td>\n",
       "      <td>0.142853</td>\n",
       "      <td>...</td>\n",
       "      <td>0.631765</td>\n",
       "      <td>0.619718</td>\n",
       "      <td>0.619718</td>\n",
       "      <td>0.619718</td>\n",
       "      <td>0.619718</td>\n",
       "      <td>0.619718</td>\n",
       "      <td>0.619718</td>\n",
       "      <td>0.619718</td>\n",
       "      <td>0.619718</td>\n",
       "      <td>Normal</td>\n",
       "    </tr>\n",
       "    <tr>\n",
       "      <th>2</th>\n",
       "      <td>0.537636</td>\n",
       "      <td>0.032966</td>\n",
       "      <td>0.321841</td>\n",
       "      <td>0.209307</td>\n",
       "      <td>0.404762</td>\n",
       "      <td>0.113927</td>\n",
       "      <td>0.369049</td>\n",
       "      <td>0.223685</td>\n",
       "      <td>0.536231</td>\n",
       "      <td>0.131865</td>\n",
       "      <td>...</td>\n",
       "      <td>0.038462</td>\n",
       "      <td>0.035918</td>\n",
       "      <td>0.035918</td>\n",
       "      <td>0.035918</td>\n",
       "      <td>0.035918</td>\n",
       "      <td>0.035918</td>\n",
       "      <td>0.035918</td>\n",
       "      <td>0.035918</td>\n",
       "      <td>0.035918</td>\n",
       "      <td>Normal</td>\n",
       "    </tr>\n",
       "    <tr>\n",
       "      <th>3</th>\n",
       "      <td>0.000000</td>\n",
       "      <td>0.395605</td>\n",
       "      <td>0.310347</td>\n",
       "      <td>0.197673</td>\n",
       "      <td>0.404762</td>\n",
       "      <td>0.455701</td>\n",
       "      <td>0.416666</td>\n",
       "      <td>0.210527</td>\n",
       "      <td>0.420292</td>\n",
       "      <td>0.274723</td>\n",
       "      <td>...</td>\n",
       "      <td>0.497864</td>\n",
       "      <td>0.486621</td>\n",
       "      <td>0.486621</td>\n",
       "      <td>0.486621</td>\n",
       "      <td>0.486621</td>\n",
       "      <td>0.486621</td>\n",
       "      <td>0.486621</td>\n",
       "      <td>0.486621</td>\n",
       "      <td>0.486621</td>\n",
       "      <td>Normal</td>\n",
       "    </tr>\n",
       "    <tr>\n",
       "      <th>4</th>\n",
       "      <td>0.526884</td>\n",
       "      <td>0.395605</td>\n",
       "      <td>0.367817</td>\n",
       "      <td>0.383719</td>\n",
       "      <td>0.488099</td>\n",
       "      <td>0.392405</td>\n",
       "      <td>0.238094</td>\n",
       "      <td>0.500000</td>\n",
       "      <td>0.362316</td>\n",
       "      <td>0.274723</td>\n",
       "      <td>...</td>\n",
       "      <td>0.267096</td>\n",
       "      <td>0.251408</td>\n",
       "      <td>0.251408</td>\n",
       "      <td>0.251408</td>\n",
       "      <td>0.251408</td>\n",
       "      <td>0.251408</td>\n",
       "      <td>0.251408</td>\n",
       "      <td>0.251408</td>\n",
       "      <td>0.251408</td>\n",
       "      <td>Normal</td>\n",
       "    </tr>\n",
       "  </tbody>\n",
       "</table>\n",
       "<p>5 rows × 15155 columns</p>\n",
       "</div>"
      ],
      "text/plain": [
       "   atribut0  atribut1  atribut2  atribut3  atribut4  atribut5  atribut6  \\\n",
       "0  0.494626  0.263735  0.321841  0.220934  0.297622  0.316458  0.154763   \n",
       "1  0.258063  0.406593  0.321841  0.069771  0.333335  0.354432  0.321431   \n",
       "2  0.537636  0.032966  0.321841  0.209307  0.404762  0.113927  0.369049   \n",
       "3  0.000000  0.395605  0.310347  0.197673  0.404762  0.455701  0.416666   \n",
       "4  0.526884  0.395605  0.367817  0.383719  0.488099  0.392405  0.238094   \n",
       "\n",
       "   atribut7  atribut8  atribut9  ...  atribut15145  atribut15146  \\\n",
       "0  0.223685  0.304346  0.241757  ...      0.483622      0.449296   \n",
       "1  0.144740  0.260869  0.142853  ...      0.631765      0.619718   \n",
       "2  0.223685  0.536231  0.131865  ...      0.038462      0.035918   \n",
       "3  0.210527  0.420292  0.274723  ...      0.497864      0.486621   \n",
       "4  0.500000  0.362316  0.274723  ...      0.267096      0.251408   \n",
       "\n",
       "   atribut15147  atribut15148  atribut15149  atribut15150  atribut15151  \\\n",
       "0      0.449296      0.449296      0.449296      0.449296      0.449296   \n",
       "1      0.619718      0.619718      0.619718      0.619718      0.619718   \n",
       "2      0.035918      0.035918      0.035918      0.035918      0.035918   \n",
       "3      0.486621      0.486621      0.486621      0.486621      0.486621   \n",
       "4      0.251408      0.251408      0.251408      0.251408      0.251408   \n",
       "\n",
       "   atribut15152  atribut15153  atribut15154  \n",
       "0      0.449296      0.449296        Normal  \n",
       "1      0.619718      0.619718        Normal  \n",
       "2      0.035918      0.035918        Normal  \n",
       "3      0.486621      0.486621        Normal  \n",
       "4      0.251408      0.251408        Normal  \n",
       "\n",
       "[5 rows x 15155 columns]"
      ]
     },
     "execution_count": 18,
     "metadata": {},
     "output_type": "execute_result"
    }
   ],
   "source": [
    "data_ovarian = pd.read_csv(\"data/ovarian_61902.csv\", header=None, names=column)\n",
    "data_ovarian.head()"
   ]
  },
  {
   "cell_type": "code",
   "execution_count": 19,
   "metadata": {},
   "outputs": [
    {
     "data": {
      "text/html": [
       "<div>\n",
       "<style scoped>\n",
       "    .dataframe tbody tr th:only-of-type {\n",
       "        vertical-align: middle;\n",
       "    }\n",
       "\n",
       "    .dataframe tbody tr th {\n",
       "        vertical-align: top;\n",
       "    }\n",
       "\n",
       "    .dataframe thead th {\n",
       "        text-align: right;\n",
       "    }\n",
       "</style>\n",
       "<table border=\"1\" class=\"dataframe\">\n",
       "  <thead>\n",
       "    <tr style=\"text-align: right;\">\n",
       "      <th></th>\n",
       "      <th>atribut0</th>\n",
       "      <th>atribut1</th>\n",
       "      <th>atribut2</th>\n",
       "      <th>atribut3</th>\n",
       "      <th>atribut4</th>\n",
       "      <th>atribut5</th>\n",
       "      <th>atribut6</th>\n",
       "      <th>atribut7</th>\n",
       "      <th>atribut8</th>\n",
       "      <th>atribut9</th>\n",
       "      <th>...</th>\n",
       "      <th>atribut15145</th>\n",
       "      <th>atribut15146</th>\n",
       "      <th>atribut15147</th>\n",
       "      <th>atribut15148</th>\n",
       "      <th>atribut15149</th>\n",
       "      <th>atribut15150</th>\n",
       "      <th>atribut15151</th>\n",
       "      <th>atribut15152</th>\n",
       "      <th>atribut15153</th>\n",
       "      <th>status</th>\n",
       "    </tr>\n",
       "  </thead>\n",
       "  <tbody>\n",
       "    <tr>\n",
       "      <th>0</th>\n",
       "      <td>0.494626</td>\n",
       "      <td>0.263735</td>\n",
       "      <td>0.321841</td>\n",
       "      <td>0.220934</td>\n",
       "      <td>0.297622</td>\n",
       "      <td>0.316458</td>\n",
       "      <td>0.154763</td>\n",
       "      <td>0.223685</td>\n",
       "      <td>0.304346</td>\n",
       "      <td>0.241757</td>\n",
       "      <td>...</td>\n",
       "      <td>0.483622</td>\n",
       "      <td>0.449296</td>\n",
       "      <td>0.449296</td>\n",
       "      <td>0.449296</td>\n",
       "      <td>0.449296</td>\n",
       "      <td>0.449296</td>\n",
       "      <td>0.449296</td>\n",
       "      <td>0.449296</td>\n",
       "      <td>0.449296</td>\n",
       "      <td>Normal</td>\n",
       "    </tr>\n",
       "    <tr>\n",
       "      <th>1</th>\n",
       "      <td>0.258063</td>\n",
       "      <td>0.406593</td>\n",
       "      <td>0.321841</td>\n",
       "      <td>0.069771</td>\n",
       "      <td>0.333335</td>\n",
       "      <td>0.354432</td>\n",
       "      <td>0.321431</td>\n",
       "      <td>0.144740</td>\n",
       "      <td>0.260869</td>\n",
       "      <td>0.142853</td>\n",
       "      <td>...</td>\n",
       "      <td>0.631765</td>\n",
       "      <td>0.619718</td>\n",
       "      <td>0.619718</td>\n",
       "      <td>0.619718</td>\n",
       "      <td>0.619718</td>\n",
       "      <td>0.619718</td>\n",
       "      <td>0.619718</td>\n",
       "      <td>0.619718</td>\n",
       "      <td>0.619718</td>\n",
       "      <td>Normal</td>\n",
       "    </tr>\n",
       "    <tr>\n",
       "      <th>2</th>\n",
       "      <td>0.537636</td>\n",
       "      <td>0.032966</td>\n",
       "      <td>0.321841</td>\n",
       "      <td>0.209307</td>\n",
       "      <td>0.404762</td>\n",
       "      <td>0.113927</td>\n",
       "      <td>0.369049</td>\n",
       "      <td>0.223685</td>\n",
       "      <td>0.536231</td>\n",
       "      <td>0.131865</td>\n",
       "      <td>...</td>\n",
       "      <td>0.038462</td>\n",
       "      <td>0.035918</td>\n",
       "      <td>0.035918</td>\n",
       "      <td>0.035918</td>\n",
       "      <td>0.035918</td>\n",
       "      <td>0.035918</td>\n",
       "      <td>0.035918</td>\n",
       "      <td>0.035918</td>\n",
       "      <td>0.035918</td>\n",
       "      <td>Normal</td>\n",
       "    </tr>\n",
       "    <tr>\n",
       "      <th>3</th>\n",
       "      <td>0.000000</td>\n",
       "      <td>0.395605</td>\n",
       "      <td>0.310347</td>\n",
       "      <td>0.197673</td>\n",
       "      <td>0.404762</td>\n",
       "      <td>0.455701</td>\n",
       "      <td>0.416666</td>\n",
       "      <td>0.210527</td>\n",
       "      <td>0.420292</td>\n",
       "      <td>0.274723</td>\n",
       "      <td>...</td>\n",
       "      <td>0.497864</td>\n",
       "      <td>0.486621</td>\n",
       "      <td>0.486621</td>\n",
       "      <td>0.486621</td>\n",
       "      <td>0.486621</td>\n",
       "      <td>0.486621</td>\n",
       "      <td>0.486621</td>\n",
       "      <td>0.486621</td>\n",
       "      <td>0.486621</td>\n",
       "      <td>Normal</td>\n",
       "    </tr>\n",
       "    <tr>\n",
       "      <th>4</th>\n",
       "      <td>0.526884</td>\n",
       "      <td>0.395605</td>\n",
       "      <td>0.367817</td>\n",
       "      <td>0.383719</td>\n",
       "      <td>0.488099</td>\n",
       "      <td>0.392405</td>\n",
       "      <td>0.238094</td>\n",
       "      <td>0.500000</td>\n",
       "      <td>0.362316</td>\n",
       "      <td>0.274723</td>\n",
       "      <td>...</td>\n",
       "      <td>0.267096</td>\n",
       "      <td>0.251408</td>\n",
       "      <td>0.251408</td>\n",
       "      <td>0.251408</td>\n",
       "      <td>0.251408</td>\n",
       "      <td>0.251408</td>\n",
       "      <td>0.251408</td>\n",
       "      <td>0.251408</td>\n",
       "      <td>0.251408</td>\n",
       "      <td>Normal</td>\n",
       "    </tr>\n",
       "  </tbody>\n",
       "</table>\n",
       "<p>5 rows × 15155 columns</p>\n",
       "</div>"
      ],
      "text/plain": [
       "   atribut0  atribut1  atribut2  atribut3  atribut4  atribut5  atribut6  \\\n",
       "0  0.494626  0.263735  0.321841  0.220934  0.297622  0.316458  0.154763   \n",
       "1  0.258063  0.406593  0.321841  0.069771  0.333335  0.354432  0.321431   \n",
       "2  0.537636  0.032966  0.321841  0.209307  0.404762  0.113927  0.369049   \n",
       "3  0.000000  0.395605  0.310347  0.197673  0.404762  0.455701  0.416666   \n",
       "4  0.526884  0.395605  0.367817  0.383719  0.488099  0.392405  0.238094   \n",
       "\n",
       "   atribut7  atribut8  atribut9  ...  atribut15145  atribut15146  \\\n",
       "0  0.223685  0.304346  0.241757  ...      0.483622      0.449296   \n",
       "1  0.144740  0.260869  0.142853  ...      0.631765      0.619718   \n",
       "2  0.223685  0.536231  0.131865  ...      0.038462      0.035918   \n",
       "3  0.210527  0.420292  0.274723  ...      0.497864      0.486621   \n",
       "4  0.500000  0.362316  0.274723  ...      0.267096      0.251408   \n",
       "\n",
       "   atribut15147  atribut15148  atribut15149  atribut15150  atribut15151  \\\n",
       "0      0.449296      0.449296      0.449296      0.449296      0.449296   \n",
       "1      0.619718      0.619718      0.619718      0.619718      0.619718   \n",
       "2      0.035918      0.035918      0.035918      0.035918      0.035918   \n",
       "3      0.486621      0.486621      0.486621      0.486621      0.486621   \n",
       "4      0.251408      0.251408      0.251408      0.251408      0.251408   \n",
       "\n",
       "   atribut15152  atribut15153  status  \n",
       "0      0.449296      0.449296  Normal  \n",
       "1      0.619718      0.619718  Normal  \n",
       "2      0.035918      0.035918  Normal  \n",
       "3      0.486621      0.486621  Normal  \n",
       "4      0.251408      0.251408  Normal  \n",
       "\n",
       "[5 rows x 15155 columns]"
      ]
     },
     "execution_count": 19,
     "metadata": {},
     "output_type": "execute_result"
    }
   ],
   "source": [
    "data_ovarian = data_ovarian.rename(columns={'atribut15154': 'status'})\n",
    "data_ovarian.head()"
   ]
  },
  {
   "cell_type": "code",
   "execution_count": 20,
   "metadata": {},
   "outputs": [
    {
     "data": {
      "text/html": [
       "<div>\n",
       "<style scoped>\n",
       "    .dataframe tbody tr th:only-of-type {\n",
       "        vertical-align: middle;\n",
       "    }\n",
       "\n",
       "    .dataframe tbody tr th {\n",
       "        vertical-align: top;\n",
       "    }\n",
       "\n",
       "    .dataframe thead th {\n",
       "        text-align: right;\n",
       "    }\n",
       "</style>\n",
       "<table border=\"1\" class=\"dataframe\">\n",
       "  <thead>\n",
       "    <tr style=\"text-align: right;\">\n",
       "      <th></th>\n",
       "      <th>atribut0</th>\n",
       "      <th>atribut1</th>\n",
       "      <th>atribut2</th>\n",
       "      <th>atribut3</th>\n",
       "      <th>atribut4</th>\n",
       "      <th>atribut5</th>\n",
       "      <th>atribut6</th>\n",
       "      <th>atribut7</th>\n",
       "      <th>atribut8</th>\n",
       "      <th>atribut9</th>\n",
       "      <th>...</th>\n",
       "      <th>atribut15145</th>\n",
       "      <th>atribut15146</th>\n",
       "      <th>atribut15147</th>\n",
       "      <th>atribut15148</th>\n",
       "      <th>atribut15149</th>\n",
       "      <th>atribut15150</th>\n",
       "      <th>atribut15151</th>\n",
       "      <th>atribut15152</th>\n",
       "      <th>atribut15153</th>\n",
       "      <th>status</th>\n",
       "    </tr>\n",
       "  </thead>\n",
       "  <tbody>\n",
       "    <tr>\n",
       "      <th>0</th>\n",
       "      <td>0.494626</td>\n",
       "      <td>0.263735</td>\n",
       "      <td>0.321841</td>\n",
       "      <td>0.220934</td>\n",
       "      <td>0.297622</td>\n",
       "      <td>0.316458</td>\n",
       "      <td>0.154763</td>\n",
       "      <td>0.223685</td>\n",
       "      <td>0.304346</td>\n",
       "      <td>0.241757</td>\n",
       "      <td>...</td>\n",
       "      <td>0.483622</td>\n",
       "      <td>0.449296</td>\n",
       "      <td>0.449296</td>\n",
       "      <td>0.449296</td>\n",
       "      <td>0.449296</td>\n",
       "      <td>0.449296</td>\n",
       "      <td>0.449296</td>\n",
       "      <td>0.449296</td>\n",
       "      <td>0.449296</td>\n",
       "      <td>0</td>\n",
       "    </tr>\n",
       "    <tr>\n",
       "      <th>1</th>\n",
       "      <td>0.258063</td>\n",
       "      <td>0.406593</td>\n",
       "      <td>0.321841</td>\n",
       "      <td>0.069771</td>\n",
       "      <td>0.333335</td>\n",
       "      <td>0.354432</td>\n",
       "      <td>0.321431</td>\n",
       "      <td>0.144740</td>\n",
       "      <td>0.260869</td>\n",
       "      <td>0.142853</td>\n",
       "      <td>...</td>\n",
       "      <td>0.631765</td>\n",
       "      <td>0.619718</td>\n",
       "      <td>0.619718</td>\n",
       "      <td>0.619718</td>\n",
       "      <td>0.619718</td>\n",
       "      <td>0.619718</td>\n",
       "      <td>0.619718</td>\n",
       "      <td>0.619718</td>\n",
       "      <td>0.619718</td>\n",
       "      <td>0</td>\n",
       "    </tr>\n",
       "    <tr>\n",
       "      <th>2</th>\n",
       "      <td>0.537636</td>\n",
       "      <td>0.032966</td>\n",
       "      <td>0.321841</td>\n",
       "      <td>0.209307</td>\n",
       "      <td>0.404762</td>\n",
       "      <td>0.113927</td>\n",
       "      <td>0.369049</td>\n",
       "      <td>0.223685</td>\n",
       "      <td>0.536231</td>\n",
       "      <td>0.131865</td>\n",
       "      <td>...</td>\n",
       "      <td>0.038462</td>\n",
       "      <td>0.035918</td>\n",
       "      <td>0.035918</td>\n",
       "      <td>0.035918</td>\n",
       "      <td>0.035918</td>\n",
       "      <td>0.035918</td>\n",
       "      <td>0.035918</td>\n",
       "      <td>0.035918</td>\n",
       "      <td>0.035918</td>\n",
       "      <td>0</td>\n",
       "    </tr>\n",
       "    <tr>\n",
       "      <th>3</th>\n",
       "      <td>0.000000</td>\n",
       "      <td>0.395605</td>\n",
       "      <td>0.310347</td>\n",
       "      <td>0.197673</td>\n",
       "      <td>0.404762</td>\n",
       "      <td>0.455701</td>\n",
       "      <td>0.416666</td>\n",
       "      <td>0.210527</td>\n",
       "      <td>0.420292</td>\n",
       "      <td>0.274723</td>\n",
       "      <td>...</td>\n",
       "      <td>0.497864</td>\n",
       "      <td>0.486621</td>\n",
       "      <td>0.486621</td>\n",
       "      <td>0.486621</td>\n",
       "      <td>0.486621</td>\n",
       "      <td>0.486621</td>\n",
       "      <td>0.486621</td>\n",
       "      <td>0.486621</td>\n",
       "      <td>0.486621</td>\n",
       "      <td>0</td>\n",
       "    </tr>\n",
       "    <tr>\n",
       "      <th>4</th>\n",
       "      <td>0.526884</td>\n",
       "      <td>0.395605</td>\n",
       "      <td>0.367817</td>\n",
       "      <td>0.383719</td>\n",
       "      <td>0.488099</td>\n",
       "      <td>0.392405</td>\n",
       "      <td>0.238094</td>\n",
       "      <td>0.500000</td>\n",
       "      <td>0.362316</td>\n",
       "      <td>0.274723</td>\n",
       "      <td>...</td>\n",
       "      <td>0.267096</td>\n",
       "      <td>0.251408</td>\n",
       "      <td>0.251408</td>\n",
       "      <td>0.251408</td>\n",
       "      <td>0.251408</td>\n",
       "      <td>0.251408</td>\n",
       "      <td>0.251408</td>\n",
       "      <td>0.251408</td>\n",
       "      <td>0.251408</td>\n",
       "      <td>0</td>\n",
       "    </tr>\n",
       "  </tbody>\n",
       "</table>\n",
       "<p>5 rows × 15155 columns</p>\n",
       "</div>"
      ],
      "text/plain": [
       "   atribut0  atribut1  atribut2  atribut3  atribut4  atribut5  atribut6  \\\n",
       "0  0.494626  0.263735  0.321841  0.220934  0.297622  0.316458  0.154763   \n",
       "1  0.258063  0.406593  0.321841  0.069771  0.333335  0.354432  0.321431   \n",
       "2  0.537636  0.032966  0.321841  0.209307  0.404762  0.113927  0.369049   \n",
       "3  0.000000  0.395605  0.310347  0.197673  0.404762  0.455701  0.416666   \n",
       "4  0.526884  0.395605  0.367817  0.383719  0.488099  0.392405  0.238094   \n",
       "\n",
       "   atribut7  atribut8  atribut9  ...  atribut15145  atribut15146  \\\n",
       "0  0.223685  0.304346  0.241757  ...      0.483622      0.449296   \n",
       "1  0.144740  0.260869  0.142853  ...      0.631765      0.619718   \n",
       "2  0.223685  0.536231  0.131865  ...      0.038462      0.035918   \n",
       "3  0.210527  0.420292  0.274723  ...      0.497864      0.486621   \n",
       "4  0.500000  0.362316  0.274723  ...      0.267096      0.251408   \n",
       "\n",
       "   atribut15147  atribut15148  atribut15149  atribut15150  atribut15151  \\\n",
       "0      0.449296      0.449296      0.449296      0.449296      0.449296   \n",
       "1      0.619718      0.619718      0.619718      0.619718      0.619718   \n",
       "2      0.035918      0.035918      0.035918      0.035918      0.035918   \n",
       "3      0.486621      0.486621      0.486621      0.486621      0.486621   \n",
       "4      0.251408      0.251408      0.251408      0.251408      0.251408   \n",
       "\n",
       "   atribut15152  atribut15153  status  \n",
       "0      0.449296      0.449296       0  \n",
       "1      0.619718      0.619718       0  \n",
       "2      0.035918      0.035918       0  \n",
       "3      0.486621      0.486621       0  \n",
       "4      0.251408      0.251408       0  \n",
       "\n",
       "[5 rows x 15155 columns]"
      ]
     },
     "execution_count": 20,
     "metadata": {},
     "output_type": "execute_result"
    }
   ],
   "source": [
    "data_ovarian.loc[data_ovarian['status'] == 'Normal', ['status']] = 0\n",
    "data_ovarian.loc[data_ovarian['status'] == 'Cancer', ['status']] = 1\n",
    "data_ovarian.head()"
   ]
  },
  {
   "cell_type": "code",
   "execution_count": 21,
   "metadata": {},
   "outputs": [],
   "source": [
    "data_ovarian = data_ovarian.apply(pd.to_numeric)"
   ]
  },
  {
   "cell_type": "markdown",
   "metadata": {},
   "source": [
    "- Prostate Tumor"
   ]
  },
  {
   "cell_type": "code",
   "execution_count": 22,
   "metadata": {},
   "outputs": [
    {
     "data": {
      "text/plain": [
       "12601"
      ]
     },
     "execution_count": 22,
     "metadata": {},
     "output_type": "execute_result"
    }
   ],
   "source": [
    "data = pd.read_csv(\"data/prostate_train.csv\")\n",
    "data_length = data.shape[1]\n",
    "data_length"
   ]
  },
  {
   "cell_type": "code",
   "execution_count": 23,
   "metadata": {},
   "outputs": [],
   "source": [
    "column = []\n",
    "for i in range(data_length):\n",
    "    column.append(\"atribut\"+str(i))"
   ]
  },
  {
   "cell_type": "code",
   "execution_count": 24,
   "metadata": {},
   "outputs": [
    {
     "data": {
      "text/html": [
       "<div>\n",
       "<style scoped>\n",
       "    .dataframe tbody tr th:only-of-type {\n",
       "        vertical-align: middle;\n",
       "    }\n",
       "\n",
       "    .dataframe tbody tr th {\n",
       "        vertical-align: top;\n",
       "    }\n",
       "\n",
       "    .dataframe thead th {\n",
       "        text-align: right;\n",
       "    }\n",
       "</style>\n",
       "<table border=\"1\" class=\"dataframe\">\n",
       "  <thead>\n",
       "    <tr style=\"text-align: right;\">\n",
       "      <th></th>\n",
       "      <th>atribut0</th>\n",
       "      <th>atribut1</th>\n",
       "      <th>atribut2</th>\n",
       "      <th>atribut3</th>\n",
       "      <th>atribut4</th>\n",
       "      <th>atribut5</th>\n",
       "      <th>atribut6</th>\n",
       "      <th>atribut7</th>\n",
       "      <th>atribut8</th>\n",
       "      <th>atribut9</th>\n",
       "      <th>...</th>\n",
       "      <th>atribut12591</th>\n",
       "      <th>atribut12592</th>\n",
       "      <th>atribut12593</th>\n",
       "      <th>atribut12594</th>\n",
       "      <th>atribut12595</th>\n",
       "      <th>atribut12596</th>\n",
       "      <th>atribut12597</th>\n",
       "      <th>atribut12598</th>\n",
       "      <th>atribut12599</th>\n",
       "      <th>atribut12600</th>\n",
       "    </tr>\n",
       "  </thead>\n",
       "  <tbody>\n",
       "    <tr>\n",
       "      <th>0</th>\n",
       "      <td>-9.0</td>\n",
       "      <td>1.0</td>\n",
       "      <td>1.0</td>\n",
       "      <td>15.0</td>\n",
       "      <td>-2.0</td>\n",
       "      <td>-3.0</td>\n",
       "      <td>4.0</td>\n",
       "      <td>8.0</td>\n",
       "      <td>-12.0</td>\n",
       "      <td>-12.0</td>\n",
       "      <td>...</td>\n",
       "      <td>5.0</td>\n",
       "      <td>3.0</td>\n",
       "      <td>21</td>\n",
       "      <td>15.0</td>\n",
       "      <td>1.0</td>\n",
       "      <td>0</td>\n",
       "      <td>14.0</td>\n",
       "      <td>-23.0</td>\n",
       "      <td>14.0</td>\n",
       "      <td>Tumor</td>\n",
       "    </tr>\n",
       "    <tr>\n",
       "      <th>1</th>\n",
       "      <td>-2.0</td>\n",
       "      <td>1.0</td>\n",
       "      <td>1.0</td>\n",
       "      <td>4.0</td>\n",
       "      <td>-2.0</td>\n",
       "      <td>-5.0</td>\n",
       "      <td>0.0</td>\n",
       "      <td>8.0</td>\n",
       "      <td>-5.0</td>\n",
       "      <td>-9.0</td>\n",
       "      <td>...</td>\n",
       "      <td>3.0</td>\n",
       "      <td>2.0</td>\n",
       "      <td>12</td>\n",
       "      <td>7.0</td>\n",
       "      <td>4.0</td>\n",
       "      <td>5</td>\n",
       "      <td>4.0</td>\n",
       "      <td>-10.0</td>\n",
       "      <td>25.0</td>\n",
       "      <td>Tumor</td>\n",
       "    </tr>\n",
       "    <tr>\n",
       "      <th>2</th>\n",
       "      <td>-6.0</td>\n",
       "      <td>17.0</td>\n",
       "      <td>6.0</td>\n",
       "      <td>29.0</td>\n",
       "      <td>4.0</td>\n",
       "      <td>-11.0</td>\n",
       "      <td>-8.0</td>\n",
       "      <td>10.0</td>\n",
       "      <td>-24.0</td>\n",
       "      <td>-32.0</td>\n",
       "      <td>...</td>\n",
       "      <td>-5.0</td>\n",
       "      <td>11.0</td>\n",
       "      <td>11</td>\n",
       "      <td>36.0</td>\n",
       "      <td>8.0</td>\n",
       "      <td>7</td>\n",
       "      <td>21.0</td>\n",
       "      <td>-82.0</td>\n",
       "      <td>10.0</td>\n",
       "      <td>Tumor</td>\n",
       "    </tr>\n",
       "    <tr>\n",
       "      <th>3</th>\n",
       "      <td>0.0</td>\n",
       "      <td>9.0</td>\n",
       "      <td>4.0</td>\n",
       "      <td>19.0</td>\n",
       "      <td>-10.0</td>\n",
       "      <td>-18.0</td>\n",
       "      <td>-18.0</td>\n",
       "      <td>5.0</td>\n",
       "      <td>-33.0</td>\n",
       "      <td>-31.0</td>\n",
       "      <td>...</td>\n",
       "      <td>-7.0</td>\n",
       "      <td>6.0</td>\n",
       "      <td>9</td>\n",
       "      <td>22.0</td>\n",
       "      <td>3.0</td>\n",
       "      <td>20</td>\n",
       "      <td>-7.0</td>\n",
       "      <td>-62.0</td>\n",
       "      <td>24.0</td>\n",
       "      <td>Tumor</td>\n",
       "    </tr>\n",
       "    <tr>\n",
       "      <th>4</th>\n",
       "      <td>-1.0</td>\n",
       "      <td>0.0</td>\n",
       "      <td>1.0</td>\n",
       "      <td>5.0</td>\n",
       "      <td>0.0</td>\n",
       "      <td>-4.0</td>\n",
       "      <td>1.0</td>\n",
       "      <td>6.0</td>\n",
       "      <td>-4.0</td>\n",
       "      <td>-9.0</td>\n",
       "      <td>...</td>\n",
       "      <td>6.0</td>\n",
       "      <td>1.0</td>\n",
       "      <td>140</td>\n",
       "      <td>10.0</td>\n",
       "      <td>3.0</td>\n",
       "      <td>8</td>\n",
       "      <td>8.0</td>\n",
       "      <td>-27.0</td>\n",
       "      <td>20.0</td>\n",
       "      <td>Tumor</td>\n",
       "    </tr>\n",
       "  </tbody>\n",
       "</table>\n",
       "<p>5 rows × 12601 columns</p>\n",
       "</div>"
      ],
      "text/plain": [
       "   atribut0  atribut1  atribut2  atribut3  atribut4  atribut5  atribut6  \\\n",
       "0      -9.0       1.0       1.0      15.0      -2.0      -3.0       4.0   \n",
       "1      -2.0       1.0       1.0       4.0      -2.0      -5.0       0.0   \n",
       "2      -6.0      17.0       6.0      29.0       4.0     -11.0      -8.0   \n",
       "3       0.0       9.0       4.0      19.0     -10.0     -18.0     -18.0   \n",
       "4      -1.0       0.0       1.0       5.0       0.0      -4.0       1.0   \n",
       "\n",
       "   atribut7  atribut8  atribut9  ...  atribut12591  atribut12592  \\\n",
       "0       8.0     -12.0     -12.0  ...           5.0           3.0   \n",
       "1       8.0      -5.0      -9.0  ...           3.0           2.0   \n",
       "2      10.0     -24.0     -32.0  ...          -5.0          11.0   \n",
       "3       5.0     -33.0     -31.0  ...          -7.0           6.0   \n",
       "4       6.0      -4.0      -9.0  ...           6.0           1.0   \n",
       "\n",
       "   atribut12593  atribut12594  atribut12595  atribut12596  atribut12597  \\\n",
       "0            21          15.0           1.0             0          14.0   \n",
       "1            12           7.0           4.0             5           4.0   \n",
       "2            11          36.0           8.0             7          21.0   \n",
       "3             9          22.0           3.0            20          -7.0   \n",
       "4           140          10.0           3.0             8           8.0   \n",
       "\n",
       "   atribut12598  atribut12599  atribut12600  \n",
       "0         -23.0          14.0         Tumor  \n",
       "1         -10.0          25.0         Tumor  \n",
       "2         -82.0          10.0         Tumor  \n",
       "3         -62.0          24.0         Tumor  \n",
       "4         -27.0          20.0         Tumor  \n",
       "\n",
       "[5 rows x 12601 columns]"
      ]
     },
     "execution_count": 24,
     "metadata": {},
     "output_type": "execute_result"
    }
   ],
   "source": [
    "data_prostate = pd.read_csv(\"data/prostate_train.csv\", header=None, names=column)\n",
    "data_prostate = data_prostate.append(pd.read_csv(\"data/prostate_test.csv\", header=None, names=column))\n",
    "data_prostate.head()"
   ]
  },
  {
   "cell_type": "code",
   "execution_count": 25,
   "metadata": {},
   "outputs": [
    {
     "data": {
      "text/html": [
       "<div>\n",
       "<style scoped>\n",
       "    .dataframe tbody tr th:only-of-type {\n",
       "        vertical-align: middle;\n",
       "    }\n",
       "\n",
       "    .dataframe tbody tr th {\n",
       "        vertical-align: top;\n",
       "    }\n",
       "\n",
       "    .dataframe thead th {\n",
       "        text-align: right;\n",
       "    }\n",
       "</style>\n",
       "<table border=\"1\" class=\"dataframe\">\n",
       "  <thead>\n",
       "    <tr style=\"text-align: right;\">\n",
       "      <th></th>\n",
       "      <th>atribut0</th>\n",
       "      <th>atribut1</th>\n",
       "      <th>atribut2</th>\n",
       "      <th>atribut3</th>\n",
       "      <th>atribut4</th>\n",
       "      <th>atribut5</th>\n",
       "      <th>atribut6</th>\n",
       "      <th>atribut7</th>\n",
       "      <th>atribut8</th>\n",
       "      <th>atribut9</th>\n",
       "      <th>...</th>\n",
       "      <th>atribut12591</th>\n",
       "      <th>atribut12592</th>\n",
       "      <th>atribut12593</th>\n",
       "      <th>atribut12594</th>\n",
       "      <th>atribut12595</th>\n",
       "      <th>atribut12596</th>\n",
       "      <th>atribut12597</th>\n",
       "      <th>atribut12598</th>\n",
       "      <th>atribut12599</th>\n",
       "      <th>status</th>\n",
       "    </tr>\n",
       "  </thead>\n",
       "  <tbody>\n",
       "    <tr>\n",
       "      <th>0</th>\n",
       "      <td>-9.0</td>\n",
       "      <td>1.0</td>\n",
       "      <td>1.0</td>\n",
       "      <td>15.0</td>\n",
       "      <td>-2.0</td>\n",
       "      <td>-3.0</td>\n",
       "      <td>4.0</td>\n",
       "      <td>8.0</td>\n",
       "      <td>-12.0</td>\n",
       "      <td>-12.0</td>\n",
       "      <td>...</td>\n",
       "      <td>5.0</td>\n",
       "      <td>3.0</td>\n",
       "      <td>21</td>\n",
       "      <td>15.0</td>\n",
       "      <td>1.0</td>\n",
       "      <td>0</td>\n",
       "      <td>14.0</td>\n",
       "      <td>-23.0</td>\n",
       "      <td>14.0</td>\n",
       "      <td>Tumor</td>\n",
       "    </tr>\n",
       "    <tr>\n",
       "      <th>1</th>\n",
       "      <td>-2.0</td>\n",
       "      <td>1.0</td>\n",
       "      <td>1.0</td>\n",
       "      <td>4.0</td>\n",
       "      <td>-2.0</td>\n",
       "      <td>-5.0</td>\n",
       "      <td>0.0</td>\n",
       "      <td>8.0</td>\n",
       "      <td>-5.0</td>\n",
       "      <td>-9.0</td>\n",
       "      <td>...</td>\n",
       "      <td>3.0</td>\n",
       "      <td>2.0</td>\n",
       "      <td>12</td>\n",
       "      <td>7.0</td>\n",
       "      <td>4.0</td>\n",
       "      <td>5</td>\n",
       "      <td>4.0</td>\n",
       "      <td>-10.0</td>\n",
       "      <td>25.0</td>\n",
       "      <td>Tumor</td>\n",
       "    </tr>\n",
       "    <tr>\n",
       "      <th>2</th>\n",
       "      <td>-6.0</td>\n",
       "      <td>17.0</td>\n",
       "      <td>6.0</td>\n",
       "      <td>29.0</td>\n",
       "      <td>4.0</td>\n",
       "      <td>-11.0</td>\n",
       "      <td>-8.0</td>\n",
       "      <td>10.0</td>\n",
       "      <td>-24.0</td>\n",
       "      <td>-32.0</td>\n",
       "      <td>...</td>\n",
       "      <td>-5.0</td>\n",
       "      <td>11.0</td>\n",
       "      <td>11</td>\n",
       "      <td>36.0</td>\n",
       "      <td>8.0</td>\n",
       "      <td>7</td>\n",
       "      <td>21.0</td>\n",
       "      <td>-82.0</td>\n",
       "      <td>10.0</td>\n",
       "      <td>Tumor</td>\n",
       "    </tr>\n",
       "    <tr>\n",
       "      <th>3</th>\n",
       "      <td>0.0</td>\n",
       "      <td>9.0</td>\n",
       "      <td>4.0</td>\n",
       "      <td>19.0</td>\n",
       "      <td>-10.0</td>\n",
       "      <td>-18.0</td>\n",
       "      <td>-18.0</td>\n",
       "      <td>5.0</td>\n",
       "      <td>-33.0</td>\n",
       "      <td>-31.0</td>\n",
       "      <td>...</td>\n",
       "      <td>-7.0</td>\n",
       "      <td>6.0</td>\n",
       "      <td>9</td>\n",
       "      <td>22.0</td>\n",
       "      <td>3.0</td>\n",
       "      <td>20</td>\n",
       "      <td>-7.0</td>\n",
       "      <td>-62.0</td>\n",
       "      <td>24.0</td>\n",
       "      <td>Tumor</td>\n",
       "    </tr>\n",
       "    <tr>\n",
       "      <th>4</th>\n",
       "      <td>-1.0</td>\n",
       "      <td>0.0</td>\n",
       "      <td>1.0</td>\n",
       "      <td>5.0</td>\n",
       "      <td>0.0</td>\n",
       "      <td>-4.0</td>\n",
       "      <td>1.0</td>\n",
       "      <td>6.0</td>\n",
       "      <td>-4.0</td>\n",
       "      <td>-9.0</td>\n",
       "      <td>...</td>\n",
       "      <td>6.0</td>\n",
       "      <td>1.0</td>\n",
       "      <td>140</td>\n",
       "      <td>10.0</td>\n",
       "      <td>3.0</td>\n",
       "      <td>8</td>\n",
       "      <td>8.0</td>\n",
       "      <td>-27.0</td>\n",
       "      <td>20.0</td>\n",
       "      <td>Tumor</td>\n",
       "    </tr>\n",
       "  </tbody>\n",
       "</table>\n",
       "<p>5 rows × 12601 columns</p>\n",
       "</div>"
      ],
      "text/plain": [
       "   atribut0  atribut1  atribut2  atribut3  atribut4  atribut5  atribut6  \\\n",
       "0      -9.0       1.0       1.0      15.0      -2.0      -3.0       4.0   \n",
       "1      -2.0       1.0       1.0       4.0      -2.0      -5.0       0.0   \n",
       "2      -6.0      17.0       6.0      29.0       4.0     -11.0      -8.0   \n",
       "3       0.0       9.0       4.0      19.0     -10.0     -18.0     -18.0   \n",
       "4      -1.0       0.0       1.0       5.0       0.0      -4.0       1.0   \n",
       "\n",
       "   atribut7  atribut8  atribut9  ...  atribut12591  atribut12592  \\\n",
       "0       8.0     -12.0     -12.0  ...           5.0           3.0   \n",
       "1       8.0      -5.0      -9.0  ...           3.0           2.0   \n",
       "2      10.0     -24.0     -32.0  ...          -5.0          11.0   \n",
       "3       5.0     -33.0     -31.0  ...          -7.0           6.0   \n",
       "4       6.0      -4.0      -9.0  ...           6.0           1.0   \n",
       "\n",
       "   atribut12593  atribut12594  atribut12595  atribut12596  atribut12597  \\\n",
       "0            21          15.0           1.0             0          14.0   \n",
       "1            12           7.0           4.0             5           4.0   \n",
       "2            11          36.0           8.0             7          21.0   \n",
       "3             9          22.0           3.0            20          -7.0   \n",
       "4           140          10.0           3.0             8           8.0   \n",
       "\n",
       "   atribut12598  atribut12599  status  \n",
       "0         -23.0          14.0   Tumor  \n",
       "1         -10.0          25.0   Tumor  \n",
       "2         -82.0          10.0   Tumor  \n",
       "3         -62.0          24.0   Tumor  \n",
       "4         -27.0          20.0   Tumor  \n",
       "\n",
       "[5 rows x 12601 columns]"
      ]
     },
     "execution_count": 25,
     "metadata": {},
     "output_type": "execute_result"
    }
   ],
   "source": [
    "data_prostate = data_prostate.rename(columns={'atribut12600': 'status'})\n",
    "data_prostate.head()"
   ]
  },
  {
   "cell_type": "code",
   "execution_count": 26,
   "metadata": {},
   "outputs": [
    {
     "data": {
      "text/html": [
       "<div>\n",
       "<style scoped>\n",
       "    .dataframe tbody tr th:only-of-type {\n",
       "        vertical-align: middle;\n",
       "    }\n",
       "\n",
       "    .dataframe tbody tr th {\n",
       "        vertical-align: top;\n",
       "    }\n",
       "\n",
       "    .dataframe thead th {\n",
       "        text-align: right;\n",
       "    }\n",
       "</style>\n",
       "<table border=\"1\" class=\"dataframe\">\n",
       "  <thead>\n",
       "    <tr style=\"text-align: right;\">\n",
       "      <th></th>\n",
       "      <th>atribut0</th>\n",
       "      <th>atribut1</th>\n",
       "      <th>atribut2</th>\n",
       "      <th>atribut3</th>\n",
       "      <th>atribut4</th>\n",
       "      <th>atribut5</th>\n",
       "      <th>atribut6</th>\n",
       "      <th>atribut7</th>\n",
       "      <th>atribut8</th>\n",
       "      <th>atribut9</th>\n",
       "      <th>...</th>\n",
       "      <th>atribut12591</th>\n",
       "      <th>atribut12592</th>\n",
       "      <th>atribut12593</th>\n",
       "      <th>atribut12594</th>\n",
       "      <th>atribut12595</th>\n",
       "      <th>atribut12596</th>\n",
       "      <th>atribut12597</th>\n",
       "      <th>atribut12598</th>\n",
       "      <th>atribut12599</th>\n",
       "      <th>status</th>\n",
       "    </tr>\n",
       "  </thead>\n",
       "  <tbody>\n",
       "    <tr>\n",
       "      <th>0</th>\n",
       "      <td>-9.0</td>\n",
       "      <td>1.0</td>\n",
       "      <td>1.0</td>\n",
       "      <td>15.0</td>\n",
       "      <td>-2.0</td>\n",
       "      <td>-3.0</td>\n",
       "      <td>4.0</td>\n",
       "      <td>8.0</td>\n",
       "      <td>-12.0</td>\n",
       "      <td>-12.0</td>\n",
       "      <td>...</td>\n",
       "      <td>5.0</td>\n",
       "      <td>3.0</td>\n",
       "      <td>21</td>\n",
       "      <td>15.0</td>\n",
       "      <td>1.0</td>\n",
       "      <td>0</td>\n",
       "      <td>14.0</td>\n",
       "      <td>-23.0</td>\n",
       "      <td>14.0</td>\n",
       "      <td>1</td>\n",
       "    </tr>\n",
       "    <tr>\n",
       "      <th>1</th>\n",
       "      <td>-2.0</td>\n",
       "      <td>1.0</td>\n",
       "      <td>1.0</td>\n",
       "      <td>4.0</td>\n",
       "      <td>-2.0</td>\n",
       "      <td>-5.0</td>\n",
       "      <td>0.0</td>\n",
       "      <td>8.0</td>\n",
       "      <td>-5.0</td>\n",
       "      <td>-9.0</td>\n",
       "      <td>...</td>\n",
       "      <td>3.0</td>\n",
       "      <td>2.0</td>\n",
       "      <td>12</td>\n",
       "      <td>7.0</td>\n",
       "      <td>4.0</td>\n",
       "      <td>5</td>\n",
       "      <td>4.0</td>\n",
       "      <td>-10.0</td>\n",
       "      <td>25.0</td>\n",
       "      <td>1</td>\n",
       "    </tr>\n",
       "    <tr>\n",
       "      <th>2</th>\n",
       "      <td>-6.0</td>\n",
       "      <td>17.0</td>\n",
       "      <td>6.0</td>\n",
       "      <td>29.0</td>\n",
       "      <td>4.0</td>\n",
       "      <td>-11.0</td>\n",
       "      <td>-8.0</td>\n",
       "      <td>10.0</td>\n",
       "      <td>-24.0</td>\n",
       "      <td>-32.0</td>\n",
       "      <td>...</td>\n",
       "      <td>-5.0</td>\n",
       "      <td>11.0</td>\n",
       "      <td>11</td>\n",
       "      <td>36.0</td>\n",
       "      <td>8.0</td>\n",
       "      <td>7</td>\n",
       "      <td>21.0</td>\n",
       "      <td>-82.0</td>\n",
       "      <td>10.0</td>\n",
       "      <td>1</td>\n",
       "    </tr>\n",
       "    <tr>\n",
       "      <th>3</th>\n",
       "      <td>0.0</td>\n",
       "      <td>9.0</td>\n",
       "      <td>4.0</td>\n",
       "      <td>19.0</td>\n",
       "      <td>-10.0</td>\n",
       "      <td>-18.0</td>\n",
       "      <td>-18.0</td>\n",
       "      <td>5.0</td>\n",
       "      <td>-33.0</td>\n",
       "      <td>-31.0</td>\n",
       "      <td>...</td>\n",
       "      <td>-7.0</td>\n",
       "      <td>6.0</td>\n",
       "      <td>9</td>\n",
       "      <td>22.0</td>\n",
       "      <td>3.0</td>\n",
       "      <td>20</td>\n",
       "      <td>-7.0</td>\n",
       "      <td>-62.0</td>\n",
       "      <td>24.0</td>\n",
       "      <td>1</td>\n",
       "    </tr>\n",
       "    <tr>\n",
       "      <th>4</th>\n",
       "      <td>-1.0</td>\n",
       "      <td>0.0</td>\n",
       "      <td>1.0</td>\n",
       "      <td>5.0</td>\n",
       "      <td>0.0</td>\n",
       "      <td>-4.0</td>\n",
       "      <td>1.0</td>\n",
       "      <td>6.0</td>\n",
       "      <td>-4.0</td>\n",
       "      <td>-9.0</td>\n",
       "      <td>...</td>\n",
       "      <td>6.0</td>\n",
       "      <td>1.0</td>\n",
       "      <td>140</td>\n",
       "      <td>10.0</td>\n",
       "      <td>3.0</td>\n",
       "      <td>8</td>\n",
       "      <td>8.0</td>\n",
       "      <td>-27.0</td>\n",
       "      <td>20.0</td>\n",
       "      <td>1</td>\n",
       "    </tr>\n",
       "  </tbody>\n",
       "</table>\n",
       "<p>5 rows × 12601 columns</p>\n",
       "</div>"
      ],
      "text/plain": [
       "   atribut0  atribut1  atribut2  atribut3  atribut4  atribut5  atribut6  \\\n",
       "0      -9.0       1.0       1.0      15.0      -2.0      -3.0       4.0   \n",
       "1      -2.0       1.0       1.0       4.0      -2.0      -5.0       0.0   \n",
       "2      -6.0      17.0       6.0      29.0       4.0     -11.0      -8.0   \n",
       "3       0.0       9.0       4.0      19.0     -10.0     -18.0     -18.0   \n",
       "4      -1.0       0.0       1.0       5.0       0.0      -4.0       1.0   \n",
       "\n",
       "   atribut7  atribut8  atribut9  ...  atribut12591  atribut12592  \\\n",
       "0       8.0     -12.0     -12.0  ...           5.0           3.0   \n",
       "1       8.0      -5.0      -9.0  ...           3.0           2.0   \n",
       "2      10.0     -24.0     -32.0  ...          -5.0          11.0   \n",
       "3       5.0     -33.0     -31.0  ...          -7.0           6.0   \n",
       "4       6.0      -4.0      -9.0  ...           6.0           1.0   \n",
       "\n",
       "   atribut12593  atribut12594  atribut12595  atribut12596  atribut12597  \\\n",
       "0            21          15.0           1.0             0          14.0   \n",
       "1            12           7.0           4.0             5           4.0   \n",
       "2            11          36.0           8.0             7          21.0   \n",
       "3             9          22.0           3.0            20          -7.0   \n",
       "4           140          10.0           3.0             8           8.0   \n",
       "\n",
       "   atribut12598  atribut12599  status  \n",
       "0         -23.0          14.0       1  \n",
       "1         -10.0          25.0       1  \n",
       "2         -82.0          10.0       1  \n",
       "3         -62.0          24.0       1  \n",
       "4         -27.0          20.0       1  \n",
       "\n",
       "[5 rows x 12601 columns]"
      ]
     },
     "execution_count": 26,
     "metadata": {},
     "output_type": "execute_result"
    }
   ],
   "source": [
    "data_prostate.loc[data_prostate['status'] == 'Normal', ['status']] = 0\n",
    "data_prostate.loc[data_prostate['status'] == 'Tumor', ['status']] = 1\n",
    "data_prostate.head()"
   ]
  },
  {
   "cell_type": "code",
   "execution_count": 27,
   "metadata": {},
   "outputs": [],
   "source": [
    "data_prostate = data_prostate.apply(pd.to_numeric)"
   ]
  },
  {
   "cell_type": "markdown",
   "metadata": {},
   "source": [
    "- Central Nervous "
   ]
  },
  {
   "cell_type": "code",
   "execution_count": 28,
   "metadata": {},
   "outputs": [
    {
     "data": {
      "text/plain": [
       "7130"
      ]
     },
     "execution_count": 28,
     "metadata": {},
     "output_type": "execute_result"
    }
   ],
   "source": [
    "data = pd.read_csv(\"data/centralNervousSystem_outcome.csv\")\n",
    "data_length = data.shape[1]\n",
    "data_length"
   ]
  },
  {
   "cell_type": "code",
   "execution_count": 29,
   "metadata": {},
   "outputs": [],
   "source": [
    "column = []\n",
    "for i in range(data_length):\n",
    "    column.append(\"atribut\"+str(i))"
   ]
  },
  {
   "cell_type": "code",
   "execution_count": 30,
   "metadata": {},
   "outputs": [
    {
     "data": {
      "text/html": [
       "<div>\n",
       "<style scoped>\n",
       "    .dataframe tbody tr th:only-of-type {\n",
       "        vertical-align: middle;\n",
       "    }\n",
       "\n",
       "    .dataframe tbody tr th {\n",
       "        vertical-align: top;\n",
       "    }\n",
       "\n",
       "    .dataframe thead th {\n",
       "        text-align: right;\n",
       "    }\n",
       "</style>\n",
       "<table border=\"1\" class=\"dataframe\">\n",
       "  <thead>\n",
       "    <tr style=\"text-align: right;\">\n",
       "      <th></th>\n",
       "      <th>atribut0</th>\n",
       "      <th>atribut1</th>\n",
       "      <th>atribut2</th>\n",
       "      <th>atribut3</th>\n",
       "      <th>atribut4</th>\n",
       "      <th>atribut5</th>\n",
       "      <th>atribut6</th>\n",
       "      <th>atribut7</th>\n",
       "      <th>atribut8</th>\n",
       "      <th>atribut9</th>\n",
       "      <th>...</th>\n",
       "      <th>atribut7120</th>\n",
       "      <th>atribut7121</th>\n",
       "      <th>atribut7122</th>\n",
       "      <th>atribut7123</th>\n",
       "      <th>atribut7124</th>\n",
       "      <th>atribut7125</th>\n",
       "      <th>atribut7126</th>\n",
       "      <th>atribut7127</th>\n",
       "      <th>atribut7128</th>\n",
       "      <th>atribut7129</th>\n",
       "    </tr>\n",
       "  </thead>\n",
       "  <tbody>\n",
       "    <tr>\n",
       "      <th>0</th>\n",
       "      <td>-60</td>\n",
       "      <td>-109</td>\n",
       "      <td>45</td>\n",
       "      <td>22</td>\n",
       "      <td>7</td>\n",
       "      <td>-61</td>\n",
       "      <td>-211</td>\n",
       "      <td>-102</td>\n",
       "      <td>-20</td>\n",
       "      <td>98</td>\n",
       "      <td>...</td>\n",
       "      <td>1082</td>\n",
       "      <td>-12</td>\n",
       "      <td>44</td>\n",
       "      <td>-48</td>\n",
       "      <td>123</td>\n",
       "      <td>89</td>\n",
       "      <td>-25</td>\n",
       "      <td>56</td>\n",
       "      <td>-63</td>\n",
       "      <td>Class1</td>\n",
       "    </tr>\n",
       "    <tr>\n",
       "      <th>1</th>\n",
       "      <td>-159</td>\n",
       "      <td>-113</td>\n",
       "      <td>-62</td>\n",
       "      <td>-16</td>\n",
       "      <td>-160</td>\n",
       "      <td>-395</td>\n",
       "      <td>97</td>\n",
       "      <td>-157</td>\n",
       "      <td>15</td>\n",
       "      <td>-8</td>\n",
       "      <td>...</td>\n",
       "      <td>1295</td>\n",
       "      <td>-677</td>\n",
       "      <td>-452</td>\n",
       "      <td>-750</td>\n",
       "      <td>1273</td>\n",
       "      <td>-1</td>\n",
       "      <td>-750</td>\n",
       "      <td>-45</td>\n",
       "      <td>-293</td>\n",
       "      <td>Class1</td>\n",
       "    </tr>\n",
       "    <tr>\n",
       "      <th>2</th>\n",
       "      <td>-119</td>\n",
       "      <td>-31</td>\n",
       "      <td>4</td>\n",
       "      <td>-11</td>\n",
       "      <td>-197</td>\n",
       "      <td>-541</td>\n",
       "      <td>-277</td>\n",
       "      <td>-166</td>\n",
       "      <td>17</td>\n",
       "      <td>392</td>\n",
       "      <td>...</td>\n",
       "      <td>592</td>\n",
       "      <td>55</td>\n",
       "      <td>88</td>\n",
       "      <td>-37</td>\n",
       "      <td>310</td>\n",
       "      <td>159</td>\n",
       "      <td>11</td>\n",
       "      <td>2</td>\n",
       "      <td>2</td>\n",
       "      <td>Class1</td>\n",
       "    </tr>\n",
       "    <tr>\n",
       "      <th>3</th>\n",
       "      <td>41</td>\n",
       "      <td>9</td>\n",
       "      <td>-256</td>\n",
       "      <td>370</td>\n",
       "      <td>-302</td>\n",
       "      <td>-680</td>\n",
       "      <td>254</td>\n",
       "      <td>31</td>\n",
       "      <td>186</td>\n",
       "      <td>358</td>\n",
       "      <td>...</td>\n",
       "      <td>433</td>\n",
       "      <td>71</td>\n",
       "      <td>-237</td>\n",
       "      <td>-166</td>\n",
       "      <td>52</td>\n",
       "      <td>-48</td>\n",
       "      <td>-183</td>\n",
       "      <td>328</td>\n",
       "      <td>-244</td>\n",
       "      <td>Class1</td>\n",
       "    </tr>\n",
       "    <tr>\n",
       "      <th>4</th>\n",
       "      <td>-165</td>\n",
       "      <td>-57</td>\n",
       "      <td>171</td>\n",
       "      <td>216</td>\n",
       "      <td>-692</td>\n",
       "      <td>-381</td>\n",
       "      <td>762</td>\n",
       "      <td>-6</td>\n",
       "      <td>44</td>\n",
       "      <td>216</td>\n",
       "      <td>...</td>\n",
       "      <td>2160</td>\n",
       "      <td>-120</td>\n",
       "      <td>-82</td>\n",
       "      <td>-25</td>\n",
       "      <td>3888</td>\n",
       "      <td>393</td>\n",
       "      <td>-38</td>\n",
       "      <td>190</td>\n",
       "      <td>38</td>\n",
       "      <td>Class1</td>\n",
       "    </tr>\n",
       "  </tbody>\n",
       "</table>\n",
       "<p>5 rows × 7130 columns</p>\n",
       "</div>"
      ],
      "text/plain": [
       "   atribut0  atribut1  atribut2  atribut3  atribut4  atribut5  atribut6  \\\n",
       "0       -60      -109        45        22         7       -61      -211   \n",
       "1      -159      -113       -62       -16      -160      -395        97   \n",
       "2      -119       -31         4       -11      -197      -541      -277   \n",
       "3        41         9      -256       370      -302      -680       254   \n",
       "4      -165       -57       171       216      -692      -381       762   \n",
       "\n",
       "   atribut7  atribut8  atribut9  ...  atribut7120  atribut7121  atribut7122  \\\n",
       "0      -102       -20        98  ...         1082          -12           44   \n",
       "1      -157        15        -8  ...         1295         -677         -452   \n",
       "2      -166        17       392  ...          592           55           88   \n",
       "3        31       186       358  ...          433           71         -237   \n",
       "4        -6        44       216  ...         2160         -120          -82   \n",
       "\n",
       "   atribut7123  atribut7124  atribut7125  atribut7126  atribut7127  \\\n",
       "0          -48          123           89          -25           56   \n",
       "1         -750         1273           -1         -750          -45   \n",
       "2          -37          310          159           11            2   \n",
       "3         -166           52          -48         -183          328   \n",
       "4          -25         3888          393          -38          190   \n",
       "\n",
       "   atribut7128  atribut7129  \n",
       "0          -63       Class1  \n",
       "1         -293       Class1  \n",
       "2            2       Class1  \n",
       "3         -244       Class1  \n",
       "4           38       Class1  \n",
       "\n",
       "[5 rows x 7130 columns]"
      ]
     },
     "execution_count": 30,
     "metadata": {},
     "output_type": "execute_result"
    }
   ],
   "source": [
    "data_central = pd.read_csv(\"data/centralNervousSystem_outcome.csv\", header=None, names=column)\n",
    "data_central.head()"
   ]
  },
  {
   "cell_type": "code",
   "execution_count": 31,
   "metadata": {},
   "outputs": [
    {
     "data": {
      "text/html": [
       "<div>\n",
       "<style scoped>\n",
       "    .dataframe tbody tr th:only-of-type {\n",
       "        vertical-align: middle;\n",
       "    }\n",
       "\n",
       "    .dataframe tbody tr th {\n",
       "        vertical-align: top;\n",
       "    }\n",
       "\n",
       "    .dataframe thead th {\n",
       "        text-align: right;\n",
       "    }\n",
       "</style>\n",
       "<table border=\"1\" class=\"dataframe\">\n",
       "  <thead>\n",
       "    <tr style=\"text-align: right;\">\n",
       "      <th></th>\n",
       "      <th>atribut0</th>\n",
       "      <th>atribut1</th>\n",
       "      <th>atribut2</th>\n",
       "      <th>atribut3</th>\n",
       "      <th>atribut4</th>\n",
       "      <th>atribut5</th>\n",
       "      <th>atribut6</th>\n",
       "      <th>atribut7</th>\n",
       "      <th>atribut8</th>\n",
       "      <th>atribut9</th>\n",
       "      <th>...</th>\n",
       "      <th>atribut7120</th>\n",
       "      <th>atribut7121</th>\n",
       "      <th>atribut7122</th>\n",
       "      <th>atribut7123</th>\n",
       "      <th>atribut7124</th>\n",
       "      <th>atribut7125</th>\n",
       "      <th>atribut7126</th>\n",
       "      <th>atribut7127</th>\n",
       "      <th>atribut7128</th>\n",
       "      <th>status</th>\n",
       "    </tr>\n",
       "  </thead>\n",
       "  <tbody>\n",
       "    <tr>\n",
       "      <th>0</th>\n",
       "      <td>-60</td>\n",
       "      <td>-109</td>\n",
       "      <td>45</td>\n",
       "      <td>22</td>\n",
       "      <td>7</td>\n",
       "      <td>-61</td>\n",
       "      <td>-211</td>\n",
       "      <td>-102</td>\n",
       "      <td>-20</td>\n",
       "      <td>98</td>\n",
       "      <td>...</td>\n",
       "      <td>1082</td>\n",
       "      <td>-12</td>\n",
       "      <td>44</td>\n",
       "      <td>-48</td>\n",
       "      <td>123</td>\n",
       "      <td>89</td>\n",
       "      <td>-25</td>\n",
       "      <td>56</td>\n",
       "      <td>-63</td>\n",
       "      <td>Class1</td>\n",
       "    </tr>\n",
       "    <tr>\n",
       "      <th>1</th>\n",
       "      <td>-159</td>\n",
       "      <td>-113</td>\n",
       "      <td>-62</td>\n",
       "      <td>-16</td>\n",
       "      <td>-160</td>\n",
       "      <td>-395</td>\n",
       "      <td>97</td>\n",
       "      <td>-157</td>\n",
       "      <td>15</td>\n",
       "      <td>-8</td>\n",
       "      <td>...</td>\n",
       "      <td>1295</td>\n",
       "      <td>-677</td>\n",
       "      <td>-452</td>\n",
       "      <td>-750</td>\n",
       "      <td>1273</td>\n",
       "      <td>-1</td>\n",
       "      <td>-750</td>\n",
       "      <td>-45</td>\n",
       "      <td>-293</td>\n",
       "      <td>Class1</td>\n",
       "    </tr>\n",
       "    <tr>\n",
       "      <th>2</th>\n",
       "      <td>-119</td>\n",
       "      <td>-31</td>\n",
       "      <td>4</td>\n",
       "      <td>-11</td>\n",
       "      <td>-197</td>\n",
       "      <td>-541</td>\n",
       "      <td>-277</td>\n",
       "      <td>-166</td>\n",
       "      <td>17</td>\n",
       "      <td>392</td>\n",
       "      <td>...</td>\n",
       "      <td>592</td>\n",
       "      <td>55</td>\n",
       "      <td>88</td>\n",
       "      <td>-37</td>\n",
       "      <td>310</td>\n",
       "      <td>159</td>\n",
       "      <td>11</td>\n",
       "      <td>2</td>\n",
       "      <td>2</td>\n",
       "      <td>Class1</td>\n",
       "    </tr>\n",
       "    <tr>\n",
       "      <th>3</th>\n",
       "      <td>41</td>\n",
       "      <td>9</td>\n",
       "      <td>-256</td>\n",
       "      <td>370</td>\n",
       "      <td>-302</td>\n",
       "      <td>-680</td>\n",
       "      <td>254</td>\n",
       "      <td>31</td>\n",
       "      <td>186</td>\n",
       "      <td>358</td>\n",
       "      <td>...</td>\n",
       "      <td>433</td>\n",
       "      <td>71</td>\n",
       "      <td>-237</td>\n",
       "      <td>-166</td>\n",
       "      <td>52</td>\n",
       "      <td>-48</td>\n",
       "      <td>-183</td>\n",
       "      <td>328</td>\n",
       "      <td>-244</td>\n",
       "      <td>Class1</td>\n",
       "    </tr>\n",
       "    <tr>\n",
       "      <th>4</th>\n",
       "      <td>-165</td>\n",
       "      <td>-57</td>\n",
       "      <td>171</td>\n",
       "      <td>216</td>\n",
       "      <td>-692</td>\n",
       "      <td>-381</td>\n",
       "      <td>762</td>\n",
       "      <td>-6</td>\n",
       "      <td>44</td>\n",
       "      <td>216</td>\n",
       "      <td>...</td>\n",
       "      <td>2160</td>\n",
       "      <td>-120</td>\n",
       "      <td>-82</td>\n",
       "      <td>-25</td>\n",
       "      <td>3888</td>\n",
       "      <td>393</td>\n",
       "      <td>-38</td>\n",
       "      <td>190</td>\n",
       "      <td>38</td>\n",
       "      <td>Class1</td>\n",
       "    </tr>\n",
       "  </tbody>\n",
       "</table>\n",
       "<p>5 rows × 7130 columns</p>\n",
       "</div>"
      ],
      "text/plain": [
       "   atribut0  atribut1  atribut2  atribut3  atribut4  atribut5  atribut6  \\\n",
       "0       -60      -109        45        22         7       -61      -211   \n",
       "1      -159      -113       -62       -16      -160      -395        97   \n",
       "2      -119       -31         4       -11      -197      -541      -277   \n",
       "3        41         9      -256       370      -302      -680       254   \n",
       "4      -165       -57       171       216      -692      -381       762   \n",
       "\n",
       "   atribut7  atribut8  atribut9  ...  atribut7120  atribut7121  atribut7122  \\\n",
       "0      -102       -20        98  ...         1082          -12           44   \n",
       "1      -157        15        -8  ...         1295         -677         -452   \n",
       "2      -166        17       392  ...          592           55           88   \n",
       "3        31       186       358  ...          433           71         -237   \n",
       "4        -6        44       216  ...         2160         -120          -82   \n",
       "\n",
       "   atribut7123  atribut7124  atribut7125  atribut7126  atribut7127  \\\n",
       "0          -48          123           89          -25           56   \n",
       "1         -750         1273           -1         -750          -45   \n",
       "2          -37          310          159           11            2   \n",
       "3         -166           52          -48         -183          328   \n",
       "4          -25         3888          393          -38          190   \n",
       "\n",
       "   atribut7128  status  \n",
       "0          -63  Class1  \n",
       "1         -293  Class1  \n",
       "2            2  Class1  \n",
       "3         -244  Class1  \n",
       "4           38  Class1  \n",
       "\n",
       "[5 rows x 7130 columns]"
      ]
     },
     "execution_count": 31,
     "metadata": {},
     "output_type": "execute_result"
    }
   ],
   "source": [
    "data_central = data_central.rename(columns={'atribut7129': 'status'})\n",
    "data_central.head()"
   ]
  },
  {
   "cell_type": "code",
   "execution_count": 32,
   "metadata": {},
   "outputs": [
    {
     "data": {
      "text/html": [
       "<div>\n",
       "<style scoped>\n",
       "    .dataframe tbody tr th:only-of-type {\n",
       "        vertical-align: middle;\n",
       "    }\n",
       "\n",
       "    .dataframe tbody tr th {\n",
       "        vertical-align: top;\n",
       "    }\n",
       "\n",
       "    .dataframe thead th {\n",
       "        text-align: right;\n",
       "    }\n",
       "</style>\n",
       "<table border=\"1\" class=\"dataframe\">\n",
       "  <thead>\n",
       "    <tr style=\"text-align: right;\">\n",
       "      <th></th>\n",
       "      <th>atribut0</th>\n",
       "      <th>atribut1</th>\n",
       "      <th>atribut2</th>\n",
       "      <th>atribut3</th>\n",
       "      <th>atribut4</th>\n",
       "      <th>atribut5</th>\n",
       "      <th>atribut6</th>\n",
       "      <th>atribut7</th>\n",
       "      <th>atribut8</th>\n",
       "      <th>atribut9</th>\n",
       "      <th>...</th>\n",
       "      <th>atribut7120</th>\n",
       "      <th>atribut7121</th>\n",
       "      <th>atribut7122</th>\n",
       "      <th>atribut7123</th>\n",
       "      <th>atribut7124</th>\n",
       "      <th>atribut7125</th>\n",
       "      <th>atribut7126</th>\n",
       "      <th>atribut7127</th>\n",
       "      <th>atribut7128</th>\n",
       "      <th>status</th>\n",
       "    </tr>\n",
       "  </thead>\n",
       "  <tbody>\n",
       "    <tr>\n",
       "      <th>0</th>\n",
       "      <td>-60</td>\n",
       "      <td>-109</td>\n",
       "      <td>45</td>\n",
       "      <td>22</td>\n",
       "      <td>7</td>\n",
       "      <td>-61</td>\n",
       "      <td>-211</td>\n",
       "      <td>-102</td>\n",
       "      <td>-20</td>\n",
       "      <td>98</td>\n",
       "      <td>...</td>\n",
       "      <td>1082</td>\n",
       "      <td>-12</td>\n",
       "      <td>44</td>\n",
       "      <td>-48</td>\n",
       "      <td>123</td>\n",
       "      <td>89</td>\n",
       "      <td>-25</td>\n",
       "      <td>56</td>\n",
       "      <td>-63</td>\n",
       "      <td>1</td>\n",
       "    </tr>\n",
       "    <tr>\n",
       "      <th>1</th>\n",
       "      <td>-159</td>\n",
       "      <td>-113</td>\n",
       "      <td>-62</td>\n",
       "      <td>-16</td>\n",
       "      <td>-160</td>\n",
       "      <td>-395</td>\n",
       "      <td>97</td>\n",
       "      <td>-157</td>\n",
       "      <td>15</td>\n",
       "      <td>-8</td>\n",
       "      <td>...</td>\n",
       "      <td>1295</td>\n",
       "      <td>-677</td>\n",
       "      <td>-452</td>\n",
       "      <td>-750</td>\n",
       "      <td>1273</td>\n",
       "      <td>-1</td>\n",
       "      <td>-750</td>\n",
       "      <td>-45</td>\n",
       "      <td>-293</td>\n",
       "      <td>1</td>\n",
       "    </tr>\n",
       "    <tr>\n",
       "      <th>2</th>\n",
       "      <td>-119</td>\n",
       "      <td>-31</td>\n",
       "      <td>4</td>\n",
       "      <td>-11</td>\n",
       "      <td>-197</td>\n",
       "      <td>-541</td>\n",
       "      <td>-277</td>\n",
       "      <td>-166</td>\n",
       "      <td>17</td>\n",
       "      <td>392</td>\n",
       "      <td>...</td>\n",
       "      <td>592</td>\n",
       "      <td>55</td>\n",
       "      <td>88</td>\n",
       "      <td>-37</td>\n",
       "      <td>310</td>\n",
       "      <td>159</td>\n",
       "      <td>11</td>\n",
       "      <td>2</td>\n",
       "      <td>2</td>\n",
       "      <td>1</td>\n",
       "    </tr>\n",
       "    <tr>\n",
       "      <th>3</th>\n",
       "      <td>41</td>\n",
       "      <td>9</td>\n",
       "      <td>-256</td>\n",
       "      <td>370</td>\n",
       "      <td>-302</td>\n",
       "      <td>-680</td>\n",
       "      <td>254</td>\n",
       "      <td>31</td>\n",
       "      <td>186</td>\n",
       "      <td>358</td>\n",
       "      <td>...</td>\n",
       "      <td>433</td>\n",
       "      <td>71</td>\n",
       "      <td>-237</td>\n",
       "      <td>-166</td>\n",
       "      <td>52</td>\n",
       "      <td>-48</td>\n",
       "      <td>-183</td>\n",
       "      <td>328</td>\n",
       "      <td>-244</td>\n",
       "      <td>1</td>\n",
       "    </tr>\n",
       "    <tr>\n",
       "      <th>4</th>\n",
       "      <td>-165</td>\n",
       "      <td>-57</td>\n",
       "      <td>171</td>\n",
       "      <td>216</td>\n",
       "      <td>-692</td>\n",
       "      <td>-381</td>\n",
       "      <td>762</td>\n",
       "      <td>-6</td>\n",
       "      <td>44</td>\n",
       "      <td>216</td>\n",
       "      <td>...</td>\n",
       "      <td>2160</td>\n",
       "      <td>-120</td>\n",
       "      <td>-82</td>\n",
       "      <td>-25</td>\n",
       "      <td>3888</td>\n",
       "      <td>393</td>\n",
       "      <td>-38</td>\n",
       "      <td>190</td>\n",
       "      <td>38</td>\n",
       "      <td>1</td>\n",
       "    </tr>\n",
       "  </tbody>\n",
       "</table>\n",
       "<p>5 rows × 7130 columns</p>\n",
       "</div>"
      ],
      "text/plain": [
       "   atribut0  atribut1  atribut2  atribut3  atribut4  atribut5  atribut6  \\\n",
       "0       -60      -109        45        22         7       -61      -211   \n",
       "1      -159      -113       -62       -16      -160      -395        97   \n",
       "2      -119       -31         4       -11      -197      -541      -277   \n",
       "3        41         9      -256       370      -302      -680       254   \n",
       "4      -165       -57       171       216      -692      -381       762   \n",
       "\n",
       "   atribut7  atribut8  atribut9  ...  atribut7120  atribut7121  atribut7122  \\\n",
       "0      -102       -20        98  ...         1082          -12           44   \n",
       "1      -157        15        -8  ...         1295         -677         -452   \n",
       "2      -166        17       392  ...          592           55           88   \n",
       "3        31       186       358  ...          433           71         -237   \n",
       "4        -6        44       216  ...         2160         -120          -82   \n",
       "\n",
       "   atribut7123  atribut7124  atribut7125  atribut7126  atribut7127  \\\n",
       "0          -48          123           89          -25           56   \n",
       "1         -750         1273           -1         -750          -45   \n",
       "2          -37          310          159           11            2   \n",
       "3         -166           52          -48         -183          328   \n",
       "4          -25         3888          393          -38          190   \n",
       "\n",
       "   atribut7128  status  \n",
       "0          -63       1  \n",
       "1         -293       1  \n",
       "2            2       1  \n",
       "3         -244       1  \n",
       "4           38       1  \n",
       "\n",
       "[5 rows x 7130 columns]"
      ]
     },
     "execution_count": 32,
     "metadata": {},
     "output_type": "execute_result"
    }
   ],
   "source": [
    "data_central.loc[data_central['status'] == 'Class0', ['status']] = 0\n",
    "data_central.loc[data_central['status'] == 'Class1', ['status']] = 1\n",
    "data_central.head()"
   ]
  },
  {
   "cell_type": "code",
   "execution_count": 33,
   "metadata": {},
   "outputs": [],
   "source": [
    "data_central = data_central.apply(pd.to_numeric)"
   ]
  },
  {
   "cell_type": "markdown",
   "metadata": {},
   "source": [
    "### Mengetahui missing value"
   ]
  },
  {
   "cell_type": "markdown",
   "metadata": {},
   "source": [
    "- Colon Cancer"
   ]
  },
  {
   "cell_type": "code",
   "execution_count": 34,
   "metadata": {},
   "outputs": [
    {
     "data": {
      "text/plain": [
       "(62, 2001)"
      ]
     },
     "execution_count": 34,
     "metadata": {},
     "output_type": "execute_result"
    }
   ],
   "source": [
    "data_colon.dropna(axis=1).shape"
   ]
  },
  {
   "cell_type": "code",
   "execution_count": 35,
   "metadata": {},
   "outputs": [
    {
     "data": {
      "text/plain": [
       "atribut0       0\n",
       "atribut1       0\n",
       "atribut2       0\n",
       "atribut3       0\n",
       "atribut4       0\n",
       "atribut5       0\n",
       "atribut6       0\n",
       "atribut7       0\n",
       "atribut8       0\n",
       "atribut9       0\n",
       "atribut10      0\n",
       "atribut11      0\n",
       "atribut12      0\n",
       "atribut13      0\n",
       "atribut14      0\n",
       "atribut15      0\n",
       "atribut16      0\n",
       "atribut17      0\n",
       "atribut18      0\n",
       "atribut19      0\n",
       "atribut20      0\n",
       "atribut21      0\n",
       "atribut22      0\n",
       "atribut23      0\n",
       "atribut24      0\n",
       "atribut25      0\n",
       "atribut26      0\n",
       "atribut27      0\n",
       "atribut28      0\n",
       "atribut29      0\n",
       "              ..\n",
       "atribut1971    0\n",
       "atribut1972    0\n",
       "atribut1973    0\n",
       "atribut1974    0\n",
       "atribut1975    0\n",
       "atribut1976    0\n",
       "atribut1977    0\n",
       "atribut1978    0\n",
       "atribut1979    0\n",
       "atribut1980    0\n",
       "atribut1981    0\n",
       "atribut1982    0\n",
       "atribut1983    0\n",
       "atribut1984    0\n",
       "atribut1985    0\n",
       "atribut1986    0\n",
       "atribut1987    0\n",
       "atribut1988    0\n",
       "atribut1989    0\n",
       "atribut1990    0\n",
       "atribut1991    0\n",
       "atribut1992    0\n",
       "atribut1993    0\n",
       "atribut1994    0\n",
       "atribut1995    0\n",
       "atribut1996    0\n",
       "atribut1997    0\n",
       "atribut1998    0\n",
       "atribut1999    0\n",
       "status         0\n",
       "Length: 2001, dtype: int64"
      ]
     },
     "execution_count": 35,
     "metadata": {},
     "output_type": "execute_result"
    }
   ],
   "source": [
    "pd.isnull(data_colon).sum()"
   ]
  },
  {
   "cell_type": "markdown",
   "metadata": {},
   "source": [
    "- Lung Cancer "
   ]
  },
  {
   "cell_type": "code",
   "execution_count": 36,
   "metadata": {},
   "outputs": [
    {
     "data": {
      "text/plain": [
       "(181, 12534)"
      ]
     },
     "execution_count": 36,
     "metadata": {},
     "output_type": "execute_result"
    }
   ],
   "source": [
    "data_lung.dropna(axis=1).shape"
   ]
  },
  {
   "cell_type": "code",
   "execution_count": 37,
   "metadata": {},
   "outputs": [
    {
     "data": {
      "text/plain": [
       "atribut0        0\n",
       "atribut1        0\n",
       "atribut2        0\n",
       "atribut3        0\n",
       "atribut4        0\n",
       "atribut5        0\n",
       "atribut6        0\n",
       "atribut7        0\n",
       "atribut8        0\n",
       "atribut9        0\n",
       "atribut10       0\n",
       "atribut11       0\n",
       "atribut12       0\n",
       "atribut13       0\n",
       "atribut14       0\n",
       "atribut15       0\n",
       "atribut16       0\n",
       "atribut17       0\n",
       "atribut18       0\n",
       "atribut19       0\n",
       "atribut20       0\n",
       "atribut21       0\n",
       "atribut22       0\n",
       "atribut23       0\n",
       "atribut24       0\n",
       "atribut25       0\n",
       "atribut26       0\n",
       "atribut27       0\n",
       "atribut28       0\n",
       "atribut29       0\n",
       "               ..\n",
       "atribut12504    0\n",
       "atribut12505    0\n",
       "atribut12506    0\n",
       "atribut12507    0\n",
       "atribut12508    0\n",
       "atribut12509    0\n",
       "atribut12510    0\n",
       "atribut12511    0\n",
       "atribut12512    0\n",
       "atribut12513    0\n",
       "atribut12514    0\n",
       "atribut12515    0\n",
       "atribut12516    0\n",
       "atribut12517    0\n",
       "atribut12518    0\n",
       "atribut12519    0\n",
       "atribut12520    0\n",
       "atribut12521    0\n",
       "atribut12522    0\n",
       "atribut12523    0\n",
       "atribut12524    0\n",
       "atribut12525    0\n",
       "atribut12526    0\n",
       "atribut12527    0\n",
       "atribut12528    0\n",
       "atribut12529    0\n",
       "atribut12530    0\n",
       "atribut12531    0\n",
       "atribut12532    0\n",
       "status          0\n",
       "Length: 12534, dtype: int64"
      ]
     },
     "execution_count": 37,
     "metadata": {},
     "output_type": "execute_result"
    }
   ],
   "source": [
    "pd.isnull(data_lung).sum()"
   ]
  },
  {
   "cell_type": "markdown",
   "metadata": {},
   "source": [
    "- Ovarian Cancer "
   ]
  },
  {
   "cell_type": "code",
   "execution_count": 38,
   "metadata": {},
   "outputs": [
    {
     "data": {
      "text/plain": [
       "(253, 15155)"
      ]
     },
     "execution_count": 38,
     "metadata": {},
     "output_type": "execute_result"
    }
   ],
   "source": [
    "data_ovarian.dropna(axis=1).shape"
   ]
  },
  {
   "cell_type": "code",
   "execution_count": 39,
   "metadata": {},
   "outputs": [
    {
     "data": {
      "text/plain": [
       "atribut0        0\n",
       "atribut1        0\n",
       "atribut2        0\n",
       "atribut3        0\n",
       "atribut4        0\n",
       "atribut5        0\n",
       "atribut6        0\n",
       "atribut7        0\n",
       "atribut8        0\n",
       "atribut9        0\n",
       "atribut10       0\n",
       "atribut11       0\n",
       "atribut12       0\n",
       "atribut13       0\n",
       "atribut14       0\n",
       "atribut15       0\n",
       "atribut16       0\n",
       "atribut17       0\n",
       "atribut18       0\n",
       "atribut19       0\n",
       "atribut20       0\n",
       "atribut21       0\n",
       "atribut22       0\n",
       "atribut23       0\n",
       "atribut24       0\n",
       "atribut25       0\n",
       "atribut26       0\n",
       "atribut27       0\n",
       "atribut28       0\n",
       "atribut29       0\n",
       "               ..\n",
       "atribut15125    0\n",
       "atribut15126    0\n",
       "atribut15127    0\n",
       "atribut15128    0\n",
       "atribut15129    0\n",
       "atribut15130    0\n",
       "atribut15131    0\n",
       "atribut15132    0\n",
       "atribut15133    0\n",
       "atribut15134    0\n",
       "atribut15135    0\n",
       "atribut15136    0\n",
       "atribut15137    0\n",
       "atribut15138    0\n",
       "atribut15139    0\n",
       "atribut15140    0\n",
       "atribut15141    0\n",
       "atribut15142    0\n",
       "atribut15143    0\n",
       "atribut15144    0\n",
       "atribut15145    0\n",
       "atribut15146    0\n",
       "atribut15147    0\n",
       "atribut15148    0\n",
       "atribut15149    0\n",
       "atribut15150    0\n",
       "atribut15151    0\n",
       "atribut15152    0\n",
       "atribut15153    0\n",
       "status          0\n",
       "Length: 15155, dtype: int64"
      ]
     },
     "execution_count": 39,
     "metadata": {},
     "output_type": "execute_result"
    }
   ],
   "source": [
    "pd.isnull(data_ovarian).sum()"
   ]
  },
  {
   "cell_type": "markdown",
   "metadata": {},
   "source": [
    "- Prostate Tumor"
   ]
  },
  {
   "cell_type": "code",
   "execution_count": 40,
   "metadata": {},
   "outputs": [
    {
     "data": {
      "text/plain": [
       "(136, 12601)"
      ]
     },
     "execution_count": 40,
     "metadata": {},
     "output_type": "execute_result"
    }
   ],
   "source": [
    "data_prostate.dropna(axis=1).shape"
   ]
  },
  {
   "cell_type": "code",
   "execution_count": 41,
   "metadata": {},
   "outputs": [
    {
     "data": {
      "text/plain": [
       "atribut0        0\n",
       "atribut1        0\n",
       "atribut2        0\n",
       "atribut3        0\n",
       "atribut4        0\n",
       "atribut5        0\n",
       "atribut6        0\n",
       "atribut7        0\n",
       "atribut8        0\n",
       "atribut9        0\n",
       "atribut10       0\n",
       "atribut11       0\n",
       "atribut12       0\n",
       "atribut13       0\n",
       "atribut14       0\n",
       "atribut15       0\n",
       "atribut16       0\n",
       "atribut17       0\n",
       "atribut18       0\n",
       "atribut19       0\n",
       "atribut20       0\n",
       "atribut21       0\n",
       "atribut22       0\n",
       "atribut23       0\n",
       "atribut24       0\n",
       "atribut25       0\n",
       "atribut26       0\n",
       "atribut27       0\n",
       "atribut28       0\n",
       "atribut29       0\n",
       "               ..\n",
       "atribut12571    0\n",
       "atribut12572    0\n",
       "atribut12573    0\n",
       "atribut12574    0\n",
       "atribut12575    0\n",
       "atribut12576    0\n",
       "atribut12577    0\n",
       "atribut12578    0\n",
       "atribut12579    0\n",
       "atribut12580    0\n",
       "atribut12581    0\n",
       "atribut12582    0\n",
       "atribut12583    0\n",
       "atribut12584    0\n",
       "atribut12585    0\n",
       "atribut12586    0\n",
       "atribut12587    0\n",
       "atribut12588    0\n",
       "atribut12589    0\n",
       "atribut12590    0\n",
       "atribut12591    0\n",
       "atribut12592    0\n",
       "atribut12593    0\n",
       "atribut12594    0\n",
       "atribut12595    0\n",
       "atribut12596    0\n",
       "atribut12597    0\n",
       "atribut12598    0\n",
       "atribut12599    0\n",
       "status          0\n",
       "Length: 12601, dtype: int64"
      ]
     },
     "execution_count": 41,
     "metadata": {},
     "output_type": "execute_result"
    }
   ],
   "source": [
    "pd.isnull(data_prostate).sum()"
   ]
  },
  {
   "cell_type": "markdown",
   "metadata": {},
   "source": [
    "- Central Nervous"
   ]
  },
  {
   "cell_type": "code",
   "execution_count": 42,
   "metadata": {},
   "outputs": [
    {
     "data": {
      "text/plain": [
       "(60, 7130)"
      ]
     },
     "execution_count": 42,
     "metadata": {},
     "output_type": "execute_result"
    }
   ],
   "source": [
    "data_central.dropna(axis=1).shape"
   ]
  },
  {
   "cell_type": "code",
   "execution_count": 43,
   "metadata": {},
   "outputs": [
    {
     "data": {
      "text/plain": [
       "atribut0       0\n",
       "atribut1       0\n",
       "atribut2       0\n",
       "atribut3       0\n",
       "atribut4       0\n",
       "atribut5       0\n",
       "atribut6       0\n",
       "atribut7       0\n",
       "atribut8       0\n",
       "atribut9       0\n",
       "atribut10      0\n",
       "atribut11      0\n",
       "atribut12      0\n",
       "atribut13      0\n",
       "atribut14      0\n",
       "atribut15      0\n",
       "atribut16      0\n",
       "atribut17      0\n",
       "atribut18      0\n",
       "atribut19      0\n",
       "atribut20      0\n",
       "atribut21      0\n",
       "atribut22      0\n",
       "atribut23      0\n",
       "atribut24      0\n",
       "atribut25      0\n",
       "atribut26      0\n",
       "atribut27      0\n",
       "atribut28      0\n",
       "atribut29      0\n",
       "              ..\n",
       "atribut7100    0\n",
       "atribut7101    0\n",
       "atribut7102    0\n",
       "atribut7103    0\n",
       "atribut7104    0\n",
       "atribut7105    0\n",
       "atribut7106    0\n",
       "atribut7107    0\n",
       "atribut7108    0\n",
       "atribut7109    0\n",
       "atribut7110    0\n",
       "atribut7111    0\n",
       "atribut7112    0\n",
       "atribut7113    0\n",
       "atribut7114    0\n",
       "atribut7115    0\n",
       "atribut7116    0\n",
       "atribut7117    0\n",
       "atribut7118    0\n",
       "atribut7119    0\n",
       "atribut7120    0\n",
       "atribut7121    0\n",
       "atribut7122    0\n",
       "atribut7123    0\n",
       "atribut7124    0\n",
       "atribut7125    0\n",
       "atribut7126    0\n",
       "atribut7127    0\n",
       "atribut7128    0\n",
       "status         0\n",
       "Length: 7130, dtype: int64"
      ]
     },
     "execution_count": 43,
     "metadata": {},
     "output_type": "execute_result"
    }
   ],
   "source": [
    "pd.isnull(data_central).sum()"
   ]
  },
  {
   "cell_type": "markdown",
   "metadata": {},
   "source": [
    "### Data Analytics"
   ]
  },
  {
   "cell_type": "markdown",
   "metadata": {},
   "source": [
    "**perbandingan jumlah antar kelas**"
   ]
  },
  {
   "cell_type": "markdown",
   "metadata": {},
   "source": [
    "- Colon Cancer"
   ]
  },
  {
   "cell_type": "code",
   "execution_count": 44,
   "metadata": {},
   "outputs": [
    {
     "data": {
      "image/png": "[encoded data removed]",
      "text/plain": [
       "<Figure size 432x288 with 1 Axes>"
      ]
     },
     "metadata": {
      "needs_background": "light"
     },
     "output_type": "display_data"
    }
   ],
   "source": [
    "data_colon['status'].value_counts().plot(kind='bar', color=\"r\")\n",
    "plt.title(\"Perbandingan jumlah positive dan negative\")\n",
    "plt.xlabel('Status')\n",
    "plt.ylabel('Total')\n",
    "plt.show()"
   ]
  },
  {
   "cell_type": "markdown",
   "metadata": {},
   "source": [
    "- Lung Cancer"
   ]
  },
  {
   "cell_type": "code",
   "execution_count": 45,
   "metadata": {},
   "outputs": [
    {
     "data": {
      "image/png": "[encoded data removed]",
      "text/plain": [
       "<Figure size 432x288 with 1 Axes>"
      ]
     },
     "metadata": {
      "needs_background": "light"
     },
     "output_type": "display_data"
    }
   ],
   "source": [
    "data_lung['status'].value_counts().plot(kind='bar', color=\"g\")\n",
    "plt.title(\"Perbandingan tiap kelas\")\n",
    "plt.xlabel('Status')\n",
    "plt.ylabel('Total')\n",
    "plt.show()"
   ]
  },
  {
   "cell_type": "markdown",
   "metadata": {},
   "source": [
    "- Ovarian Cancer"
   ]
  },
  {
   "cell_type": "code",
   "execution_count": 46,
   "metadata": {},
   "outputs": [
    {
     "data": {
      "image/png": "[encoded data removed]",
      "text/plain": [
       "<Figure size 432x288 with 1 Axes>"
      ]
     },
     "metadata": {
      "needs_background": "light"
     },
     "output_type": "display_data"
    }
   ],
   "source": [
    "data_ovarian['status'].value_counts().plot(kind='bar', color=\"m\")\n",
    "plt.title(\"Perbandingan tiap kelas\")\n",
    "plt.xlabel('Status')\n",
    "plt.ylabel('Total')\n",
    "plt.show()"
   ]
  },
  {
   "cell_type": "markdown",
   "metadata": {},
   "source": [
    "- Prostate Tumor"
   ]
  },
  {
   "cell_type": "code",
   "execution_count": 47,
   "metadata": {},
   "outputs": [
    {
     "data": {
      "image/png": "[encoded data removed]",
      "text/plain": [
       "<Figure size 432x288 with 1 Axes>"
      ]
     },
     "metadata": {
      "needs_background": "light"
     },
     "output_type": "display_data"
    }
   ],
   "source": [
    "data_prostate['status'].value_counts().plot(kind='bar', color=\"b\")\n",
    "plt.title(\"Perbandingan tiap kelas\")\n",
    "plt.xlabel('Status')\n",
    "plt.ylabel('Total')\n",
    "plt.show()"
   ]
  },
  {
   "cell_type": "markdown",
   "metadata": {},
   "source": [
    "- Central Nervous "
   ]
  },
  {
   "cell_type": "code",
   "execution_count": 48,
   "metadata": {},
   "outputs": [
    {
     "data": {
      "image/png": "[encoded data removed]",
      "text/plain": [
       "<Figure size 432x288 with 1 Axes>"
      ]
     },
     "metadata": {
      "needs_background": "light"
     },
     "output_type": "display_data"
    }
   ],
   "source": [
    "data_central['status'].value_counts().plot(kind='bar', color=\"y\")\n",
    "plt.title(\"Perbandingan tiap kelas\")\n",
    "plt.xlabel('Status')\n",
    "plt.ylabel('Total')\n",
    "plt.show()"
   ]
  },
  {
   "cell_type": "markdown",
   "metadata": {},
   "source": [
    "### Features Target Split"
   ]
  },
  {
   "cell_type": "markdown",
   "metadata": {},
   "source": [
    "- Colon Cancer"
   ]
  },
  {
   "cell_type": "code",
   "execution_count": 49,
   "metadata": {},
   "outputs": [],
   "source": [
    "X_colon = data_colon.drop(['status'],axis=1)\n",
    "y_colon = data_colon['status']"
   ]
  },
  {
   "cell_type": "code",
   "execution_count": 50,
   "metadata": {},
   "outputs": [
    {
     "data": {
      "text/plain": [
       "(62, 2000)"
      ]
     },
     "execution_count": 50,
     "metadata": {},
     "output_type": "execute_result"
    }
   ],
   "source": [
    "X_colon.shape"
   ]
  },
  {
   "cell_type": "markdown",
   "metadata": {},
   "source": [
    "- Lung Cancer"
   ]
  },
  {
   "cell_type": "code",
   "execution_count": 51,
   "metadata": {},
   "outputs": [],
   "source": [
    "X_lung = data_lung.drop(['status'],axis=1)\n",
    "y_lung = data_lung['status']"
   ]
  },
  {
   "cell_type": "code",
   "execution_count": 52,
   "metadata": {},
   "outputs": [
    {
     "data": {
      "text/plain": [
       "(181, 12533)"
      ]
     },
     "execution_count": 52,
     "metadata": {},
     "output_type": "execute_result"
    }
   ],
   "source": [
    "X_lung.shape"
   ]
  },
  {
   "cell_type": "markdown",
   "metadata": {},
   "source": [
    "- Ovarian Cancer"
   ]
  },
  {
   "cell_type": "code",
   "execution_count": 53,
   "metadata": {},
   "outputs": [],
   "source": [
    "X_ovarian = data_ovarian.drop(['status'],axis=1)\n",
    "y_ovarian = data_ovarian['status']"
   ]
  },
  {
   "cell_type": "code",
   "execution_count": 54,
   "metadata": {},
   "outputs": [
    {
     "data": {
      "text/plain": [
       "(253, 15154)"
      ]
     },
     "execution_count": 54,
     "metadata": {},
     "output_type": "execute_result"
    }
   ],
   "source": [
    "X_ovarian.shape"
   ]
  },
  {
   "cell_type": "markdown",
   "metadata": {},
   "source": [
    "- Prostate Tumor"
   ]
  },
  {
   "cell_type": "code",
   "execution_count": 55,
   "metadata": {},
   "outputs": [],
   "source": [
    "X_prostate = data_prostate.drop(['status'],axis=1)\n",
    "y_prostate = data_prostate['status']"
   ]
  },
  {
   "cell_type": "code",
   "execution_count": 56,
   "metadata": {},
   "outputs": [
    {
     "data": {
      "text/plain": [
       "(136, 12600)"
      ]
     },
     "execution_count": 56,
     "metadata": {},
     "output_type": "execute_result"
    }
   ],
   "source": [
    "X_prostate.shape"
   ]
  },
  {
   "cell_type": "markdown",
   "metadata": {},
   "source": [
    "- Central Nervous "
   ]
  },
  {
   "cell_type": "code",
   "execution_count": 57,
   "metadata": {},
   "outputs": [],
   "source": [
    "X_central = data_central.drop(['status'],axis=1)\n",
    "y_central = data_central['status']"
   ]
  },
  {
   "cell_type": "code",
   "execution_count": 58,
   "metadata": {},
   "outputs": [
    {
     "data": {
      "text/plain": [
       "(60, 7129)"
      ]
     },
     "execution_count": 58,
     "metadata": {},
     "output_type": "execute_result"
    }
   ],
   "source": [
    "X_central.shape"
   ]
  },
  {
   "cell_type": "markdown",
   "metadata": {},
   "source": [
    "### Train and Test Split"
   ]
  },
  {
   "cell_type": "markdown",
   "metadata": {},
   "source": [
    "1. colon cancer"
   ]
  },
  {
   "cell_type": "code",
   "execution_count": 59,
   "metadata": {},
   "outputs": [],
   "source": [
    "X_train_colon, X_test_colon, y_train_colon, y_test_colon = train_test_split(X_colon,y_colon, test_size=0.2,random_state=45)"
   ]
  },
  {
   "cell_type": "markdown",
   "metadata": {},
   "source": [
    "2. Lung Cancer "
   ]
  },
  {
   "cell_type": "code",
   "execution_count": 60,
   "metadata": {},
   "outputs": [],
   "source": [
    "X_train_lung, X_test_lung, y_train_lung, y_test_lung = train_test_split(X_lung,y_lung, test_size=0.2,random_state=45)"
   ]
  },
  {
   "cell_type": "markdown",
   "metadata": {},
   "source": [
    "3. Ovarian Cancer "
   ]
  },
  {
   "cell_type": "code",
   "execution_count": 61,
   "metadata": {},
   "outputs": [],
   "source": [
    "X_train_ovarian, X_test_ovarian, y_train_ovarian, y_test_ovarian = train_test_split(X_ovarian,y_ovarian, test_size=0.2,random_state=45)"
   ]
  },
  {
   "cell_type": "markdown",
   "metadata": {},
   "source": [
    "4. Prostate Tumor"
   ]
  },
  {
   "cell_type": "code",
   "execution_count": 62,
   "metadata": {},
   "outputs": [],
   "source": [
    "X_train_prostate, X_test_prostate, y_train_prostate, y_test_prostate = train_test_split(X_prostate,y_prostate, test_size=0.2,random_state=45)"
   ]
  },
  {
   "cell_type": "markdown",
   "metadata": {},
   "source": [
    "5. Central Nervous "
   ]
  },
  {
   "cell_type": "code",
   "execution_count": 63,
   "metadata": {},
   "outputs": [],
   "source": [
    "X_train_central, X_test_central, y_train_central, y_test_central = train_test_split(X_central,y_central, test_size=0.2,random_state=45)"
   ]
  },
  {
   "cell_type": "markdown",
   "metadata": {},
   "source": [
    "### Normalisasi"
   ]
  },
  {
   "cell_type": "code",
   "execution_count": 64,
   "metadata": {},
   "outputs": [],
   "source": [
    "def minmax_scaler(X_train_, X_test_):\n",
    "    scaler = MinMaxScaler()\n",
    "    X_train_ = scaler.fit_transform(X_train_)\n",
    "    X_test_ = scaler.transform(X_test_)\n",
    "    return X_train_,X_test_"
   ]
  },
  {
   "cell_type": "markdown",
   "metadata": {},
   "source": [
    "1. colon cancer"
   ]
  },
  {
   "cell_type": "code",
   "execution_count": 65,
   "metadata": {},
   "outputs": [],
   "source": [
    "X_train_colon, X_test_colon = minmax_scaler(X_train_colon,X_test_colon)"
   ]
  },
  {
   "cell_type": "markdown",
   "metadata": {},
   "source": [
    "2. Lung Cancer"
   ]
  },
  {
   "cell_type": "code",
   "execution_count": 66,
   "metadata": {},
   "outputs": [],
   "source": [
    "X_train_lung, X_test_lung = minmax_scaler(X_train_lung, X_test_lung)"
   ]
  },
  {
   "cell_type": "markdown",
   "metadata": {},
   "source": [
    "3. Ovarian Cancer"
   ]
  },
  {
   "cell_type": "code",
   "execution_count": 67,
   "metadata": {},
   "outputs": [],
   "source": [
    "X_train_ovarin, X_test_ovarian = minmax_scaler(X_train_ovarian, X_test_ovarian)"
   ]
  },
  {
   "cell_type": "markdown",
   "metadata": {},
   "source": [
    "4. Prostate Tumor "
   ]
  },
  {
   "cell_type": "code",
   "execution_count": 68,
   "metadata": {},
   "outputs": [],
   "source": [
    "X_train_prostate, X_test_prostate = minmax_scaler(X_train_prostate, X_test_prostate)"
   ]
  },
  {
   "cell_type": "markdown",
   "metadata": {},
   "source": [
    "5. Central Nervous "
   ]
  },
  {
   "cell_type": "code",
   "execution_count": 69,
   "metadata": {},
   "outputs": [],
   "source": [
    "X_train_central, X_test_central = minmax_scaler(X_train_central, X_test_central)"
   ]
  },
  {
   "cell_type": "markdown",
   "metadata": {},
   "source": [
    "### Reduksi Dimensi"
   ]
  },
  {
   "cell_type": "code",
   "execution_count": 70,
   "metadata": {},
   "outputs": [],
   "source": [
    "def dwt(X_train, X_test):\n",
    "    train_coef = pywt.dwt(X_train, 'db4')\n",
    "    #(cA, cD) = train_coef\n",
    "    test_coef = pywt.dwt(X_test, 'db4')\n",
    "    #(cA, cD) = \n",
    "    return train_coef, test_coef\n",
    "\n",
    "def koef_train(train_coef):\n",
    "    (cA, cD) = train_coef\n",
    "    return (cA, cD)\n",
    "\n",
    "def koef_test(test_coef):\n",
    "    (cA, cD) = test_coef\n",
    "    return (cA, cD)"
   ]
  },
  {
   "cell_type": "markdown",
   "metadata": {},
   "source": [
    "1. colon cancer"
   ]
  },
  {
   "cell_type": "code",
   "execution_count": 71,
   "metadata": {},
   "outputs": [],
   "source": [
    "coef_train_colon, coef_test_colon = dwt(X_train_colon,X_test_colon)\n",
    "X_trainColonCA, X_trainColonCD = koef_train(coef_train_colon)\n",
    "X_testColonCA, X_testColonCD = koef_test(coef_test_colon)"
   ]
  },
  {
   "cell_type": "code",
   "execution_count": 72,
   "metadata": {},
   "outputs": [
    {
     "data": {
      "text/plain": [
       "(13, 1003)"
      ]
     },
     "execution_count": 72,
     "metadata": {},
     "output_type": "execute_result"
    }
   ],
   "source": [
    "X_testColonCA.shape"
   ]
  },
  {
   "cell_type": "code",
   "execution_count": 73,
   "metadata": {},
   "outputs": [
    {
     "data": {
      "text/plain": [
       "(49, 1003)"
      ]
     },
     "execution_count": 73,
     "metadata": {},
     "output_type": "execute_result"
    }
   ],
   "source": [
    "X_trainColonCD.shape"
   ]
  },
  {
   "cell_type": "code",
   "execution_count": 74,
   "metadata": {},
   "outputs": [
    {
     "data": {
      "text/plain": [
       "(49, 1003)"
      ]
     },
     "execution_count": 74,
     "metadata": {},
     "output_type": "execute_result"
    }
   ],
   "source": [
    "X_trainColonCA.shape"
   ]
  },
  {
   "cell_type": "markdown",
   "metadata": {},
   "source": [
    "2. Lung Cancer"
   ]
  },
  {
   "cell_type": "code",
   "execution_count": 75,
   "metadata": {},
   "outputs": [],
   "source": [
    "coef_train_lung, coef_test_lung = dwt(X_train_lung,X_test_lung)\n",
    "X_trainLungCA, X_trainLungCD = koef_train(coef_train_lung)\n",
    "X_testLungCA, X_testLungCD = koef_test(coef_test_lung)"
   ]
  },
  {
   "cell_type": "code",
   "execution_count": 76,
   "metadata": {},
   "outputs": [
    {
     "data": {
      "text/plain": [
       "(144, 6270)"
      ]
     },
     "execution_count": 76,
     "metadata": {},
     "output_type": "execute_result"
    }
   ],
   "source": [
    "X_trainLungCA.shape"
   ]
  },
  {
   "cell_type": "code",
   "execution_count": 77,
   "metadata": {},
   "outputs": [
    {
     "data": {
      "text/plain": [
       "(144, 6270)"
      ]
     },
     "execution_count": 77,
     "metadata": {},
     "output_type": "execute_result"
    }
   ],
   "source": [
    "X_trainLungCD.shape"
   ]
  },
  {
   "cell_type": "code",
   "execution_count": 78,
   "metadata": {},
   "outputs": [
    {
     "data": {
      "text/plain": [
       "(37, 6270)"
      ]
     },
     "execution_count": 78,
     "metadata": {},
     "output_type": "execute_result"
    }
   ],
   "source": [
    "X_testLungCA.shape"
   ]
  },
  {
   "cell_type": "markdown",
   "metadata": {},
   "source": [
    "3. Ovarian Cancer"
   ]
  },
  {
   "cell_type": "code",
   "execution_count": 79,
   "metadata": {},
   "outputs": [],
   "source": [
    "coef_train_ovarian, coef_test_ovarian = dwt(X_train_ovarian,X_test_ovarian)\n",
    "X_trainOvarianCA, X_trainOvarianCD = koef_train(coef_train_ovarian)\n",
    "X_testOvarianCA, X_testOvarianCD = koef_test(coef_test_ovarian)"
   ]
  },
  {
   "cell_type": "code",
   "execution_count": 80,
   "metadata": {},
   "outputs": [
    {
     "data": {
      "text/plain": [
       "(202, 7580)"
      ]
     },
     "execution_count": 80,
     "metadata": {},
     "output_type": "execute_result"
    }
   ],
   "source": [
    "X_trainOvarianCA.shape"
   ]
  },
  {
   "cell_type": "code",
   "execution_count": 81,
   "metadata": {},
   "outputs": [
    {
     "data": {
      "text/plain": [
       "(51, 7580)"
      ]
     },
     "execution_count": 81,
     "metadata": {},
     "output_type": "execute_result"
    }
   ],
   "source": [
    "X_testOvarianCA.shape"
   ]
  },
  {
   "cell_type": "markdown",
   "metadata": {},
   "source": [
    "4. Prostate Tumor"
   ]
  },
  {
   "cell_type": "code",
   "execution_count": 82,
   "metadata": {},
   "outputs": [],
   "source": [
    "coef_train_prostate, coef_test_prostate = dwt(X_train_prostate,X_test_prostate)\n",
    "X_trainProstateCA, X_trainProstateCD = koef_train(coef_train_prostate)\n",
    "X_testProstateCA, X_testProstateCD = koef_test(coef_test_prostate)"
   ]
  },
  {
   "cell_type": "code",
   "execution_count": 83,
   "metadata": {},
   "outputs": [
    {
     "data": {
      "text/plain": [
       "(108, 6303)"
      ]
     },
     "execution_count": 83,
     "metadata": {},
     "output_type": "execute_result"
    }
   ],
   "source": [
    "X_trainProstateCA.shape"
   ]
  },
  {
   "cell_type": "code",
   "execution_count": 84,
   "metadata": {},
   "outputs": [
    {
     "data": {
      "text/plain": [
       "(28, 6303)"
      ]
     },
     "execution_count": 84,
     "metadata": {},
     "output_type": "execute_result"
    }
   ],
   "source": [
    "X_testProstateCA.shape"
   ]
  },
  {
   "cell_type": "markdown",
   "metadata": {},
   "source": [
    "5. Central Nervous "
   ]
  },
  {
   "cell_type": "code",
   "execution_count": 85,
   "metadata": {},
   "outputs": [],
   "source": [
    "coef_train_central, coef_test_central = dwt(X_train_central,X_test_central)\n",
    "X_trainCentralCA, X_trainCentralCD = koef_train(coef_train_central)\n",
    "X_testCentralCA, X_testCentralCD = koef_test(coef_test_central)"
   ]
  },
  {
   "cell_type": "code",
   "execution_count": 86,
   "metadata": {},
   "outputs": [
    {
     "data": {
      "text/plain": [
       "(48, 3568)"
      ]
     },
     "execution_count": 86,
     "metadata": {},
     "output_type": "execute_result"
    }
   ],
   "source": [
    "X_trainCentralCA.shape"
   ]
  },
  {
   "cell_type": "code",
   "execution_count": 87,
   "metadata": {},
   "outputs": [
    {
     "data": {
      "text/plain": [
       "(12, 3568)"
      ]
     },
     "execution_count": 87,
     "metadata": {},
     "output_type": "execute_result"
    }
   ],
   "source": [
    "X_testCentralCA.shape"
   ]
  },
  {
   "cell_type": "code",
   "execution_count": 89,
   "metadata": {},
   "outputs": [
    {
     "data": {
      "text/plain": [
       "(48, 3568)"
      ]
     },
     "execution_count": 89,
     "metadata": {},
     "output_type": "execute_result"
    }
   ],
   "source": [
    "X_trainCentralCD.shape"
   ]
  },
  {
   "cell_type": "markdown",
   "metadata": {},
   "source": [
    "### Cross Validation and Hyperparameter Tuning"
   ]
  },
  {
   "cell_type": "code",
   "execution_count": 90,
   "metadata": {},
   "outputs": [],
   "source": [
    "model_rfg = RandomForestClassifier()"
   ]
  },
  {
   "cell_type": "markdown",
   "metadata": {},
   "source": [
    "#### Random Search Optimization"
   ]
  },
  {
   "cell_type": "raw",
   "metadata": {},
   "source": []
  },
  {
   "cell_type": "code",
   "execution_count": 91,
   "metadata": {},
   "outputs": [],
   "source": [
    "random_grid = {'n_estimators': [int(x) for x in np.linspace(start = 200, stop = 1000, num = 5)],\n",
    "               'max_features': ['auto', 'log2'],\n",
    "               'min_samples_split': [2, 5, 10],\n",
    "               'min_samples_leaf': [1, 2, 4],\n",
    "               'bootstrap': [True, False]\n",
    "                     }"
   ]
  },
  {
   "cell_type": "markdown",
   "metadata": {},
   "source": [
    "1. Colon Cancer Tuning"
   ]
  },
  {
   "cell_type": "code",
   "execution_count": 92,
   "metadata": {},
   "outputs": [
    {
     "name": "stdout",
     "output_type": "stream",
     "text": [
      "Fitting 3 folds for each of 50 candidates, totalling 150 fits\n"
     ]
    },
    {
     "name": "stderr",
     "output_type": "stream",
     "text": [
      "[Parallel(n_jobs=-1)]: Using backend LokyBackend with 4 concurrent workers.\n",
      "[Parallel(n_jobs=-1)]: Done  42 tasks      | elapsed:   34.0s\n",
      "[Parallel(n_jobs=-1)]: Done 150 out of 150 | elapsed:  1.2min finished\n"
     ]
    },
    {
     "data": {
      "text/plain": [
       "RandomizedSearchCV(cv=3, error_score='raise-deprecating',\n",
       "                   estimator=RandomForestClassifier(bootstrap=True,\n",
       "                                                    class_weight=None,\n",
       "                                                    criterion='gini',\n",
       "                                                    max_depth=None,\n",
       "                                                    max_features='auto',\n",
       "                                                    max_leaf_nodes=None,\n",
       "                                                    min_impurity_decrease=0.0,\n",
       "                                                    min_impurity_split=None,\n",
       "                                                    min_samples_leaf=1,\n",
       "                                                    min_samples_split=2,\n",
       "                                                    min_weight_fraction_leaf=0.0,\n",
       "                                                    n_estimators='warn',\n",
       "                                                    n_jobs=None,\n",
       "                                                    oob_sc...se,\n",
       "                                                    random_state=None,\n",
       "                                                    verbose=0,\n",
       "                                                    warm_start=False),\n",
       "                   iid='warn', n_iter=50, n_jobs=-1,\n",
       "                   param_distributions={'bootstrap': [True, False],\n",
       "                                        'max_features': ['auto', 'log2'],\n",
       "                                        'min_samples_leaf': [1, 2, 4],\n",
       "                                        'min_samples_split': [2, 5, 10],\n",
       "                                        'n_estimators': [200, 400, 600, 800,\n",
       "                                                         1000]},\n",
       "                   pre_dispatch='2*n_jobs', random_state=8, refit=True,\n",
       "                   return_train_score=False, scoring=None, verbose=1)"
      ]
     },
     "execution_count": 92,
     "metadata": {},
     "output_type": "execute_result"
    }
   ],
   "source": [
    "random_search_colon = RandomizedSearchCV(estimator=model_rfg,\n",
    "                                   param_distributions=random_grid,\n",
    "                                   n_iter=50,\n",
    "                                   cv=3, \n",
    "                                   verbose=1, \n",
    "                                   random_state=8,\n",
    "                                   n_jobs = -1\n",
    "                                  )\n",
    "\n",
    "# Fit the random search model\n",
    "random_search_colon.fit(X_trainColonCA, y_train_colon)"
   ]
  },
  {
   "cell_type": "code",
   "execution_count": 93,
   "metadata": {},
   "outputs": [
    {
     "name": "stdout",
     "output_type": "stream",
     "text": [
      "Best Params :  {'n_estimators': 800, 'min_samples_split': 10, 'min_samples_leaf': 1, 'max_features': 'auto', 'bootstrap': False}\n",
      "\n",
      "0.653 (+/-0.197) for {'n_estimators': 400, 'min_samples_split': 10, 'min_samples_leaf': 2, 'max_features': 'auto', 'bootstrap': True}\n",
      "0.633 (+/-0.154) for {'n_estimators': 400, 'min_samples_split': 10, 'min_samples_leaf': 1, 'max_features': 'log2', 'bootstrap': True}\n",
      "0.592 (+/-0.196) for {'n_estimators': 200, 'min_samples_split': 5, 'min_samples_leaf': 1, 'max_features': 'log2', 'bootstrap': True}\n",
      "0.673 (+/-0.147) for {'n_estimators': 800, 'min_samples_split': 10, 'min_samples_leaf': 1, 'max_features': 'auto', 'bootstrap': False}\n",
      "0.653 (+/-0.255) for {'n_estimators': 200, 'min_samples_split': 10, 'min_samples_leaf': 2, 'max_features': 'auto', 'bootstrap': True}\n",
      "0.612 (+/-0.218) for {'n_estimators': 200, 'min_samples_split': 5, 'min_samples_leaf': 2, 'max_features': 'log2', 'bootstrap': True}\n",
      "0.612 (+/-0.122) for {'n_estimators': 400, 'min_samples_split': 2, 'min_samples_leaf': 1, 'max_features': 'auto', 'bootstrap': True}\n",
      "0.633 (+/-0.154) for {'n_estimators': 800, 'min_samples_split': 5, 'min_samples_leaf': 2, 'max_features': 'auto', 'bootstrap': True}\n",
      "0.612 (+/-0.122) for {'n_estimators': 200, 'min_samples_split': 5, 'min_samples_leaf': 4, 'max_features': 'log2', 'bootstrap': False}\n",
      "0.612 (+/-0.148) for {'n_estimators': 600, 'min_samples_split': 10, 'min_samples_leaf': 2, 'max_features': 'auto', 'bootstrap': True}\n",
      "0.571 (+/-0.062) for {'n_estimators': 200, 'min_samples_split': 10, 'min_samples_leaf': 4, 'max_features': 'auto', 'bootstrap': True}\n",
      "0.633 (+/-0.154) for {'n_estimators': 600, 'min_samples_split': 2, 'min_samples_leaf': 4, 'max_features': 'auto', 'bootstrap': False}\n",
      "0.653 (+/-0.100) for {'n_estimators': 200, 'min_samples_split': 10, 'min_samples_leaf': 4, 'max_features': 'auto', 'bootstrap': False}\n",
      "0.633 (+/-0.154) for {'n_estimators': 400, 'min_samples_split': 5, 'min_samples_leaf': 4, 'max_features': 'auto', 'bootstrap': False}\n",
      "0.633 (+/-0.067) for {'n_estimators': 1000, 'min_samples_split': 10, 'min_samples_leaf': 4, 'max_features': 'log2', 'bootstrap': True}\n",
      "0.633 (+/-0.154) for {'n_estimators': 400, 'min_samples_split': 2, 'min_samples_leaf': 4, 'max_features': 'auto', 'bootstrap': False}\n",
      "0.612 (+/-0.122) for {'n_estimators': 600, 'min_samples_split': 5, 'min_samples_leaf': 1, 'max_features': 'log2', 'bootstrap': True}\n",
      "0.633 (+/-0.067) for {'n_estimators': 200, 'min_samples_split': 5, 'min_samples_leaf': 4, 'max_features': 'log2', 'bootstrap': True}\n",
      "0.633 (+/-0.154) for {'n_estimators': 600, 'min_samples_split': 5, 'min_samples_leaf': 4, 'max_features': 'auto', 'bootstrap': False}\n",
      "0.633 (+/-0.154) for {'n_estimators': 1000, 'min_samples_split': 2, 'min_samples_leaf': 1, 'max_features': 'auto', 'bootstrap': True}\n",
      "0.653 (+/-0.197) for {'n_estimators': 1000, 'min_samples_split': 2, 'min_samples_leaf': 1, 'max_features': 'log2', 'bootstrap': False}\n",
      "0.653 (+/-0.197) for {'n_estimators': 1000, 'min_samples_split': 10, 'min_samples_leaf': 4, 'max_features': 'auto', 'bootstrap': False}\n",
      "0.633 (+/-0.154) for {'n_estimators': 400, 'min_samples_split': 10, 'min_samples_leaf': 4, 'max_features': 'auto', 'bootstrap': False}\n",
      "0.633 (+/-0.154) for {'n_estimators': 800, 'min_samples_split': 2, 'min_samples_leaf': 2, 'max_features': 'log2', 'bootstrap': False}\n",
      "0.633 (+/-0.154) for {'n_estimators': 400, 'min_samples_split': 5, 'min_samples_leaf': 2, 'max_features': 'log2', 'bootstrap': False}\n",
      "0.653 (+/-0.197) for {'n_estimators': 600, 'min_samples_split': 2, 'min_samples_leaf': 2, 'max_features': 'auto', 'bootstrap': True}\n",
      "0.653 (+/-0.197) for {'n_estimators': 600, 'min_samples_split': 5, 'min_samples_leaf': 4, 'max_features': 'log2', 'bootstrap': False}\n",
      "0.612 (+/-0.209) for {'n_estimators': 200, 'min_samples_split': 2, 'min_samples_leaf': 1, 'max_features': 'log2', 'bootstrap': False}\n",
      "0.653 (+/-0.197) for {'n_estimators': 1000, 'min_samples_split': 5, 'min_samples_leaf': 2, 'max_features': 'log2', 'bootstrap': False}\n",
      "0.633 (+/-0.154) for {'n_estimators': 800, 'min_samples_split': 2, 'min_samples_leaf': 1, 'max_features': 'auto', 'bootstrap': True}\n",
      "0.633 (+/-0.154) for {'n_estimators': 600, 'min_samples_split': 2, 'min_samples_leaf': 2, 'max_features': 'log2', 'bootstrap': False}\n",
      "0.633 (+/-0.107) for {'n_estimators': 200, 'min_samples_split': 2, 'min_samples_leaf': 1, 'max_features': 'auto', 'bootstrap': False}\n",
      "0.612 (+/-0.122) for {'n_estimators': 400, 'min_samples_split': 10, 'min_samples_leaf': 1, 'max_features': 'log2', 'bootstrap': False}\n",
      "0.633 (+/-0.154) for {'n_estimators': 600, 'min_samples_split': 10, 'min_samples_leaf': 4, 'max_features': 'auto', 'bootstrap': False}\n",
      "0.653 (+/-0.197) for {'n_estimators': 600, 'min_samples_split': 10, 'min_samples_leaf': 2, 'max_features': 'auto', 'bootstrap': False}\n",
      "0.612 (+/-0.122) for {'n_estimators': 1000, 'min_samples_split': 5, 'min_samples_leaf': 2, 'max_features': 'log2', 'bootstrap': True}\n",
      "0.612 (+/-0.122) for {'n_estimators': 600, 'min_samples_split': 5, 'min_samples_leaf': 2, 'max_features': 'log2', 'bootstrap': True}\n",
      "0.633 (+/-0.154) for {'n_estimators': 400, 'min_samples_split': 5, 'min_samples_leaf': 1, 'max_features': 'log2', 'bootstrap': False}\n",
      "0.633 (+/-0.067) for {'n_estimators': 800, 'min_samples_split': 10, 'min_samples_leaf': 4, 'max_features': 'log2', 'bootstrap': True}\n",
      "0.633 (+/-0.067) for {'n_estimators': 200, 'min_samples_split': 2, 'min_samples_leaf': 4, 'max_features': 'auto', 'bootstrap': True}\n",
      "0.633 (+/-0.154) for {'n_estimators': 600, 'min_samples_split': 10, 'min_samples_leaf': 1, 'max_features': 'log2', 'bootstrap': True}\n",
      "0.633 (+/-0.154) for {'n_estimators': 600, 'min_samples_split': 10, 'min_samples_leaf': 4, 'max_features': 'log2', 'bootstrap': False}\n",
      "0.653 (+/-0.255) for {'n_estimators': 200, 'min_samples_split': 10, 'min_samples_leaf': 1, 'max_features': 'auto', 'bootstrap': True}\n",
      "0.633 (+/-0.154) for {'n_estimators': 1000, 'min_samples_split': 10, 'min_samples_leaf': 2, 'max_features': 'log2', 'bootstrap': False}\n",
      "0.633 (+/-0.154) for {'n_estimators': 400, 'min_samples_split': 2, 'min_samples_leaf': 4, 'max_features': 'log2', 'bootstrap': False}\n",
      "0.653 (+/-0.197) for {'n_estimators': 400, 'min_samples_split': 5, 'min_samples_leaf': 4, 'max_features': 'log2', 'bootstrap': False}\n",
      "0.653 (+/-0.197) for {'n_estimators': 600, 'min_samples_split': 5, 'min_samples_leaf': 1, 'max_features': 'auto', 'bootstrap': False}\n",
      "0.633 (+/-0.067) for {'n_estimators': 1000, 'min_samples_split': 2, 'min_samples_leaf': 4, 'max_features': 'log2', 'bootstrap': True}\n",
      "0.633 (+/-0.154) for {'n_estimators': 1000, 'min_samples_split': 2, 'min_samples_leaf': 2, 'max_features': 'log2', 'bootstrap': False}\n",
      "0.633 (+/-0.067) for {'n_estimators': 600, 'min_samples_split': 2, 'min_samples_leaf': 4, 'max_features': 'log2', 'bootstrap': True}\n"
     ]
    }
   ],
   "source": [
    "print(\"Best Params : \",random_search_colon.best_params_)\n",
    "print()\n",
    "means = random_search_colon.cv_results_['mean_test_score']\n",
    "stds = random_search_colon.cv_results_['std_test_score']\n",
    "\n",
    "for mean, std, params in zip(means, stds, random_search_colon.cv_results_['params']):\n",
    "        print(\"%0.3f (+/-%0.03f) for %r\"\n",
    "              % (mean, std * 2, params))"
   ]
  },
  {
   "cell_type": "markdown",
   "metadata": {},
   "source": [
    "2. Lung Cancer Tuning"
   ]
  },
  {
   "cell_type": "code",
   "execution_count": 94,
   "metadata": {},
   "outputs": [
    {
     "name": "stdout",
     "output_type": "stream",
     "text": [
      "Fitting 3 folds for each of 50 candidates, totalling 150 fits\n"
     ]
    },
    {
     "name": "stderr",
     "output_type": "stream",
     "text": [
      "[Parallel(n_jobs=-1)]: Using backend LokyBackend with 4 concurrent workers.\n",
      "[Parallel(n_jobs=-1)]: Done  42 tasks      | elapsed:   36.6s\n",
      "[Parallel(n_jobs=-1)]: Done 150 out of 150 | elapsed:  2.0min finished\n"
     ]
    },
    {
     "data": {
      "text/plain": [
       "RandomizedSearchCV(cv=3, error_score='raise-deprecating',\n",
       "                   estimator=RandomForestClassifier(bootstrap=True,\n",
       "                                                    class_weight=None,\n",
       "                                                    criterion='gini',\n",
       "                                                    max_depth=None,\n",
       "                                                    max_features='auto',\n",
       "                                                    max_leaf_nodes=None,\n",
       "                                                    min_impurity_decrease=0.0,\n",
       "                                                    min_impurity_split=None,\n",
       "                                                    min_samples_leaf=1,\n",
       "                                                    min_samples_split=2,\n",
       "                                                    min_weight_fraction_leaf=0.0,\n",
       "                                                    n_estimators='warn',\n",
       "                                                    n_jobs=None,\n",
       "                                                    oob_sc...se,\n",
       "                                                    random_state=None,\n",
       "                                                    verbose=0,\n",
       "                                                    warm_start=False),\n",
       "                   iid='warn', n_iter=50, n_jobs=-1,\n",
       "                   param_distributions={'bootstrap': [True, False],\n",
       "                                        'max_features': ['auto', 'log2'],\n",
       "                                        'min_samples_leaf': [1, 2, 4],\n",
       "                                        'min_samples_split': [2, 5, 10],\n",
       "                                        'n_estimators': [200, 400, 600, 800,\n",
       "                                                         1000]},\n",
       "                   pre_dispatch='2*n_jobs', random_state=8, refit=True,\n",
       "                   return_train_score=False, scoring=None, verbose=1)"
      ]
     },
     "execution_count": 94,
     "metadata": {},
     "output_type": "execute_result"
    }
   ],
   "source": [
    "random_search_lung = RandomizedSearchCV(estimator=model_rfg,\n",
    "                                   param_distributions=random_grid,\n",
    "                                   n_iter=50,\n",
    "                                   cv=3, \n",
    "                                   verbose=1, \n",
    "                                   random_state=8,\n",
    "                                   n_jobs = -1\n",
    "                                  )\n",
    "\n",
    "# Fit the random search model\n",
    "random_search_lung.fit(X_trainLungCA, y_train_lung)"
   ]
  },
  {
   "cell_type": "code",
   "execution_count": 95,
   "metadata": {},
   "outputs": [
    {
     "name": "stdout",
     "output_type": "stream",
     "text": [
      "Best Params :  {'n_estimators': 800, 'min_samples_split': 10, 'min_samples_leaf': 1, 'max_features': 'auto', 'bootstrap': False}\n",
      "\n",
      "0.965 (+/-0.020) for {'n_estimators': 400, 'min_samples_split': 10, 'min_samples_leaf': 2, 'max_features': 'auto', 'bootstrap': True}\n",
      "0.903 (+/-0.052) for {'n_estimators': 400, 'min_samples_split': 10, 'min_samples_leaf': 1, 'max_features': 'log2', 'bootstrap': True}\n",
      "0.896 (+/-0.000) for {'n_estimators': 200, 'min_samples_split': 5, 'min_samples_leaf': 1, 'max_features': 'log2', 'bootstrap': True}\n",
      "0.986 (+/-0.020) for {'n_estimators': 800, 'min_samples_split': 10, 'min_samples_leaf': 1, 'max_features': 'auto', 'bootstrap': False}\n",
      "0.965 (+/-0.020) for {'n_estimators': 200, 'min_samples_split': 10, 'min_samples_leaf': 2, 'max_features': 'auto', 'bootstrap': True}\n",
      "0.903 (+/-0.020) for {'n_estimators': 200, 'min_samples_split': 5, 'min_samples_leaf': 2, 'max_features': 'log2', 'bootstrap': True}\n",
      "0.958 (+/-0.034) for {'n_estimators': 400, 'min_samples_split': 2, 'min_samples_leaf': 1, 'max_features': 'auto', 'bootstrap': True}\n",
      "0.965 (+/-0.020) for {'n_estimators': 800, 'min_samples_split': 5, 'min_samples_leaf': 2, 'max_features': 'auto', 'bootstrap': True}\n",
      "0.944 (+/-0.039) for {'n_estimators': 200, 'min_samples_split': 5, 'min_samples_leaf': 4, 'max_features': 'log2', 'bootstrap': False}\n",
      "0.965 (+/-0.020) for {'n_estimators': 600, 'min_samples_split': 10, 'min_samples_leaf': 2, 'max_features': 'auto', 'bootstrap': True}\n",
      "0.944 (+/-0.052) for {'n_estimators': 200, 'min_samples_split': 10, 'min_samples_leaf': 4, 'max_features': 'auto', 'bootstrap': True}\n",
      "0.972 (+/-0.020) for {'n_estimators': 600, 'min_samples_split': 2, 'min_samples_leaf': 4, 'max_features': 'auto', 'bootstrap': False}\n",
      "0.965 (+/-0.020) for {'n_estimators': 200, 'min_samples_split': 10, 'min_samples_leaf': 4, 'max_features': 'auto', 'bootstrap': False}\n",
      "0.979 (+/-0.034) for {'n_estimators': 400, 'min_samples_split': 5, 'min_samples_leaf': 4, 'max_features': 'auto', 'bootstrap': False}\n",
      "0.882 (+/-0.020) for {'n_estimators': 1000, 'min_samples_split': 10, 'min_samples_leaf': 4, 'max_features': 'log2', 'bootstrap': True}\n",
      "0.972 (+/-0.020) for {'n_estimators': 400, 'min_samples_split': 2, 'min_samples_leaf': 4, 'max_features': 'auto', 'bootstrap': False}\n",
      "0.917 (+/-0.000) for {'n_estimators': 600, 'min_samples_split': 5, 'min_samples_leaf': 1, 'max_features': 'log2', 'bootstrap': True}\n",
      "0.889 (+/-0.020) for {'n_estimators': 200, 'min_samples_split': 5, 'min_samples_leaf': 4, 'max_features': 'log2', 'bootstrap': True}\n",
      "0.986 (+/-0.020) for {'n_estimators': 600, 'min_samples_split': 5, 'min_samples_leaf': 4, 'max_features': 'auto', 'bootstrap': False}\n",
      "0.965 (+/-0.020) for {'n_estimators': 1000, 'min_samples_split': 2, 'min_samples_leaf': 1, 'max_features': 'auto', 'bootstrap': True}\n",
      "0.958 (+/-0.034) for {'n_estimators': 1000, 'min_samples_split': 2, 'min_samples_leaf': 1, 'max_features': 'log2', 'bootstrap': False}\n",
      "0.979 (+/-0.034) for {'n_estimators': 1000, 'min_samples_split': 10, 'min_samples_leaf': 4, 'max_features': 'auto', 'bootstrap': False}\n",
      "0.972 (+/-0.020) for {'n_estimators': 400, 'min_samples_split': 10, 'min_samples_leaf': 4, 'max_features': 'auto', 'bootstrap': False}\n",
      "0.944 (+/-0.052) for {'n_estimators': 800, 'min_samples_split': 2, 'min_samples_leaf': 2, 'max_features': 'log2', 'bootstrap': False}\n",
      "0.958 (+/-0.034) for {'n_estimators': 400, 'min_samples_split': 5, 'min_samples_leaf': 2, 'max_features': 'log2', 'bootstrap': False}\n",
      "0.965 (+/-0.020) for {'n_estimators': 600, 'min_samples_split': 2, 'min_samples_leaf': 2, 'max_features': 'auto', 'bootstrap': True}\n",
      "0.924 (+/-0.020) for {'n_estimators': 600, 'min_samples_split': 5, 'min_samples_leaf': 4, 'max_features': 'log2', 'bootstrap': False}\n",
      "0.931 (+/-0.039) for {'n_estimators': 200, 'min_samples_split': 2, 'min_samples_leaf': 1, 'max_features': 'log2', 'bootstrap': False}\n",
      "0.951 (+/-0.039) for {'n_estimators': 1000, 'min_samples_split': 5, 'min_samples_leaf': 2, 'max_features': 'log2', 'bootstrap': False}\n",
      "0.965 (+/-0.020) for {'n_estimators': 800, 'min_samples_split': 2, 'min_samples_leaf': 1, 'max_features': 'auto', 'bootstrap': True}\n",
      "0.944 (+/-0.020) for {'n_estimators': 600, 'min_samples_split': 2, 'min_samples_leaf': 2, 'max_features': 'log2', 'bootstrap': False}\n",
      "0.979 (+/-0.034) for {'n_estimators': 200, 'min_samples_split': 2, 'min_samples_leaf': 1, 'max_features': 'auto', 'bootstrap': False}\n",
      "0.938 (+/-0.034) for {'n_estimators': 400, 'min_samples_split': 10, 'min_samples_leaf': 1, 'max_features': 'log2', 'bootstrap': False}\n",
      "0.979 (+/-0.034) for {'n_estimators': 600, 'min_samples_split': 10, 'min_samples_leaf': 4, 'max_features': 'auto', 'bootstrap': False}\n",
      "0.986 (+/-0.020) for {'n_estimators': 600, 'min_samples_split': 10, 'min_samples_leaf': 2, 'max_features': 'auto', 'bootstrap': False}\n",
      "0.903 (+/-0.020) for {'n_estimators': 1000, 'min_samples_split': 5, 'min_samples_leaf': 2, 'max_features': 'log2', 'bootstrap': True}\n",
      "0.903 (+/-0.020) for {'n_estimators': 600, 'min_samples_split': 5, 'min_samples_leaf': 2, 'max_features': 'log2', 'bootstrap': True}\n",
      "0.944 (+/-0.020) for {'n_estimators': 400, 'min_samples_split': 5, 'min_samples_leaf': 1, 'max_features': 'log2', 'bootstrap': False}\n",
      "0.882 (+/-0.039) for {'n_estimators': 800, 'min_samples_split': 10, 'min_samples_leaf': 4, 'max_features': 'log2', 'bootstrap': True}\n",
      "0.944 (+/-0.020) for {'n_estimators': 200, 'min_samples_split': 2, 'min_samples_leaf': 4, 'max_features': 'auto', 'bootstrap': True}\n",
      "0.924 (+/-0.020) for {'n_estimators': 600, 'min_samples_split': 10, 'min_samples_leaf': 1, 'max_features': 'log2', 'bootstrap': True}\n",
      "0.931 (+/-0.020) for {'n_estimators': 600, 'min_samples_split': 10, 'min_samples_leaf': 4, 'max_features': 'log2', 'bootstrap': False}\n",
      "0.951 (+/-0.052) for {'n_estimators': 200, 'min_samples_split': 10, 'min_samples_leaf': 1, 'max_features': 'auto', 'bootstrap': True}\n",
      "0.931 (+/-0.020) for {'n_estimators': 1000, 'min_samples_split': 10, 'min_samples_leaf': 2, 'max_features': 'log2', 'bootstrap': False}\n",
      "0.917 (+/-0.034) for {'n_estimators': 400, 'min_samples_split': 2, 'min_samples_leaf': 4, 'max_features': 'log2', 'bootstrap': False}\n",
      "0.931 (+/-0.020) for {'n_estimators': 400, 'min_samples_split': 5, 'min_samples_leaf': 4, 'max_features': 'log2', 'bootstrap': False}\n",
      "0.986 (+/-0.020) for {'n_estimators': 600, 'min_samples_split': 5, 'min_samples_leaf': 1, 'max_features': 'auto', 'bootstrap': False}\n",
      "0.882 (+/-0.039) for {'n_estimators': 1000, 'min_samples_split': 2, 'min_samples_leaf': 4, 'max_features': 'log2', 'bootstrap': True}\n",
      "0.951 (+/-0.020) for {'n_estimators': 1000, 'min_samples_split': 2, 'min_samples_leaf': 2, 'max_features': 'log2', 'bootstrap': False}\n",
      "0.882 (+/-0.020) for {'n_estimators': 600, 'min_samples_split': 2, 'min_samples_leaf': 4, 'max_features': 'log2', 'bootstrap': True}\n"
     ]
    }
   ],
   "source": [
    "print(\"Best Params : \",random_search_lung.best_params_)\n",
    "print()\n",
    "means = random_search_lung.cv_results_['mean_test_score']\n",
    "stds = random_search_lung.cv_results_['std_test_score']\n",
    "\n",
    "for mean, std, params in zip(means, stds, random_search_lung.cv_results_['params']):\n",
    "        print(\"%0.3f (+/-%0.03f) for %r\"\n",
    "              % (mean, std * 2, params))"
   ]
  },
  {
   "cell_type": "markdown",
   "metadata": {},
   "source": [
    "3. ovarian"
   ]
  },
  {
   "cell_type": "code",
   "execution_count": 96,
   "metadata": {},
   "outputs": [
    {
     "name": "stdout",
     "output_type": "stream",
     "text": [
      "Fitting 3 folds for each of 50 candidates, totalling 150 fits\n"
     ]
    },
    {
     "name": "stderr",
     "output_type": "stream",
     "text": [
      "[Parallel(n_jobs=-1)]: Using backend LokyBackend with 4 concurrent workers.\n",
      "[Parallel(n_jobs=-1)]: Done  42 tasks      | elapsed:  1.2min\n",
      "[Parallel(n_jobs=-1)]: Done 150 out of 150 | elapsed:  2.7min finished\n"
     ]
    },
    {
     "data": {
      "text/plain": [
       "RandomizedSearchCV(cv=3, error_score='raise-deprecating',\n",
       "                   estimator=RandomForestClassifier(bootstrap=True,\n",
       "                                                    class_weight=None,\n",
       "                                                    criterion='gini',\n",
       "                                                    max_depth=None,\n",
       "                                                    max_features='auto',\n",
       "                                                    max_leaf_nodes=None,\n",
       "                                                    min_impurity_decrease=0.0,\n",
       "                                                    min_impurity_split=None,\n",
       "                                                    min_samples_leaf=1,\n",
       "                                                    min_samples_split=2,\n",
       "                                                    min_weight_fraction_leaf=0.0,\n",
       "                                                    n_estimators='warn',\n",
       "                                                    n_jobs=None,\n",
       "                                                    oob_sc...se,\n",
       "                                                    random_state=None,\n",
       "                                                    verbose=0,\n",
       "                                                    warm_start=False),\n",
       "                   iid='warn', n_iter=50, n_jobs=-1,\n",
       "                   param_distributions={'bootstrap': [True, False],\n",
       "                                        'max_features': ['auto', 'log2'],\n",
       "                                        'min_samples_leaf': [1, 2, 4],\n",
       "                                        'min_samples_split': [2, 5, 10],\n",
       "                                        'n_estimators': [200, 400, 600, 800,\n",
       "                                                         1000]},\n",
       "                   pre_dispatch='2*n_jobs', random_state=8, refit=True,\n",
       "                   return_train_score=False, scoring=None, verbose=1)"
      ]
     },
     "execution_count": 96,
     "metadata": {},
     "output_type": "execute_result"
    }
   ],
   "source": [
    "random_search_ovarian = RandomizedSearchCV(estimator=model_rfg,\n",
    "                                   param_distributions=random_grid,\n",
    "                                   n_iter=50,\n",
    "                                   cv=3, \n",
    "                                   verbose=1, \n",
    "                                   random_state=8,\n",
    "                                   n_jobs = -1\n",
    "                                  )\n",
    "\n",
    "# Fit the random search model\n",
    "random_search_ovarian.fit(X_trainOvarianCA, y_train_ovarian)"
   ]
  },
  {
   "cell_type": "code",
   "execution_count": 97,
   "metadata": {},
   "outputs": [
    {
     "name": "stdout",
     "output_type": "stream",
     "text": [
      "Best Params :  {'n_estimators': 600, 'min_samples_split': 5, 'min_samples_leaf': 1, 'max_features': 'auto', 'bootstrap': False}\n",
      "\n",
      "0.975 (+/-0.037) for {'n_estimators': 400, 'min_samples_split': 10, 'min_samples_leaf': 2, 'max_features': 'auto', 'bootstrap': True}\n",
      "0.916 (+/-0.098) for {'n_estimators': 400, 'min_samples_split': 10, 'min_samples_leaf': 1, 'max_features': 'log2', 'bootstrap': True}\n",
      "0.911 (+/-0.088) for {'n_estimators': 200, 'min_samples_split': 5, 'min_samples_leaf': 1, 'max_features': 'log2', 'bootstrap': True}\n",
      "0.980 (+/-0.037) for {'n_estimators': 800, 'min_samples_split': 10, 'min_samples_leaf': 1, 'max_features': 'auto', 'bootstrap': False}\n",
      "0.975 (+/-0.051) for {'n_estimators': 200, 'min_samples_split': 10, 'min_samples_leaf': 2, 'max_features': 'auto', 'bootstrap': True}\n",
      "0.916 (+/-0.110) for {'n_estimators': 200, 'min_samples_split': 5, 'min_samples_leaf': 2, 'max_features': 'log2', 'bootstrap': True}\n",
      "0.975 (+/-0.051) for {'n_estimators': 400, 'min_samples_split': 2, 'min_samples_leaf': 1, 'max_features': 'auto', 'bootstrap': True}\n",
      "0.975 (+/-0.051) for {'n_estimators': 800, 'min_samples_split': 5, 'min_samples_leaf': 2, 'max_features': 'auto', 'bootstrap': True}\n",
      "0.911 (+/-0.097) for {'n_estimators': 200, 'min_samples_split': 5, 'min_samples_leaf': 4, 'max_features': 'log2', 'bootstrap': False}\n",
      "0.975 (+/-0.051) for {'n_estimators': 600, 'min_samples_split': 10, 'min_samples_leaf': 2, 'max_features': 'auto', 'bootstrap': True}\n",
      "0.965 (+/-0.050) for {'n_estimators': 200, 'min_samples_split': 10, 'min_samples_leaf': 4, 'max_features': 'auto', 'bootstrap': True}\n",
      "0.975 (+/-0.051) for {'n_estimators': 600, 'min_samples_split': 2, 'min_samples_leaf': 4, 'max_features': 'auto', 'bootstrap': False}\n",
      "0.975 (+/-0.051) for {'n_estimators': 200, 'min_samples_split': 10, 'min_samples_leaf': 4, 'max_features': 'auto', 'bootstrap': False}\n",
      "0.975 (+/-0.051) for {'n_estimators': 400, 'min_samples_split': 5, 'min_samples_leaf': 4, 'max_features': 'auto', 'bootstrap': False}\n",
      "0.911 (+/-0.097) for {'n_estimators': 1000, 'min_samples_split': 10, 'min_samples_leaf': 4, 'max_features': 'log2', 'bootstrap': True}\n",
      "0.975 (+/-0.051) for {'n_estimators': 400, 'min_samples_split': 2, 'min_samples_leaf': 4, 'max_features': 'auto', 'bootstrap': False}\n",
      "0.921 (+/-0.101) for {'n_estimators': 600, 'min_samples_split': 5, 'min_samples_leaf': 1, 'max_features': 'log2', 'bootstrap': True}\n",
      "0.906 (+/-0.134) for {'n_estimators': 200, 'min_samples_split': 5, 'min_samples_leaf': 4, 'max_features': 'log2', 'bootstrap': True}\n",
      "0.975 (+/-0.051) for {'n_estimators': 600, 'min_samples_split': 5, 'min_samples_leaf': 4, 'max_features': 'auto', 'bootstrap': False}\n",
      "0.975 (+/-0.051) for {'n_estimators': 1000, 'min_samples_split': 2, 'min_samples_leaf': 1, 'max_features': 'auto', 'bootstrap': True}\n",
      "0.926 (+/-0.088) for {'n_estimators': 1000, 'min_samples_split': 2, 'min_samples_leaf': 1, 'max_features': 'log2', 'bootstrap': False}\n",
      "0.975 (+/-0.051) for {'n_estimators': 1000, 'min_samples_split': 10, 'min_samples_leaf': 4, 'max_features': 'auto', 'bootstrap': False}\n",
      "0.975 (+/-0.051) for {'n_estimators': 400, 'min_samples_split': 10, 'min_samples_leaf': 4, 'max_features': 'auto', 'bootstrap': False}\n",
      "0.911 (+/-0.112) for {'n_estimators': 800, 'min_samples_split': 2, 'min_samples_leaf': 2, 'max_features': 'log2', 'bootstrap': False}\n",
      "0.921 (+/-0.125) for {'n_estimators': 400, 'min_samples_split': 5, 'min_samples_leaf': 2, 'max_features': 'log2', 'bootstrap': False}\n",
      "0.975 (+/-0.051) for {'n_estimators': 600, 'min_samples_split': 2, 'min_samples_leaf': 2, 'max_features': 'auto', 'bootstrap': True}\n",
      "0.921 (+/-0.098) for {'n_estimators': 600, 'min_samples_split': 5, 'min_samples_leaf': 4, 'max_features': 'log2', 'bootstrap': False}\n",
      "0.921 (+/-0.101) for {'n_estimators': 200, 'min_samples_split': 2, 'min_samples_leaf': 1, 'max_features': 'log2', 'bootstrap': False}\n",
      "0.916 (+/-0.085) for {'n_estimators': 1000, 'min_samples_split': 5, 'min_samples_leaf': 2, 'max_features': 'log2', 'bootstrap': False}\n",
      "0.975 (+/-0.051) for {'n_estimators': 800, 'min_samples_split': 2, 'min_samples_leaf': 1, 'max_features': 'auto', 'bootstrap': True}\n",
      "0.916 (+/-0.098) for {'n_estimators': 600, 'min_samples_split': 2, 'min_samples_leaf': 2, 'max_features': 'log2', 'bootstrap': False}\n",
      "0.980 (+/-0.037) for {'n_estimators': 200, 'min_samples_split': 2, 'min_samples_leaf': 1, 'max_features': 'auto', 'bootstrap': False}\n",
      "0.926 (+/-0.088) for {'n_estimators': 400, 'min_samples_split': 10, 'min_samples_leaf': 1, 'max_features': 'log2', 'bootstrap': False}\n",
      "0.975 (+/-0.051) for {'n_estimators': 600, 'min_samples_split': 10, 'min_samples_leaf': 4, 'max_features': 'auto', 'bootstrap': False}\n",
      "0.975 (+/-0.051) for {'n_estimators': 600, 'min_samples_split': 10, 'min_samples_leaf': 2, 'max_features': 'auto', 'bootstrap': False}\n",
      "0.916 (+/-0.085) for {'n_estimators': 1000, 'min_samples_split': 5, 'min_samples_leaf': 2, 'max_features': 'log2', 'bootstrap': True}\n",
      "0.911 (+/-0.097) for {'n_estimators': 600, 'min_samples_split': 5, 'min_samples_leaf': 2, 'max_features': 'log2', 'bootstrap': True}\n",
      "0.926 (+/-0.088) for {'n_estimators': 400, 'min_samples_split': 5, 'min_samples_leaf': 1, 'max_features': 'log2', 'bootstrap': False}\n",
      "0.906 (+/-0.098) for {'n_estimators': 800, 'min_samples_split': 10, 'min_samples_leaf': 4, 'max_features': 'log2', 'bootstrap': True}\n",
      "0.970 (+/-0.049) for {'n_estimators': 200, 'min_samples_split': 2, 'min_samples_leaf': 4, 'max_features': 'auto', 'bootstrap': True}\n",
      "0.916 (+/-0.085) for {'n_estimators': 600, 'min_samples_split': 10, 'min_samples_leaf': 1, 'max_features': 'log2', 'bootstrap': True}\n",
      "0.921 (+/-0.110) for {'n_estimators': 600, 'min_samples_split': 10, 'min_samples_leaf': 4, 'max_features': 'log2', 'bootstrap': False}\n",
      "0.975 (+/-0.051) for {'n_estimators': 200, 'min_samples_split': 10, 'min_samples_leaf': 1, 'max_features': 'auto', 'bootstrap': True}\n",
      "0.916 (+/-0.098) for {'n_estimators': 1000, 'min_samples_split': 10, 'min_samples_leaf': 2, 'max_features': 'log2', 'bootstrap': False}\n",
      "0.911 (+/-0.097) for {'n_estimators': 400, 'min_samples_split': 2, 'min_samples_leaf': 4, 'max_features': 'log2', 'bootstrap': False}\n",
      "0.901 (+/-0.123) for {'n_estimators': 400, 'min_samples_split': 5, 'min_samples_leaf': 4, 'max_features': 'log2', 'bootstrap': False}\n",
      "0.985 (+/-0.024) for {'n_estimators': 600, 'min_samples_split': 5, 'min_samples_leaf': 1, 'max_features': 'auto', 'bootstrap': False}\n",
      "0.906 (+/-0.110) for {'n_estimators': 1000, 'min_samples_split': 2, 'min_samples_leaf': 4, 'max_features': 'log2', 'bootstrap': True}\n",
      "0.916 (+/-0.085) for {'n_estimators': 1000, 'min_samples_split': 2, 'min_samples_leaf': 2, 'max_features': 'log2', 'bootstrap': False}\n",
      "0.896 (+/-0.122) for {'n_estimators': 600, 'min_samples_split': 2, 'min_samples_leaf': 4, 'max_features': 'log2', 'bootstrap': True}\n"
     ]
    }
   ],
   "source": [
    "print(\"Best Params : \",random_search_ovarian.best_params_)\n",
    "print()\n",
    "means = random_search_ovarian.cv_results_['mean_test_score']\n",
    "stds = random_search_ovarian.cv_results_['std_test_score']\n",
    "\n",
    "for mean, std, params in zip(means, stds, random_search_ovarian.cv_results_['params']):\n",
    "        print(\"%0.3f (+/-%0.03f) for %r\"\n",
    "              % (mean, std * 2, params))"
   ]
  },
  {
   "cell_type": "markdown",
   "metadata": {},
   "source": [
    "5. Prostate Tumor Tuning"
   ]
  },
  {
   "cell_type": "code",
   "execution_count": 98,
   "metadata": {},
   "outputs": [
    {
     "name": "stdout",
     "output_type": "stream",
     "text": [
      "Fitting 3 folds for each of 50 candidates, totalling 150 fits\n"
     ]
    },
    {
     "name": "stderr",
     "output_type": "stream",
     "text": [
      "[Parallel(n_jobs=-1)]: Using backend LokyBackend with 4 concurrent workers.\n",
      "[Parallel(n_jobs=-1)]: Done  42 tasks      | elapsed:   31.1s\n",
      "[Parallel(n_jobs=-1)]: Done 150 out of 150 | elapsed:  1.5min finished\n"
     ]
    },
    {
     "data": {
      "text/plain": [
       "RandomizedSearchCV(cv=3, error_score='raise-deprecating',\n",
       "                   estimator=RandomForestClassifier(bootstrap=True,\n",
       "                                                    class_weight=None,\n",
       "                                                    criterion='gini',\n",
       "                                                    max_depth=None,\n",
       "                                                    max_features='auto',\n",
       "                                                    max_leaf_nodes=None,\n",
       "                                                    min_impurity_decrease=0.0,\n",
       "                                                    min_impurity_split=None,\n",
       "                                                    min_samples_leaf=1,\n",
       "                                                    min_samples_split=2,\n",
       "                                                    min_weight_fraction_leaf=0.0,\n",
       "                                                    n_estimators='warn',\n",
       "                                                    n_jobs=None,\n",
       "                                                    oob_sc...se,\n",
       "                                                    random_state=None,\n",
       "                                                    verbose=0,\n",
       "                                                    warm_start=False),\n",
       "                   iid='warn', n_iter=50, n_jobs=-1,\n",
       "                   param_distributions={'bootstrap': [True, False],\n",
       "                                        'max_features': ['auto', 'log2'],\n",
       "                                        'min_samples_leaf': [1, 2, 4],\n",
       "                                        'min_samples_split': [2, 5, 10],\n",
       "                                        'n_estimators': [200, 400, 600, 800,\n",
       "                                                         1000]},\n",
       "                   pre_dispatch='2*n_jobs', random_state=8, refit=True,\n",
       "                   return_train_score=False, scoring=None, verbose=1)"
      ]
     },
     "execution_count": 98,
     "metadata": {},
     "output_type": "execute_result"
    }
   ],
   "source": [
    "random_search_prostate = RandomizedSearchCV(estimator=model_rfg,\n",
    "                                   param_distributions=random_grid,\n",
    "                                   n_iter=50,\n",
    "                                   cv=3, \n",
    "                                   verbose=1, \n",
    "                                   random_state=8,\n",
    "                                   n_jobs = -1\n",
    "                                  )\n",
    "\n",
    "# Fit the random search model\n",
    "random_search_prostate.fit(X_trainProstateCD, y_train_prostate)"
   ]
  },
  {
   "cell_type": "code",
   "execution_count": 99,
   "metadata": {},
   "outputs": [
    {
     "name": "stdout",
     "output_type": "stream",
     "text": [
      "Best Params :  {'n_estimators': 800, 'min_samples_split': 10, 'min_samples_leaf': 1, 'max_features': 'auto', 'bootstrap': False}\n",
      "\n",
      "0.870 (+/-0.156) for {'n_estimators': 400, 'min_samples_split': 10, 'min_samples_leaf': 2, 'max_features': 'auto', 'bootstrap': True}\n",
      "0.815 (+/-0.186) for {'n_estimators': 400, 'min_samples_split': 10, 'min_samples_leaf': 1, 'max_features': 'log2', 'bootstrap': True}\n",
      "0.843 (+/-0.111) for {'n_estimators': 200, 'min_samples_split': 5, 'min_samples_leaf': 1, 'max_features': 'log2', 'bootstrap': True}\n",
      "0.898 (+/-0.068) for {'n_estimators': 800, 'min_samples_split': 10, 'min_samples_leaf': 1, 'max_features': 'auto', 'bootstrap': False}\n",
      "0.880 (+/-0.141) for {'n_estimators': 200, 'min_samples_split': 10, 'min_samples_leaf': 2, 'max_features': 'auto', 'bootstrap': True}\n",
      "0.843 (+/-0.178) for {'n_estimators': 200, 'min_samples_split': 5, 'min_samples_leaf': 2, 'max_features': 'log2', 'bootstrap': True}\n",
      "0.880 (+/-0.136) for {'n_estimators': 400, 'min_samples_split': 2, 'min_samples_leaf': 1, 'max_features': 'auto', 'bootstrap': True}\n",
      "0.880 (+/-0.093) for {'n_estimators': 800, 'min_samples_split': 5, 'min_samples_leaf': 2, 'max_features': 'auto', 'bootstrap': True}\n",
      "0.843 (+/-0.145) for {'n_estimators': 200, 'min_samples_split': 5, 'min_samples_leaf': 4, 'max_features': 'log2', 'bootstrap': False}\n",
      "0.870 (+/-0.145) for {'n_estimators': 600, 'min_samples_split': 10, 'min_samples_leaf': 2, 'max_features': 'auto', 'bootstrap': True}\n",
      "0.870 (+/-0.105) for {'n_estimators': 200, 'min_samples_split': 10, 'min_samples_leaf': 4, 'max_features': 'auto', 'bootstrap': True}\n",
      "0.870 (+/-0.105) for {'n_estimators': 600, 'min_samples_split': 2, 'min_samples_leaf': 4, 'max_features': 'auto', 'bootstrap': False}\n",
      "0.889 (+/-0.119) for {'n_estimators': 200, 'min_samples_split': 10, 'min_samples_leaf': 4, 'max_features': 'auto', 'bootstrap': False}\n",
      "0.880 (+/-0.093) for {'n_estimators': 400, 'min_samples_split': 5, 'min_samples_leaf': 4, 'max_features': 'auto', 'bootstrap': False}\n",
      "0.824 (+/-0.217) for {'n_estimators': 1000, 'min_samples_split': 10, 'min_samples_leaf': 4, 'max_features': 'log2', 'bootstrap': True}\n",
      "0.870 (+/-0.111) for {'n_estimators': 400, 'min_samples_split': 2, 'min_samples_leaf': 4, 'max_features': 'auto', 'bootstrap': False}\n",
      "0.843 (+/-0.192) for {'n_estimators': 600, 'min_samples_split': 5, 'min_samples_leaf': 1, 'max_features': 'log2', 'bootstrap': True}\n",
      "0.833 (+/-0.157) for {'n_estimators': 200, 'min_samples_split': 5, 'min_samples_leaf': 4, 'max_features': 'log2', 'bootstrap': True}\n",
      "0.898 (+/-0.112) for {'n_estimators': 600, 'min_samples_split': 5, 'min_samples_leaf': 4, 'max_features': 'auto', 'bootstrap': False}\n",
      "0.898 (+/-0.068) for {'n_estimators': 1000, 'min_samples_split': 2, 'min_samples_leaf': 1, 'max_features': 'auto', 'bootstrap': True}\n",
      "0.889 (+/-0.119) for {'n_estimators': 1000, 'min_samples_split': 2, 'min_samples_leaf': 1, 'max_features': 'log2', 'bootstrap': False}\n",
      "0.898 (+/-0.068) for {'n_estimators': 1000, 'min_samples_split': 10, 'min_samples_leaf': 4, 'max_features': 'auto', 'bootstrap': False}\n",
      "0.889 (+/-0.119) for {'n_estimators': 400, 'min_samples_split': 10, 'min_samples_leaf': 4, 'max_features': 'auto', 'bootstrap': False}\n",
      "0.861 (+/-0.119) for {'n_estimators': 800, 'min_samples_split': 2, 'min_samples_leaf': 2, 'max_features': 'log2', 'bootstrap': False}\n",
      "0.880 (+/-0.173) for {'n_estimators': 400, 'min_samples_split': 5, 'min_samples_leaf': 2, 'max_features': 'log2', 'bootstrap': False}\n",
      "0.833 (+/-0.161) for {'n_estimators': 600, 'min_samples_split': 2, 'min_samples_leaf': 2, 'max_features': 'auto', 'bootstrap': True}\n",
      "0.880 (+/-0.093) for {'n_estimators': 600, 'min_samples_split': 5, 'min_samples_leaf': 4, 'max_features': 'log2', 'bootstrap': False}\n",
      "0.833 (+/-0.177) for {'n_estimators': 200, 'min_samples_split': 2, 'min_samples_leaf': 1, 'max_features': 'log2', 'bootstrap': False}\n",
      "0.880 (+/-0.131) for {'n_estimators': 1000, 'min_samples_split': 5, 'min_samples_leaf': 2, 'max_features': 'log2', 'bootstrap': False}\n",
      "0.852 (+/-0.131) for {'n_estimators': 800, 'min_samples_split': 2, 'min_samples_leaf': 1, 'max_features': 'auto', 'bootstrap': True}\n",
      "0.861 (+/-0.122) for {'n_estimators': 600, 'min_samples_split': 2, 'min_samples_leaf': 2, 'max_features': 'log2', 'bootstrap': False}\n",
      "0.870 (+/-0.067) for {'n_estimators': 200, 'min_samples_split': 2, 'min_samples_leaf': 1, 'max_features': 'auto', 'bootstrap': False}\n",
      "0.870 (+/-0.184) for {'n_estimators': 400, 'min_samples_split': 10, 'min_samples_leaf': 1, 'max_features': 'log2', 'bootstrap': False}\n",
      "0.880 (+/-0.093) for {'n_estimators': 600, 'min_samples_split': 10, 'min_samples_leaf': 4, 'max_features': 'auto', 'bootstrap': False}\n",
      "0.870 (+/-0.111) for {'n_estimators': 600, 'min_samples_split': 10, 'min_samples_leaf': 2, 'max_features': 'auto', 'bootstrap': False}\n",
      "0.824 (+/-0.188) for {'n_estimators': 1000, 'min_samples_split': 5, 'min_samples_leaf': 2, 'max_features': 'log2', 'bootstrap': True}\n",
      "0.843 (+/-0.192) for {'n_estimators': 600, 'min_samples_split': 5, 'min_samples_leaf': 2, 'max_features': 'log2', 'bootstrap': True}\n",
      "0.880 (+/-0.131) for {'n_estimators': 400, 'min_samples_split': 5, 'min_samples_leaf': 1, 'max_features': 'log2', 'bootstrap': False}\n",
      "0.806 (+/-0.197) for {'n_estimators': 800, 'min_samples_split': 10, 'min_samples_leaf': 4, 'max_features': 'log2', 'bootstrap': True}\n",
      "0.824 (+/-0.136) for {'n_estimators': 200, 'min_samples_split': 2, 'min_samples_leaf': 4, 'max_features': 'auto', 'bootstrap': True}\n",
      "0.806 (+/-0.238) for {'n_estimators': 600, 'min_samples_split': 10, 'min_samples_leaf': 1, 'max_features': 'log2', 'bootstrap': True}\n",
      "0.861 (+/-0.157) for {'n_estimators': 600, 'min_samples_split': 10, 'min_samples_leaf': 4, 'max_features': 'log2', 'bootstrap': False}\n",
      "0.861 (+/-0.132) for {'n_estimators': 200, 'min_samples_split': 10, 'min_samples_leaf': 1, 'max_features': 'auto', 'bootstrap': True}\n",
      "0.889 (+/-0.079) for {'n_estimators': 1000, 'min_samples_split': 10, 'min_samples_leaf': 2, 'max_features': 'log2', 'bootstrap': False}\n",
      "0.861 (+/-0.157) for {'n_estimators': 400, 'min_samples_split': 2, 'min_samples_leaf': 4, 'max_features': 'log2', 'bootstrap': False}\n",
      "0.870 (+/-0.111) for {'n_estimators': 400, 'min_samples_split': 5, 'min_samples_leaf': 4, 'max_features': 'log2', 'bootstrap': False}\n",
      "0.880 (+/-0.110) for {'n_estimators': 600, 'min_samples_split': 5, 'min_samples_leaf': 1, 'max_features': 'auto', 'bootstrap': False}\n",
      "0.815 (+/-0.223) for {'n_estimators': 1000, 'min_samples_split': 2, 'min_samples_leaf': 4, 'max_features': 'log2', 'bootstrap': True}\n",
      "0.861 (+/-0.157) for {'n_estimators': 1000, 'min_samples_split': 2, 'min_samples_leaf': 2, 'max_features': 'log2', 'bootstrap': False}\n",
      "0.833 (+/-0.161) for {'n_estimators': 600, 'min_samples_split': 2, 'min_samples_leaf': 4, 'max_features': 'log2', 'bootstrap': True}\n"
     ]
    }
   ],
   "source": [
    "print(\"Best Params : \",random_search_prostate.best_params_)\n",
    "print()\n",
    "means = random_search_prostate.cv_results_['mean_test_score']\n",
    "stds = random_search_prostate.cv_results_['std_test_score']\n",
    "\n",
    "for mean, std, params in zip(means, stds, random_search_prostate.cv_results_['params']):\n",
    "        print(\"%0.3f (+/-%0.03f) for %r\"\n",
    "              % (mean, std * 2, params))"
   ]
  },
  {
   "cell_type": "markdown",
   "metadata": {},
   "source": [
    "6. Central Nervous "
   ]
  },
  {
   "cell_type": "code",
   "execution_count": 100,
   "metadata": {},
   "outputs": [
    {
     "name": "stdout",
     "output_type": "stream",
     "text": [
      "Fitting 3 folds for each of 50 candidates, totalling 150 fits\n"
     ]
    },
    {
     "name": "stderr",
     "output_type": "stream",
     "text": [
      "[Parallel(n_jobs=-1)]: Using backend LokyBackend with 4 concurrent workers.\n",
      "[Parallel(n_jobs=-1)]: Done  42 tasks      | elapsed:   18.9s\n",
      "[Parallel(n_jobs=-1)]: Done 150 out of 150 | elapsed:  1.0min finished\n"
     ]
    },
    {
     "data": {
      "text/plain": [
       "RandomizedSearchCV(cv=3, error_score='raise-deprecating',\n",
       "                   estimator=RandomForestClassifier(bootstrap=True,\n",
       "                                                    class_weight=None,\n",
       "                                                    criterion='gini',\n",
       "                                                    max_depth=None,\n",
       "                                                    max_features='auto',\n",
       "                                                    max_leaf_nodes=None,\n",
       "                                                    min_impurity_decrease=0.0,\n",
       "                                                    min_impurity_split=None,\n",
       "                                                    min_samples_leaf=1,\n",
       "                                                    min_samples_split=2,\n",
       "                                                    min_weight_fraction_leaf=0.0,\n",
       "                                                    n_estimators='warn',\n",
       "                                                    n_jobs=None,\n",
       "                                                    oob_sc...se,\n",
       "                                                    random_state=None,\n",
       "                                                    verbose=0,\n",
       "                                                    warm_start=False),\n",
       "                   iid='warn', n_iter=50, n_jobs=-1,\n",
       "                   param_distributions={'bootstrap': [True, False],\n",
       "                                        'max_features': ['auto', 'log2'],\n",
       "                                        'min_samples_leaf': [1, 2, 4],\n",
       "                                        'min_samples_split': [2, 5, 10],\n",
       "                                        'n_estimators': [200, 400, 600, 800,\n",
       "                                                         1000]},\n",
       "                   pre_dispatch='2*n_jobs', random_state=8, refit=True,\n",
       "                   return_train_score=False, scoring=None, verbose=1)"
      ]
     },
     "execution_count": 100,
     "metadata": {},
     "output_type": "execute_result"
    }
   ],
   "source": [
    "random_search_central = RandomizedSearchCV(estimator=model_rfg,\n",
    "                                   param_distributions=random_grid,\n",
    "                                   n_iter=50,\n",
    "                                   cv=3, \n",
    "                                   verbose=1, \n",
    "                                   random_state=8,\n",
    "                                   n_jobs = -1\n",
    "                                  )\n",
    "\n",
    "# Fit the random search model\n",
    "random_search_central.fit(X_trainCentralCA, y_train_central)"
   ]
  },
  {
   "cell_type": "code",
   "execution_count": 101,
   "metadata": {},
   "outputs": [
    {
     "name": "stdout",
     "output_type": "stream",
     "text": [
      "Best Params :  {'n_estimators': 800, 'min_samples_split': 10, 'min_samples_leaf': 1, 'max_features': 'auto', 'bootstrap': False}\n",
      "\n",
      "0.604 (+/-0.156) for {'n_estimators': 400, 'min_samples_split': 10, 'min_samples_leaf': 2, 'max_features': 'auto', 'bootstrap': True}\n",
      "0.604 (+/-0.156) for {'n_estimators': 400, 'min_samples_split': 10, 'min_samples_leaf': 1, 'max_features': 'log2', 'bootstrap': True}\n",
      "0.583 (+/-0.118) for {'n_estimators': 200, 'min_samples_split': 5, 'min_samples_leaf': 1, 'max_features': 'log2', 'bootstrap': True}\n",
      "0.667 (+/-0.156) for {'n_estimators': 800, 'min_samples_split': 10, 'min_samples_leaf': 1, 'max_features': 'auto', 'bootstrap': False}\n",
      "0.604 (+/-0.156) for {'n_estimators': 200, 'min_samples_split': 10, 'min_samples_leaf': 2, 'max_features': 'auto', 'bootstrap': True}\n",
      "0.604 (+/-0.059) for {'n_estimators': 200, 'min_samples_split': 5, 'min_samples_leaf': 2, 'max_features': 'log2', 'bootstrap': True}\n",
      "0.604 (+/-0.156) for {'n_estimators': 400, 'min_samples_split': 2, 'min_samples_leaf': 1, 'max_features': 'auto', 'bootstrap': True}\n",
      "0.625 (+/-0.102) for {'n_estimators': 800, 'min_samples_split': 5, 'min_samples_leaf': 2, 'max_features': 'auto', 'bootstrap': True}\n",
      "0.604 (+/-0.156) for {'n_estimators': 200, 'min_samples_split': 5, 'min_samples_leaf': 4, 'max_features': 'log2', 'bootstrap': False}\n",
      "0.646 (+/-0.059) for {'n_estimators': 600, 'min_samples_split': 10, 'min_samples_leaf': 2, 'max_features': 'auto', 'bootstrap': True}\n",
      "0.625 (+/-0.102) for {'n_estimators': 200, 'min_samples_split': 10, 'min_samples_leaf': 4, 'max_features': 'auto', 'bootstrap': True}\n",
      "0.625 (+/-0.102) for {'n_estimators': 600, 'min_samples_split': 2, 'min_samples_leaf': 4, 'max_features': 'auto', 'bootstrap': False}\n",
      "0.625 (+/-0.102) for {'n_estimators': 200, 'min_samples_split': 10, 'min_samples_leaf': 4, 'max_features': 'auto', 'bootstrap': False}\n",
      "0.625 (+/-0.102) for {'n_estimators': 400, 'min_samples_split': 5, 'min_samples_leaf': 4, 'max_features': 'auto', 'bootstrap': False}\n",
      "0.604 (+/-0.059) for {'n_estimators': 1000, 'min_samples_split': 10, 'min_samples_leaf': 4, 'max_features': 'log2', 'bootstrap': True}\n",
      "0.625 (+/-0.102) for {'n_estimators': 400, 'min_samples_split': 2, 'min_samples_leaf': 4, 'max_features': 'auto', 'bootstrap': False}\n",
      "0.604 (+/-0.156) for {'n_estimators': 600, 'min_samples_split': 5, 'min_samples_leaf': 1, 'max_features': 'log2', 'bootstrap': True}\n",
      "0.604 (+/-0.059) for {'n_estimators': 200, 'min_samples_split': 5, 'min_samples_leaf': 4, 'max_features': 'log2', 'bootstrap': True}\n",
      "0.625 (+/-0.102) for {'n_estimators': 600, 'min_samples_split': 5, 'min_samples_leaf': 4, 'max_features': 'auto', 'bootstrap': False}\n",
      "0.625 (+/-0.102) for {'n_estimators': 1000, 'min_samples_split': 2, 'min_samples_leaf': 1, 'max_features': 'auto', 'bootstrap': True}\n",
      "0.604 (+/-0.156) for {'n_estimators': 1000, 'min_samples_split': 2, 'min_samples_leaf': 1, 'max_features': 'log2', 'bootstrap': False}\n",
      "0.625 (+/-0.102) for {'n_estimators': 1000, 'min_samples_split': 10, 'min_samples_leaf': 4, 'max_features': 'auto', 'bootstrap': False}\n",
      "0.646 (+/-0.118) for {'n_estimators': 400, 'min_samples_split': 10, 'min_samples_leaf': 4, 'max_features': 'auto', 'bootstrap': False}\n",
      "0.604 (+/-0.156) for {'n_estimators': 800, 'min_samples_split': 2, 'min_samples_leaf': 2, 'max_features': 'log2', 'bootstrap': False}\n",
      "0.583 (+/-0.118) for {'n_estimators': 400, 'min_samples_split': 5, 'min_samples_leaf': 2, 'max_features': 'log2', 'bootstrap': False}\n",
      "0.604 (+/-0.156) for {'n_estimators': 600, 'min_samples_split': 2, 'min_samples_leaf': 2, 'max_features': 'auto', 'bootstrap': True}\n",
      "0.604 (+/-0.156) for {'n_estimators': 600, 'min_samples_split': 5, 'min_samples_leaf': 4, 'max_features': 'log2', 'bootstrap': False}\n",
      "0.646 (+/-0.118) for {'n_estimators': 200, 'min_samples_split': 2, 'min_samples_leaf': 1, 'max_features': 'log2', 'bootstrap': False}\n",
      "0.604 (+/-0.156) for {'n_estimators': 1000, 'min_samples_split': 5, 'min_samples_leaf': 2, 'max_features': 'log2', 'bootstrap': False}\n",
      "0.625 (+/-0.102) for {'n_estimators': 800, 'min_samples_split': 2, 'min_samples_leaf': 1, 'max_features': 'auto', 'bootstrap': True}\n",
      "0.604 (+/-0.156) for {'n_estimators': 600, 'min_samples_split': 2, 'min_samples_leaf': 2, 'max_features': 'log2', 'bootstrap': False}\n",
      "0.604 (+/-0.156) for {'n_estimators': 200, 'min_samples_split': 2, 'min_samples_leaf': 1, 'max_features': 'auto', 'bootstrap': False}\n",
      "0.604 (+/-0.156) for {'n_estimators': 400, 'min_samples_split': 10, 'min_samples_leaf': 1, 'max_features': 'log2', 'bootstrap': False}\n",
      "0.625 (+/-0.102) for {'n_estimators': 600, 'min_samples_split': 10, 'min_samples_leaf': 4, 'max_features': 'auto', 'bootstrap': False}\n",
      "0.625 (+/-0.102) for {'n_estimators': 600, 'min_samples_split': 10, 'min_samples_leaf': 2, 'max_features': 'auto', 'bootstrap': False}\n",
      "0.604 (+/-0.156) for {'n_estimators': 1000, 'min_samples_split': 5, 'min_samples_leaf': 2, 'max_features': 'log2', 'bootstrap': True}\n",
      "0.583 (+/-0.212) for {'n_estimators': 600, 'min_samples_split': 5, 'min_samples_leaf': 2, 'max_features': 'log2', 'bootstrap': True}\n",
      "0.625 (+/-0.102) for {'n_estimators': 400, 'min_samples_split': 5, 'min_samples_leaf': 1, 'max_features': 'log2', 'bootstrap': False}\n",
      "0.583 (+/-0.118) for {'n_estimators': 800, 'min_samples_split': 10, 'min_samples_leaf': 4, 'max_features': 'log2', 'bootstrap': True}\n",
      "0.583 (+/-0.212) for {'n_estimators': 200, 'min_samples_split': 2, 'min_samples_leaf': 4, 'max_features': 'auto', 'bootstrap': True}\n",
      "0.604 (+/-0.156) for {'n_estimators': 600, 'min_samples_split': 10, 'min_samples_leaf': 1, 'max_features': 'log2', 'bootstrap': True}\n",
      "0.604 (+/-0.156) for {'n_estimators': 600, 'min_samples_split': 10, 'min_samples_leaf': 4, 'max_features': 'log2', 'bootstrap': False}\n",
      "0.604 (+/-0.156) for {'n_estimators': 200, 'min_samples_split': 10, 'min_samples_leaf': 1, 'max_features': 'auto', 'bootstrap': True}\n",
      "0.604 (+/-0.156) for {'n_estimators': 1000, 'min_samples_split': 10, 'min_samples_leaf': 2, 'max_features': 'log2', 'bootstrap': False}\n",
      "0.625 (+/-0.102) for {'n_estimators': 400, 'min_samples_split': 2, 'min_samples_leaf': 4, 'max_features': 'log2', 'bootstrap': False}\n",
      "0.583 (+/-0.118) for {'n_estimators': 400, 'min_samples_split': 5, 'min_samples_leaf': 4, 'max_features': 'log2', 'bootstrap': False}\n",
      "0.625 (+/-0.177) for {'n_estimators': 600, 'min_samples_split': 5, 'min_samples_leaf': 1, 'max_features': 'auto', 'bootstrap': False}\n",
      "0.625 (+/-0.102) for {'n_estimators': 1000, 'min_samples_split': 2, 'min_samples_leaf': 4, 'max_features': 'log2', 'bootstrap': True}\n",
      "0.604 (+/-0.156) for {'n_estimators': 1000, 'min_samples_split': 2, 'min_samples_leaf': 2, 'max_features': 'log2', 'bootstrap': False}\n",
      "0.583 (+/-0.118) for {'n_estimators': 600, 'min_samples_split': 2, 'min_samples_leaf': 4, 'max_features': 'log2', 'bootstrap': True}\n"
     ]
    }
   ],
   "source": [
    "print(\"Best Params : \",random_search_central.best_params_)\n",
    "print()\n",
    "means = random_search_central.cv_results_['mean_test_score']\n",
    "stds = random_search_central.cv_results_['std_test_score']\n",
    "\n",
    "for mean, std, params in zip(means, stds, random_search_central.cv_results_['params']):\n",
    "        print(\"%0.3f (+/-%0.03f) for %r\"\n",
    "              % (mean, std * 2, params))"
   ]
  },
  {
   "cell_type": "markdown",
   "metadata": {},
   "source": [
    "### Grid Search"
   ]
  },
  {
   "cell_type": "code",
   "execution_count": 102,
   "metadata": {},
   "outputs": [
    {
     "data": {
      "text/plain": [
       "{'n_estimators': 800,\n",
       " 'min_samples_split': 10,\n",
       " 'min_samples_leaf': 1,\n",
       " 'max_features': 'auto',\n",
       " 'bootstrap': False}"
      ]
     },
     "execution_count": 102,
     "metadata": {},
     "output_type": "execute_result"
    }
   ],
   "source": [
    "random_search_colon.best_params_"
   ]
  },
  {
   "cell_type": "code",
   "execution_count": 103,
   "metadata": {},
   "outputs": [
    {
     "data": {
      "text/plain": [
       "{'n_estimators': 800,\n",
       " 'min_samples_split': 10,\n",
       " 'min_samples_leaf': 1,\n",
       " 'max_features': 'auto',\n",
       " 'bootstrap': False}"
      ]
     },
     "execution_count": 103,
     "metadata": {},
     "output_type": "execute_result"
    }
   ],
   "source": [
    "random_search_lung.best_params_"
   ]
  },
  {
   "cell_type": "code",
   "execution_count": 104,
   "metadata": {},
   "outputs": [
    {
     "data": {
      "text/plain": [
       "{'n_estimators': 600,\n",
       " 'min_samples_split': 5,\n",
       " 'min_samples_leaf': 1,\n",
       " 'max_features': 'auto',\n",
       " 'bootstrap': False}"
      ]
     },
     "execution_count": 104,
     "metadata": {},
     "output_type": "execute_result"
    }
   ],
   "source": [
    "random_search_ovarian.best_params_"
   ]
  },
  {
   "cell_type": "code",
   "execution_count": 105,
   "metadata": {},
   "outputs": [
    {
     "data": {
      "text/plain": [
       "{'n_estimators': 800,\n",
       " 'min_samples_split': 10,\n",
       " 'min_samples_leaf': 1,\n",
       " 'max_features': 'auto',\n",
       " 'bootstrap': False}"
      ]
     },
     "execution_count": 105,
     "metadata": {},
     "output_type": "execute_result"
    }
   ],
   "source": [
    "random_search_prostate.best_params_"
   ]
  },
  {
   "cell_type": "code",
   "execution_count": 106,
   "metadata": {},
   "outputs": [
    {
     "data": {
      "text/plain": [
       "{'n_estimators': 800,\n",
       " 'min_samples_split': 10,\n",
       " 'min_samples_leaf': 1,\n",
       " 'max_features': 'auto',\n",
       " 'bootstrap': False}"
      ]
     },
     "execution_count": 106,
     "metadata": {},
     "output_type": "execute_result"
    }
   ],
   "source": [
    "random_search_central.best_params_"
   ]
  },
  {
   "cell_type": "markdown",
   "metadata": {},
   "source": [
    "1. colon cancer"
   ]
  },
  {
   "cell_type": "code",
   "execution_count": 107,
   "metadata": {},
   "outputs": [],
   "source": [
    "grid_params_colon = {'n_estimators': [int(x) for x in np.linspace(start = 200, stop = 1000, num = 5)],\n",
    "               'max_features': ['auto'],\n",
    "               'min_samples_split': [10],\n",
    "               'min_samples_leaf': [1],\n",
    "               'bootstrap': [False]\n",
    "                     }"
   ]
  },
  {
   "cell_type": "code",
   "execution_count": 108,
   "metadata": {},
   "outputs": [
    {
     "name": "stdout",
     "output_type": "stream",
     "text": [
      "Fitting 3 folds for each of 5 candidates, totalling 15 fits\n"
     ]
    },
    {
     "name": "stderr",
     "output_type": "stream",
     "text": [
      "[Parallel(n_jobs=-1)]: Using backend LokyBackend with 4 concurrent workers.\n",
      "[Parallel(n_jobs=-1)]: Done  15 out of  15 | elapsed:   11.3s finished\n"
     ]
    },
    {
     "data": {
      "text/plain": [
       "GridSearchCV(cv=3, error_score='raise-deprecating',\n",
       "             estimator=RandomForestClassifier(bootstrap=True, class_weight=None,\n",
       "                                              criterion='gini', max_depth=None,\n",
       "                                              max_features='auto',\n",
       "                                              max_leaf_nodes=None,\n",
       "                                              min_impurity_decrease=0.0,\n",
       "                                              min_impurity_split=None,\n",
       "                                              min_samples_leaf=1,\n",
       "                                              min_samples_split=2,\n",
       "                                              min_weight_fraction_leaf=0.0,\n",
       "                                              n_estimators='warn', n_jobs=None,\n",
       "                                              oob_score=False,\n",
       "                                              random_state=None, verbose=0,\n",
       "                                              warm_start=False),\n",
       "             iid='warn', n_jobs=-1,\n",
       "             param_grid={'bootstrap': [False], 'max_features': ['auto'],\n",
       "                         'min_samples_leaf': [1], 'min_samples_split': [10],\n",
       "                         'n_estimators': [200, 400, 600, 800, 1000]},\n",
       "             pre_dispatch='2*n_jobs', refit=True, return_train_score=False,\n",
       "             scoring=None, verbose=1)"
      ]
     },
     "execution_count": 108,
     "metadata": {},
     "output_type": "execute_result"
    }
   ],
   "source": [
    "GridDT_colon = GridSearchCV(estimator = model_rfg,\n",
    "                      param_grid = grid_params_colon,\n",
    "                      cv=3,\n",
    "                      verbose = 1,\n",
    "                      n_jobs = -1)\n",
    "GridDT_colon.fit(X_trainColonCA,y_train_colon)"
   ]
  },
  {
   "cell_type": "code",
   "execution_count": 109,
   "metadata": {},
   "outputs": [
    {
     "name": "stdout",
     "output_type": "stream",
     "text": [
      "Best Params :  {'bootstrap': False, 'max_features': 'auto', 'min_samples_leaf': 1, 'min_samples_split': 10, 'n_estimators': 200}\n",
      "\n",
      "0.673 (+/-0.147) for {'bootstrap': False, 'max_features': 'auto', 'min_samples_leaf': 1, 'min_samples_split': 10, 'n_estimators': 200}\n",
      "0.633 (+/-0.154) for {'bootstrap': False, 'max_features': 'auto', 'min_samples_leaf': 1, 'min_samples_split': 10, 'n_estimators': 400}\n",
      "0.653 (+/-0.100) for {'bootstrap': False, 'max_features': 'auto', 'min_samples_leaf': 1, 'min_samples_split': 10, 'n_estimators': 600}\n",
      "0.633 (+/-0.154) for {'bootstrap': False, 'max_features': 'auto', 'min_samples_leaf': 1, 'min_samples_split': 10, 'n_estimators': 800}\n",
      "0.653 (+/-0.197) for {'bootstrap': False, 'max_features': 'auto', 'min_samples_leaf': 1, 'min_samples_split': 10, 'n_estimators': 1000}\n"
     ]
    }
   ],
   "source": [
    "print(\"Best Params : \",GridDT_colon.best_params_)\n",
    "print()\n",
    "means = GridDT_colon.cv_results_['mean_test_score']\n",
    "stds = GridDT_colon.cv_results_['std_test_score']\n",
    "\n",
    "for mean, std, params in zip(means, stds, GridDT_colon.cv_results_['params']):\n",
    "        print(\"%0.3f (+/-%0.03f) for %r\"\n",
    "              % (mean, std * 2, params))"
   ]
  },
  {
   "cell_type": "markdown",
   "metadata": {},
   "source": [
    "2. Lung Cancer"
   ]
  },
  {
   "cell_type": "code",
   "execution_count": 110,
   "metadata": {},
   "outputs": [],
   "source": [
    "grid_params_lung = {'n_estimators': [int(x) for x in np.linspace(start = 200, stop = 1000, num = 5)],\n",
    "               'max_features': ['auto'],\n",
    "               'min_samples_split': [10],\n",
    "               'min_samples_leaf': [1],\n",
    "               'bootstrap': [False]\n",
    "                     }"
   ]
  },
  {
   "cell_type": "code",
   "execution_count": 111,
   "metadata": {},
   "outputs": [
    {
     "name": "stdout",
     "output_type": "stream",
     "text": [
      "Fitting 3 folds for each of 5 candidates, totalling 15 fits\n"
     ]
    },
    {
     "name": "stderr",
     "output_type": "stream",
     "text": [
      "[Parallel(n_jobs=-1)]: Using backend LokyBackend with 4 concurrent workers.\n",
      "[Parallel(n_jobs=-1)]: Done  15 out of  15 | elapsed:   21.7s finished\n"
     ]
    },
    {
     "data": {
      "text/plain": [
       "GridSearchCV(cv=3, error_score='raise-deprecating',\n",
       "             estimator=RandomForestClassifier(bootstrap=True, class_weight=None,\n",
       "                                              criterion='gini', max_depth=None,\n",
       "                                              max_features='auto',\n",
       "                                              max_leaf_nodes=None,\n",
       "                                              min_impurity_decrease=0.0,\n",
       "                                              min_impurity_split=None,\n",
       "                                              min_samples_leaf=1,\n",
       "                                              min_samples_split=2,\n",
       "                                              min_weight_fraction_leaf=0.0,\n",
       "                                              n_estimators='warn', n_jobs=None,\n",
       "                                              oob_score=False,\n",
       "                                              random_state=None, verbose=0,\n",
       "                                              warm_start=False),\n",
       "             iid='warn', n_jobs=-1,\n",
       "             param_grid={'bootstrap': [False], 'max_features': ['auto'],\n",
       "                         'min_samples_leaf': [1], 'min_samples_split': [10],\n",
       "                         'n_estimators': [200, 400, 600, 800, 1000]},\n",
       "             pre_dispatch='2*n_jobs', refit=True, return_train_score=False,\n",
       "             scoring=None, verbose=1)"
      ]
     },
     "execution_count": 111,
     "metadata": {},
     "output_type": "execute_result"
    }
   ],
   "source": [
    "GridDT_lung = GridSearchCV(estimator = model_rfg,\n",
    "                      param_grid = grid_params_lung,\n",
    "                      cv=3,\n",
    "                      verbose = 1,\n",
    "                      n_jobs = -1)\n",
    "GridDT_lung.fit(X_trainLungCA,y_train_lung)"
   ]
  },
  {
   "cell_type": "code",
   "execution_count": 112,
   "metadata": {},
   "outputs": [
    {
     "name": "stdout",
     "output_type": "stream",
     "text": [
      "Best Params :  {'bootstrap': False, 'max_features': 'auto', 'min_samples_leaf': 1, 'min_samples_split': 10, 'n_estimators': 200}\n",
      "\n",
      "0.986 (+/-0.020) for {'bootstrap': False, 'max_features': 'auto', 'min_samples_leaf': 1, 'min_samples_split': 10, 'n_estimators': 200}\n",
      "0.986 (+/-0.020) for {'bootstrap': False, 'max_features': 'auto', 'min_samples_leaf': 1, 'min_samples_split': 10, 'n_estimators': 400}\n",
      "0.979 (+/-0.034) for {'bootstrap': False, 'max_features': 'auto', 'min_samples_leaf': 1, 'min_samples_split': 10, 'n_estimators': 600}\n",
      "0.979 (+/-0.034) for {'bootstrap': False, 'max_features': 'auto', 'min_samples_leaf': 1, 'min_samples_split': 10, 'n_estimators': 800}\n",
      "0.986 (+/-0.020) for {'bootstrap': False, 'max_features': 'auto', 'min_samples_leaf': 1, 'min_samples_split': 10, 'n_estimators': 1000}\n"
     ]
    }
   ],
   "source": [
    "print(\"Best Params : \",GridDT_lung.best_params_)\n",
    "print()\n",
    "means = GridDT_lung.cv_results_['mean_test_score']\n",
    "stds = GridDT_lung.cv_results_['std_test_score']\n",
    "\n",
    "for mean, std, params in zip(means, stds, GridDT_lung.cv_results_['params']):\n",
    "        print(\"%0.3f (+/-%0.03f) for %r\"\n",
    "              % (mean, std * 2, params))"
   ]
  },
  {
   "cell_type": "markdown",
   "metadata": {},
   "source": [
    "3. Prostate Tumor"
   ]
  },
  {
   "cell_type": "code",
   "execution_count": 113,
   "metadata": {},
   "outputs": [],
   "source": [
    "grid_params_prostate = {'n_estimators': [int(x) for x in np.linspace(start = 200, stop = 1000, num = 5)],\n",
    "               'max_features': ['auto'],\n",
    "               'min_samples_split': [10],\n",
    "               'min_samples_leaf': [1],\n",
    "               'bootstrap': [False]\n",
    "                     }"
   ]
  },
  {
   "cell_type": "code",
   "execution_count": 114,
   "metadata": {},
   "outputs": [
    {
     "name": "stdout",
     "output_type": "stream",
     "text": [
      "Fitting 3 folds for each of 5 candidates, totalling 15 fits\n"
     ]
    },
    {
     "name": "stderr",
     "output_type": "stream",
     "text": [
      "[Parallel(n_jobs=-1)]: Using backend LokyBackend with 4 concurrent workers.\n",
      "[Parallel(n_jobs=-1)]: Done  15 out of  15 | elapsed:   18.6s finished\n"
     ]
    },
    {
     "data": {
      "text/plain": [
       "GridSearchCV(cv=3, error_score='raise-deprecating',\n",
       "             estimator=RandomForestClassifier(bootstrap=True, class_weight=None,\n",
       "                                              criterion='gini', max_depth=None,\n",
       "                                              max_features='auto',\n",
       "                                              max_leaf_nodes=None,\n",
       "                                              min_impurity_decrease=0.0,\n",
       "                                              min_impurity_split=None,\n",
       "                                              min_samples_leaf=1,\n",
       "                                              min_samples_split=2,\n",
       "                                              min_weight_fraction_leaf=0.0,\n",
       "                                              n_estimators='warn', n_jobs=None,\n",
       "                                              oob_score=False,\n",
       "                                              random_state=None, verbose=0,\n",
       "                                              warm_start=False),\n",
       "             iid='warn', n_jobs=-1,\n",
       "             param_grid={'bootstrap': [False], 'max_features': ['auto'],\n",
       "                         'min_samples_leaf': [1], 'min_samples_split': [10],\n",
       "                         'n_estimators': [200, 400, 600, 800, 1000]},\n",
       "             pre_dispatch='2*n_jobs', refit=True, return_train_score=False,\n",
       "             scoring=None, verbose=1)"
      ]
     },
     "execution_count": 114,
     "metadata": {},
     "output_type": "execute_result"
    }
   ],
   "source": [
    "GridDT_prostate = GridSearchCV(estimator = model_rfg,\n",
    "                      param_grid = grid_params_prostate,\n",
    "                      cv=3,\n",
    "                      verbose = 1,\n",
    "                      n_jobs = -1)\n",
    "GridDT_prostate.fit(X_trainProstateCD,y_train_prostate)"
   ]
  },
  {
   "cell_type": "code",
   "execution_count": 115,
   "metadata": {},
   "outputs": [
    {
     "name": "stdout",
     "output_type": "stream",
     "text": [
      "Best Params :  {'bootstrap': False, 'max_features': 'auto', 'min_samples_leaf': 1, 'min_samples_split': 10, 'n_estimators': 800}\n",
      "\n",
      "0.889 (+/-0.119) for {'bootstrap': False, 'max_features': 'auto', 'min_samples_leaf': 1, 'min_samples_split': 10, 'n_estimators': 200}\n",
      "0.870 (+/-0.117) for {'bootstrap': False, 'max_features': 'auto', 'min_samples_leaf': 1, 'min_samples_split': 10, 'n_estimators': 400}\n",
      "0.889 (+/-0.088) for {'bootstrap': False, 'max_features': 'auto', 'min_samples_leaf': 1, 'min_samples_split': 10, 'n_estimators': 600}\n",
      "0.898 (+/-0.068) for {'bootstrap': False, 'max_features': 'auto', 'min_samples_leaf': 1, 'min_samples_split': 10, 'n_estimators': 800}\n",
      "0.870 (+/-0.111) for {'bootstrap': False, 'max_features': 'auto', 'min_samples_leaf': 1, 'min_samples_split': 10, 'n_estimators': 1000}\n"
     ]
    }
   ],
   "source": [
    "print(\"Best Params : \",GridDT_prostate.best_params_)\n",
    "print()\n",
    "means = GridDT_prostate.cv_results_['mean_test_score']\n",
    "stds = GridDT_prostate.cv_results_['std_test_score']\n",
    "\n",
    "for mean, std, params in zip(means, stds, GridDT_prostate.cv_results_['params']):\n",
    "        print(\"%0.3f (+/-%0.03f) for %r\"\n",
    "              % (mean, std * 2, params))"
   ]
  },
  {
   "cell_type": "markdown",
   "metadata": {},
   "source": [
    "4. Ovarian Cancer "
   ]
  },
  {
   "cell_type": "code",
   "execution_count": 116,
   "metadata": {},
   "outputs": [],
   "source": [
    "grid_params_ovarian = {'n_estimators': [int(x) for x in np.linspace(start = 200, stop = 1000, num = 5)],\n",
    "               'max_features': ['auto'],\n",
    "               'min_samples_split': [5],\n",
    "               'min_samples_leaf': [1],\n",
    "               'bootstrap': [False]\n",
    "                     }"
   ]
  },
  {
   "cell_type": "code",
   "execution_count": 117,
   "metadata": {},
   "outputs": [
    {
     "name": "stdout",
     "output_type": "stream",
     "text": [
      "Fitting 3 folds for each of 5 candidates, totalling 15 fits\n"
     ]
    },
    {
     "name": "stderr",
     "output_type": "stream",
     "text": [
      "[Parallel(n_jobs=-1)]: Using backend LokyBackend with 4 concurrent workers.\n",
      "[Parallel(n_jobs=-1)]: Done  15 out of  15 | elapsed:   30.2s finished\n"
     ]
    },
    {
     "data": {
      "text/plain": [
       "GridSearchCV(cv=3, error_score='raise-deprecating',\n",
       "             estimator=RandomForestClassifier(bootstrap=True, class_weight=None,\n",
       "                                              criterion='gini', max_depth=None,\n",
       "                                              max_features='auto',\n",
       "                                              max_leaf_nodes=None,\n",
       "                                              min_impurity_decrease=0.0,\n",
       "                                              min_impurity_split=None,\n",
       "                                              min_samples_leaf=1,\n",
       "                                              min_samples_split=2,\n",
       "                                              min_weight_fraction_leaf=0.0,\n",
       "                                              n_estimators='warn', n_jobs=None,\n",
       "                                              oob_score=False,\n",
       "                                              random_state=None, verbose=0,\n",
       "                                              warm_start=False),\n",
       "             iid='warn', n_jobs=-1,\n",
       "             param_grid={'bootstrap': [False], 'max_features': ['auto'],\n",
       "                         'min_samples_leaf': [1], 'min_samples_split': [5],\n",
       "                         'n_estimators': [200, 400, 600, 800, 1000]},\n",
       "             pre_dispatch='2*n_jobs', refit=True, return_train_score=False,\n",
       "             scoring=None, verbose=1)"
      ]
     },
     "execution_count": 117,
     "metadata": {},
     "output_type": "execute_result"
    }
   ],
   "source": [
    "GridDT_ovarian = GridSearchCV(estimator = model_rfg,\n",
    "                      param_grid = grid_params_ovarian,\n",
    "                      cv=3,\n",
    "                      verbose = 1,\n",
    "                      n_jobs = -1)\n",
    "GridDT_ovarian.fit(X_trainOvarianCA,y_train_ovarian)"
   ]
  },
  {
   "cell_type": "code",
   "execution_count": 118,
   "metadata": {},
   "outputs": [
    {
     "name": "stdout",
     "output_type": "stream",
     "text": [
      "Best Params :  {'bootstrap': False, 'max_features': 'auto', 'min_samples_leaf': 1, 'min_samples_split': 5, 'n_estimators': 400}\n",
      "\n",
      "0.975 (+/-0.051) for {'bootstrap': False, 'max_features': 'auto', 'min_samples_leaf': 1, 'min_samples_split': 5, 'n_estimators': 200}\n",
      "0.980 (+/-0.037) for {'bootstrap': False, 'max_features': 'auto', 'min_samples_leaf': 1, 'min_samples_split': 5, 'n_estimators': 400}\n",
      "0.980 (+/-0.037) for {'bootstrap': False, 'max_features': 'auto', 'min_samples_leaf': 1, 'min_samples_split': 5, 'n_estimators': 600}\n",
      "0.980 (+/-0.037) for {'bootstrap': False, 'max_features': 'auto', 'min_samples_leaf': 1, 'min_samples_split': 5, 'n_estimators': 800}\n",
      "0.975 (+/-0.051) for {'bootstrap': False, 'max_features': 'auto', 'min_samples_leaf': 1, 'min_samples_split': 5, 'n_estimators': 1000}\n"
     ]
    }
   ],
   "source": [
    "print(\"Best Params : \",GridDT_ovarian.best_params_)\n",
    "print()\n",
    "means = GridDT_ovarian.cv_results_['mean_test_score']\n",
    "stds = GridDT_ovarian.cv_results_['std_test_score']\n",
    "\n",
    "for mean, std, params in zip(means, stds, GridDT_ovarian.cv_results_['params']):\n",
    "        print(\"%0.3f (+/-%0.03f) for %r\"\n",
    "              % (mean, std * 2, params))"
   ]
  },
  {
   "cell_type": "markdown",
   "metadata": {},
   "source": [
    "5. Central Nervous "
   ]
  },
  {
   "cell_type": "code",
   "execution_count": 119,
   "metadata": {},
   "outputs": [],
   "source": [
    "grid_params_central = {'n_estimators': [int(x) for x in np.linspace(start = 200, stop = 1000, num = 5)],\n",
    "               'max_features': ['auto'],\n",
    "               'min_samples_split': [10],\n",
    "               'min_samples_leaf': [1],\n",
    "               'bootstrap': [False]\n",
    "                     }"
   ]
  },
  {
   "cell_type": "code",
   "execution_count": 120,
   "metadata": {},
   "outputs": [
    {
     "name": "stdout",
     "output_type": "stream",
     "text": [
      "Fitting 3 folds for each of 5 candidates, totalling 15 fits\n"
     ]
    },
    {
     "name": "stderr",
     "output_type": "stream",
     "text": [
      "[Parallel(n_jobs=-1)]: Using backend LokyBackend with 4 concurrent workers.\n",
      "[Parallel(n_jobs=-1)]: Done  15 out of  15 | elapsed:   10.8s finished\n"
     ]
    },
    {
     "data": {
      "text/plain": [
       "GridSearchCV(cv=3, error_score='raise-deprecating',\n",
       "             estimator=RandomForestClassifier(bootstrap=True, class_weight=None,\n",
       "                                              criterion='gini', max_depth=None,\n",
       "                                              max_features='auto',\n",
       "                                              max_leaf_nodes=None,\n",
       "                                              min_impurity_decrease=0.0,\n",
       "                                              min_impurity_split=None,\n",
       "                                              min_samples_leaf=1,\n",
       "                                              min_samples_split=2,\n",
       "                                              min_weight_fraction_leaf=0.0,\n",
       "                                              n_estimators='warn', n_jobs=None,\n",
       "                                              oob_score=False,\n",
       "                                              random_state=None, verbose=0,\n",
       "                                              warm_start=False),\n",
       "             iid='warn', n_jobs=-1,\n",
       "             param_grid={'bootstrap': [False], 'max_features': ['auto'],\n",
       "                         'min_samples_leaf': [1], 'min_samples_split': [10],\n",
       "                         'n_estimators': [200, 400, 600, 800, 1000]},\n",
       "             pre_dispatch='2*n_jobs', refit=True, return_train_score=False,\n",
       "             scoring=None, verbose=1)"
      ]
     },
     "execution_count": 120,
     "metadata": {},
     "output_type": "execute_result"
    }
   ],
   "source": [
    "GridDT_central = GridSearchCV(estimator = model_rfg,\n",
    "                      param_grid = grid_params_central,\n",
    "                      cv=3,\n",
    "                      verbose = 1,\n",
    "                      n_jobs = -1)\n",
    "GridDT_central.fit(X_trainCentralCA,y_train_central)"
   ]
  },
  {
   "cell_type": "code",
   "execution_count": 121,
   "metadata": {},
   "outputs": [
    {
     "name": "stdout",
     "output_type": "stream",
     "text": [
      "Best Params :  {'bootstrap': False, 'max_features': 'auto', 'min_samples_leaf': 1, 'min_samples_split': 10, 'n_estimators': 200}\n",
      "\n",
      "0.646 (+/-0.118) for {'bootstrap': False, 'max_features': 'auto', 'min_samples_leaf': 1, 'min_samples_split': 10, 'n_estimators': 200}\n",
      "0.625 (+/-0.102) for {'bootstrap': False, 'max_features': 'auto', 'min_samples_leaf': 1, 'min_samples_split': 10, 'n_estimators': 400}\n",
      "0.646 (+/-0.118) for {'bootstrap': False, 'max_features': 'auto', 'min_samples_leaf': 1, 'min_samples_split': 10, 'n_estimators': 600}\n",
      "0.625 (+/-0.102) for {'bootstrap': False, 'max_features': 'auto', 'min_samples_leaf': 1, 'min_samples_split': 10, 'n_estimators': 800}\n",
      "0.625 (+/-0.102) for {'bootstrap': False, 'max_features': 'auto', 'min_samples_leaf': 1, 'min_samples_split': 10, 'n_estimators': 1000}\n"
     ]
    }
   ],
   "source": [
    "print(\"Best Params : \",GridDT_central.best_params_)\n",
    "print()\n",
    "means = GridDT_central.cv_results_['mean_test_score']\n",
    "stds = GridDT_central.cv_results_['std_test_score']\n",
    "\n",
    "for mean, std, params in zip(means, stds, GridDT_central.cv_results_['params']):\n",
    "        print(\"%0.3f (+/-%0.03f) for %r\"\n",
    "              % (mean, std * 2, params))"
   ]
  },
  {
   "cell_type": "markdown",
   "metadata": {},
   "source": [
    "### Classification"
   ]
  },
  {
   "cell_type": "markdown",
   "metadata": {},
   "source": [
    "1. colon cancer"
   ]
  },
  {
   "cell_type": "code",
   "execution_count": 122,
   "metadata": {},
   "outputs": [],
   "source": [
    "classifier_colon = GridDT_colon.best_estimator_"
   ]
  },
  {
   "cell_type": "code",
   "execution_count": 123,
   "metadata": {},
   "outputs": [
    {
     "data": {
      "text/plain": [
       "RandomForestClassifier(bootstrap=False, class_weight=None, criterion='gini',\n",
       "                       max_depth=None, max_features='auto', max_leaf_nodes=None,\n",
       "                       min_impurity_decrease=0.0, min_impurity_split=None,\n",
       "                       min_samples_leaf=1, min_samples_split=10,\n",
       "                       min_weight_fraction_leaf=0.0, n_estimators=200,\n",
       "                       n_jobs=None, oob_score=False, random_state=None,\n",
       "                       verbose=0, warm_start=False)"
      ]
     },
     "execution_count": 123,
     "metadata": {},
     "output_type": "execute_result"
    }
   ],
   "source": [
    "classifier_colon.fit(X_trainColonCA,y_train_colon)"
   ]
  },
  {
   "cell_type": "code",
   "execution_count": 124,
   "metadata": {},
   "outputs": [
    {
     "data": {
      "text/plain": [
       "array([1, 0, 1, 0, 1, 0, 0, 1, 0, 0, 1, 0, 0], dtype=int64)"
      ]
     },
     "execution_count": 124,
     "metadata": {},
     "output_type": "execute_result"
    }
   ],
   "source": [
    "pred = classifier_colon.predict(X_testColonCA)\n",
    "pred"
   ]
  },
  {
   "cell_type": "code",
   "execution_count": 125,
   "metadata": {},
   "outputs": [
    {
     "data": {
      "text/html": [
       "<div>\n",
       "<style scoped>\n",
       "    .dataframe tbody tr th:only-of-type {\n",
       "        vertical-align: middle;\n",
       "    }\n",
       "\n",
       "    .dataframe tbody tr th {\n",
       "        vertical-align: top;\n",
       "    }\n",
       "\n",
       "    .dataframe thead th {\n",
       "        text-align: right;\n",
       "    }\n",
       "</style>\n",
       "<table border=\"1\" class=\"dataframe\">\n",
       "  <thead>\n",
       "    <tr style=\"text-align: right;\">\n",
       "      <th></th>\n",
       "      <th>status actual</th>\n",
       "      <th>status predicted</th>\n",
       "    </tr>\n",
       "  </thead>\n",
       "  <tbody>\n",
       "    <tr>\n",
       "      <th>5</th>\n",
       "      <td>1</td>\n",
       "      <td>1</td>\n",
       "    </tr>\n",
       "    <tr>\n",
       "      <th>27</th>\n",
       "      <td>0</td>\n",
       "      <td>0</td>\n",
       "    </tr>\n",
       "    <tr>\n",
       "      <th>59</th>\n",
       "      <td>1</td>\n",
       "      <td>1</td>\n",
       "    </tr>\n",
       "    <tr>\n",
       "      <th>40</th>\n",
       "      <td>0</td>\n",
       "      <td>0</td>\n",
       "    </tr>\n",
       "    <tr>\n",
       "      <th>41</th>\n",
       "      <td>1</td>\n",
       "      <td>1</td>\n",
       "    </tr>\n",
       "    <tr>\n",
       "      <th>52</th>\n",
       "      <td>0</td>\n",
       "      <td>0</td>\n",
       "    </tr>\n",
       "    <tr>\n",
       "      <th>25</th>\n",
       "      <td>0</td>\n",
       "      <td>0</td>\n",
       "    </tr>\n",
       "    <tr>\n",
       "      <th>19</th>\n",
       "      <td>1</td>\n",
       "      <td>1</td>\n",
       "    </tr>\n",
       "    <tr>\n",
       "      <th>26</th>\n",
       "      <td>0</td>\n",
       "      <td>0</td>\n",
       "    </tr>\n",
       "    <tr>\n",
       "      <th>18</th>\n",
       "      <td>0</td>\n",
       "      <td>0</td>\n",
       "    </tr>\n",
       "    <tr>\n",
       "      <th>49</th>\n",
       "      <td>1</td>\n",
       "      <td>1</td>\n",
       "    </tr>\n",
       "    <tr>\n",
       "      <th>37</th>\n",
       "      <td>0</td>\n",
       "      <td>0</td>\n",
       "    </tr>\n",
       "    <tr>\n",
       "      <th>0</th>\n",
       "      <td>0</td>\n",
       "      <td>0</td>\n",
       "    </tr>\n",
       "  </tbody>\n",
       "</table>\n",
       "</div>"
      ],
      "text/plain": [
       "    status actual  status predicted\n",
       "5               1                 1\n",
       "27              0                 0\n",
       "59              1                 1\n",
       "40              0                 0\n",
       "41              1                 1\n",
       "52              0                 0\n",
       "25              0                 0\n",
       "19              1                 1\n",
       "26              0                 0\n",
       "18              0                 0\n",
       "49              1                 1\n",
       "37              0                 0\n",
       "0               0                 0"
      ]
     },
     "execution_count": 125,
     "metadata": {},
     "output_type": "execute_result"
    }
   ],
   "source": [
    "pd.DataFrame({\n",
    "    \"status actual\" : y_test_colon,\n",
    "    \"status predicted\" : pred\n",
    "})"
   ]
  },
  {
   "cell_type": "code",
   "execution_count": 126,
   "metadata": {},
   "outputs": [
    {
     "data": {
      "text/plain": [
       "1.0"
      ]
     },
     "execution_count": 126,
     "metadata": {},
     "output_type": "execute_result"
    }
   ],
   "source": [
    "accColon = accuracy_score(y_test_colon,pred)\n",
    "accColon"
   ]
  },
  {
   "cell_type": "code",
   "execution_count": 127,
   "metadata": {},
   "outputs": [
    {
     "name": "stdout",
     "output_type": "stream",
     "text": [
      "              precision    recall  f1-score   support\n",
      "\n",
      "           0       1.00      1.00      1.00         8\n",
      "           1       1.00      1.00      1.00         5\n",
      "\n",
      "    accuracy                           1.00        13\n",
      "   macro avg       1.00      1.00      1.00        13\n",
      "weighted avg       1.00      1.00      1.00        13\n",
      "\n"
     ]
    }
   ],
   "source": [
    "print(classification_report(y_test_colon, pred))"
   ]
  },
  {
   "cell_type": "code",
   "execution_count": 128,
   "metadata": {},
   "outputs": [
    {
     "data": {
      "image/png": "[encoded data removed]",
      "text/plain": [
       "<Figure size 921.6x432 with 2 Axes>"
      ]
     },
     "metadata": {
      "needs_background": "light"
     },
     "output_type": "display_data"
    }
   ],
   "source": [
    "aux_df = data_colon[['status']].drop_duplicates().sort_values('status')\n",
    "conf_matrix = confusion_matrix(y_test_colon, pred)\n",
    "plt.figure(figsize=(12.8,6))\n",
    "sns.heatmap(conf_matrix, \n",
    "            annot=True,\n",
    "            xticklabels=aux_df['status'].values, \n",
    "            yticklabels=aux_df['status'].values,\n",
    "            cmap=\"Blues\")\n",
    "plt.ylabel('Predicted')\n",
    "plt.xlabel('Actual')\n",
    "plt.title('Confusion matrix')\n",
    "plt.show()"
   ]
  },
  {
   "cell_type": "code",
   "execution_count": 129,
   "metadata": {},
   "outputs": [
    {
     "data": {
      "text/plain": [
       "1.0"
      ]
     },
     "execution_count": 129,
     "metadata": {},
     "output_type": "execute_result"
    }
   ],
   "source": [
    "precision_colon = precision_score(y_test_colon, pred)\n",
    "precision_colon"
   ]
  },
  {
   "cell_type": "code",
   "execution_count": 130,
   "metadata": {},
   "outputs": [
    {
     "data": {
      "text/plain": [
       "1.0"
      ]
     },
     "execution_count": 130,
     "metadata": {},
     "output_type": "execute_result"
    }
   ],
   "source": [
    "recall_colon = recall_score(y_test_colon,pred)\n",
    "recall_colon"
   ]
  },
  {
   "cell_type": "markdown",
   "metadata": {},
   "source": [
    "2. Lung Cancer"
   ]
  },
  {
   "cell_type": "code",
   "execution_count": 131,
   "metadata": {},
   "outputs": [],
   "source": [
    "classifier_lung = GridDT_lung.best_estimator_"
   ]
  },
  {
   "cell_type": "code",
   "execution_count": 132,
   "metadata": {},
   "outputs": [
    {
     "data": {
      "text/plain": [
       "RandomForestClassifier(bootstrap=False, class_weight=None, criterion='gini',\n",
       "                       max_depth=None, max_features='auto', max_leaf_nodes=None,\n",
       "                       min_impurity_decrease=0.0, min_impurity_split=None,\n",
       "                       min_samples_leaf=1, min_samples_split=10,\n",
       "                       min_weight_fraction_leaf=0.0, n_estimators=200,\n",
       "                       n_jobs=None, oob_score=False, random_state=None,\n",
       "                       verbose=0, warm_start=False)"
      ]
     },
     "execution_count": 132,
     "metadata": {},
     "output_type": "execute_result"
    }
   ],
   "source": [
    "classifier_lung.fit(X_trainLungCA,y_train_lung)"
   ]
  },
  {
   "cell_type": "code",
   "execution_count": 133,
   "metadata": {},
   "outputs": [
    {
     "data": {
      "text/plain": [
       "array([0, 0, 1, 0, 0, 1, 1, 1, 0, 0, 0, 0, 0, 0, 1, 0, 0, 0, 0, 1, 0, 0,\n",
       "       0, 0, 0, 0, 0, 0, 0, 0, 0, 0, 0, 0, 1, 0, 0], dtype=int64)"
      ]
     },
     "execution_count": 133,
     "metadata": {},
     "output_type": "execute_result"
    }
   ],
   "source": [
    "pred = classifier_lung.predict(X_testLungCA)\n",
    "pred"
   ]
  },
  {
   "cell_type": "code",
   "execution_count": 134,
   "metadata": {},
   "outputs": [
    {
     "data": {
      "text/html": [
       "<div>\n",
       "<style scoped>\n",
       "    .dataframe tbody tr th:only-of-type {\n",
       "        vertical-align: middle;\n",
       "    }\n",
       "\n",
       "    .dataframe tbody tr th {\n",
       "        vertical-align: top;\n",
       "    }\n",
       "\n",
       "    .dataframe thead th {\n",
       "        text-align: right;\n",
       "    }\n",
       "</style>\n",
       "<table border=\"1\" class=\"dataframe\">\n",
       "  <thead>\n",
       "    <tr style=\"text-align: right;\">\n",
       "      <th></th>\n",
       "      <th>status actual</th>\n",
       "      <th>status predicted</th>\n",
       "    </tr>\n",
       "  </thead>\n",
       "  <tbody>\n",
       "    <tr>\n",
       "      <th>132</th>\n",
       "      <td>0</td>\n",
       "      <td>0</td>\n",
       "    </tr>\n",
       "    <tr>\n",
       "      <th>69</th>\n",
       "      <td>0</td>\n",
       "      <td>0</td>\n",
       "    </tr>\n",
       "    <tr>\n",
       "      <th>13</th>\n",
       "      <td>1</td>\n",
       "      <td>1</td>\n",
       "    </tr>\n",
       "    <tr>\n",
       "      <th>28</th>\n",
       "      <td>0</td>\n",
       "      <td>0</td>\n",
       "    </tr>\n",
       "    <tr>\n",
       "      <th>118</th>\n",
       "      <td>0</td>\n",
       "      <td>0</td>\n",
       "    </tr>\n",
       "    <tr>\n",
       "      <th>10</th>\n",
       "      <td>1</td>\n",
       "      <td>1</td>\n",
       "    </tr>\n",
       "    <tr>\n",
       "      <th>0</th>\n",
       "      <td>1</td>\n",
       "      <td>1</td>\n",
       "    </tr>\n",
       "    <tr>\n",
       "      <th>3</th>\n",
       "      <td>1</td>\n",
       "      <td>1</td>\n",
       "    </tr>\n",
       "    <tr>\n",
       "      <th>32</th>\n",
       "      <td>0</td>\n",
       "      <td>0</td>\n",
       "    </tr>\n",
       "    <tr>\n",
       "      <th>103</th>\n",
       "      <td>0</td>\n",
       "      <td>0</td>\n",
       "    </tr>\n",
       "    <tr>\n",
       "      <th>129</th>\n",
       "      <td>0</td>\n",
       "      <td>0</td>\n",
       "    </tr>\n",
       "    <tr>\n",
       "      <th>128</th>\n",
       "      <td>0</td>\n",
       "      <td>0</td>\n",
       "    </tr>\n",
       "    <tr>\n",
       "      <th>83</th>\n",
       "      <td>0</td>\n",
       "      <td>0</td>\n",
       "    </tr>\n",
       "    <tr>\n",
       "      <th>52</th>\n",
       "      <td>0</td>\n",
       "      <td>0</td>\n",
       "    </tr>\n",
       "    <tr>\n",
       "      <th>8</th>\n",
       "      <td>1</td>\n",
       "      <td>1</td>\n",
       "    </tr>\n",
       "    <tr>\n",
       "      <th>90</th>\n",
       "      <td>0</td>\n",
       "      <td>0</td>\n",
       "    </tr>\n",
       "    <tr>\n",
       "      <th>29</th>\n",
       "      <td>0</td>\n",
       "      <td>0</td>\n",
       "    </tr>\n",
       "    <tr>\n",
       "      <th>123</th>\n",
       "      <td>0</td>\n",
       "      <td>0</td>\n",
       "    </tr>\n",
       "    <tr>\n",
       "      <th>112</th>\n",
       "      <td>0</td>\n",
       "      <td>0</td>\n",
       "    </tr>\n",
       "    <tr>\n",
       "      <th>3</th>\n",
       "      <td>1</td>\n",
       "      <td>1</td>\n",
       "    </tr>\n",
       "    <tr>\n",
       "      <th>81</th>\n",
       "      <td>0</td>\n",
       "      <td>0</td>\n",
       "    </tr>\n",
       "    <tr>\n",
       "      <th>84</th>\n",
       "      <td>0</td>\n",
       "      <td>0</td>\n",
       "    </tr>\n",
       "    <tr>\n",
       "      <th>37</th>\n",
       "      <td>0</td>\n",
       "      <td>0</td>\n",
       "    </tr>\n",
       "    <tr>\n",
       "      <th>139</th>\n",
       "      <td>0</td>\n",
       "      <td>0</td>\n",
       "    </tr>\n",
       "    <tr>\n",
       "      <th>48</th>\n",
       "      <td>0</td>\n",
       "      <td>0</td>\n",
       "    </tr>\n",
       "    <tr>\n",
       "      <th>138</th>\n",
       "      <td>0</td>\n",
       "      <td>0</td>\n",
       "    </tr>\n",
       "    <tr>\n",
       "      <th>121</th>\n",
       "      <td>0</td>\n",
       "      <td>0</td>\n",
       "    </tr>\n",
       "    <tr>\n",
       "      <th>127</th>\n",
       "      <td>0</td>\n",
       "      <td>0</td>\n",
       "    </tr>\n",
       "    <tr>\n",
       "      <th>26</th>\n",
       "      <td>0</td>\n",
       "      <td>0</td>\n",
       "    </tr>\n",
       "    <tr>\n",
       "      <th>134</th>\n",
       "      <td>0</td>\n",
       "      <td>0</td>\n",
       "    </tr>\n",
       "    <tr>\n",
       "      <th>106</th>\n",
       "      <td>0</td>\n",
       "      <td>0</td>\n",
       "    </tr>\n",
       "    <tr>\n",
       "      <th>58</th>\n",
       "      <td>0</td>\n",
       "      <td>0</td>\n",
       "    </tr>\n",
       "    <tr>\n",
       "      <th>120</th>\n",
       "      <td>0</td>\n",
       "      <td>0</td>\n",
       "    </tr>\n",
       "    <tr>\n",
       "      <th>40</th>\n",
       "      <td>0</td>\n",
       "      <td>0</td>\n",
       "    </tr>\n",
       "    <tr>\n",
       "      <th>6</th>\n",
       "      <td>1</td>\n",
       "      <td>1</td>\n",
       "    </tr>\n",
       "    <tr>\n",
       "      <th>57</th>\n",
       "      <td>0</td>\n",
       "      <td>0</td>\n",
       "    </tr>\n",
       "    <tr>\n",
       "      <th>137</th>\n",
       "      <td>0</td>\n",
       "      <td>0</td>\n",
       "    </tr>\n",
       "  </tbody>\n",
       "</table>\n",
       "</div>"
      ],
      "text/plain": [
       "     status actual  status predicted\n",
       "132              0                 0\n",
       "69               0                 0\n",
       "13               1                 1\n",
       "28               0                 0\n",
       "118              0                 0\n",
       "10               1                 1\n",
       "0                1                 1\n",
       "3                1                 1\n",
       "32               0                 0\n",
       "103              0                 0\n",
       "129              0                 0\n",
       "128              0                 0\n",
       "83               0                 0\n",
       "52               0                 0\n",
       "8                1                 1\n",
       "90               0                 0\n",
       "29               0                 0\n",
       "123              0                 0\n",
       "112              0                 0\n",
       "3                1                 1\n",
       "81               0                 0\n",
       "84               0                 0\n",
       "37               0                 0\n",
       "139              0                 0\n",
       "48               0                 0\n",
       "138              0                 0\n",
       "121              0                 0\n",
       "127              0                 0\n",
       "26               0                 0\n",
       "134              0                 0\n",
       "106              0                 0\n",
       "58               0                 0\n",
       "120              0                 0\n",
       "40               0                 0\n",
       "6                1                 1\n",
       "57               0                 0\n",
       "137              0                 0"
      ]
     },
     "execution_count": 134,
     "metadata": {},
     "output_type": "execute_result"
    }
   ],
   "source": [
    "pd.DataFrame({\n",
    "    \"status actual\" : y_test_lung,\n",
    "    \"status predicted\" : pred\n",
    "})"
   ]
  },
  {
   "cell_type": "code",
   "execution_count": 135,
   "metadata": {},
   "outputs": [
    {
     "data": {
      "text/plain": [
       "1.0"
      ]
     },
     "execution_count": 135,
     "metadata": {},
     "output_type": "execute_result"
    }
   ],
   "source": [
    "accLung = accuracy_score(y_test_lung,pred)\n",
    "accLung"
   ]
  },
  {
   "cell_type": "code",
   "execution_count": 136,
   "metadata": {},
   "outputs": [
    {
     "name": "stdout",
     "output_type": "stream",
     "text": [
      "              precision    recall  f1-score   support\n",
      "\n",
      "           0       1.00      1.00      1.00        30\n",
      "           1       1.00      1.00      1.00         7\n",
      "\n",
      "    accuracy                           1.00        37\n",
      "   macro avg       1.00      1.00      1.00        37\n",
      "weighted avg       1.00      1.00      1.00        37\n",
      "\n"
     ]
    }
   ],
   "source": [
    "print(classification_report(y_test_lung, pred))"
   ]
  },
  {
   "cell_type": "code",
   "execution_count": 137,
   "metadata": {},
   "outputs": [
    {
     "data": {
      "image/png": "[encoded data removed]",
      "text/plain": [
       "<Figure size 921.6x432 with 2 Axes>"
      ]
     },
     "metadata": {
      "needs_background": "light"
     },
     "output_type": "display_data"
    }
   ],
   "source": [
    "aux_df = data_lung[['status']].drop_duplicates().sort_values('status')\n",
    "conf_matrix = confusion_matrix(y_test_lung, pred)\n",
    "plt.figure(figsize=(12.8,6))\n",
    "sns.heatmap(conf_matrix, \n",
    "            annot=True,\n",
    "            xticklabels=aux_df['status'].values, \n",
    "            yticklabels=aux_df['status'].values,\n",
    "            cmap=\"Blues\")\n",
    "plt.ylabel('Predicted')\n",
    "plt.xlabel('Actual')\n",
    "plt.title('Confusion matrix')\n",
    "plt.show()"
   ]
  },
  {
   "cell_type": "markdown",
   "metadata": {},
   "source": [
    "3. Prostate Tumor"
   ]
  },
  {
   "cell_type": "code",
   "execution_count": 138,
   "metadata": {},
   "outputs": [],
   "source": [
    "classifier_prostate = GridDT_prostate.best_estimator_"
   ]
  },
  {
   "cell_type": "code",
   "execution_count": 139,
   "metadata": {},
   "outputs": [
    {
     "data": {
      "text/plain": [
       "RandomForestClassifier(bootstrap=False, class_weight=None, criterion='gini',\n",
       "                       max_depth=None, max_features='auto', max_leaf_nodes=None,\n",
       "                       min_impurity_decrease=0.0, min_impurity_split=None,\n",
       "                       min_samples_leaf=1, min_samples_split=10,\n",
       "                       min_weight_fraction_leaf=0.0, n_estimators=800,\n",
       "                       n_jobs=None, oob_score=False, random_state=None,\n",
       "                       verbose=0, warm_start=False)"
      ]
     },
     "execution_count": 139,
     "metadata": {},
     "output_type": "execute_result"
    }
   ],
   "source": [
    "classifier_prostate.fit(X_trainProstateCD,y_train_prostate)"
   ]
  },
  {
   "cell_type": "code",
   "execution_count": 140,
   "metadata": {},
   "outputs": [
    {
     "data": {
      "text/plain": [
       "array([0, 1, 0, 1, 1, 1, 1, 1, 0, 1, 0, 1, 1, 1, 1, 0, 1, 1, 1, 1, 0, 1,\n",
       "       1, 1, 1, 1, 0, 0], dtype=int64)"
      ]
     },
     "execution_count": 140,
     "metadata": {},
     "output_type": "execute_result"
    }
   ],
   "source": [
    "pred = classifier_prostate.predict(X_testProstateCD)\n",
    "pred"
   ]
  },
  {
   "cell_type": "code",
   "execution_count": 141,
   "metadata": {},
   "outputs": [
    {
     "data": {
      "text/html": [
       "<div>\n",
       "<style scoped>\n",
       "    .dataframe tbody tr th:only-of-type {\n",
       "        vertical-align: middle;\n",
       "    }\n",
       "\n",
       "    .dataframe tbody tr th {\n",
       "        vertical-align: top;\n",
       "    }\n",
       "\n",
       "    .dataframe thead th {\n",
       "        text-align: right;\n",
       "    }\n",
       "</style>\n",
       "<table border=\"1\" class=\"dataframe\">\n",
       "  <thead>\n",
       "    <tr style=\"text-align: right;\">\n",
       "      <th></th>\n",
       "      <th>status actual</th>\n",
       "      <th>status predicted</th>\n",
       "    </tr>\n",
       "  </thead>\n",
       "  <tbody>\n",
       "    <tr>\n",
       "      <th>80</th>\n",
       "      <td>0</td>\n",
       "      <td>0</td>\n",
       "    </tr>\n",
       "    <tr>\n",
       "      <th>2</th>\n",
       "      <td>1</td>\n",
       "      <td>1</td>\n",
       "    </tr>\n",
       "    <tr>\n",
       "      <th>94</th>\n",
       "      <td>0</td>\n",
       "      <td>0</td>\n",
       "    </tr>\n",
       "    <tr>\n",
       "      <th>71</th>\n",
       "      <td>0</td>\n",
       "      <td>1</td>\n",
       "    </tr>\n",
       "    <tr>\n",
       "      <th>51</th>\n",
       "      <td>1</td>\n",
       "      <td>1</td>\n",
       "    </tr>\n",
       "    <tr>\n",
       "      <th>3</th>\n",
       "      <td>1</td>\n",
       "      <td>1</td>\n",
       "    </tr>\n",
       "    <tr>\n",
       "      <th>28</th>\n",
       "      <td>1</td>\n",
       "      <td>1</td>\n",
       "    </tr>\n",
       "    <tr>\n",
       "      <th>84</th>\n",
       "      <td>0</td>\n",
       "      <td>1</td>\n",
       "    </tr>\n",
       "    <tr>\n",
       "      <th>26</th>\n",
       "      <td>0</td>\n",
       "      <td>0</td>\n",
       "    </tr>\n",
       "    <tr>\n",
       "      <th>1</th>\n",
       "      <td>1</td>\n",
       "      <td>1</td>\n",
       "    </tr>\n",
       "    <tr>\n",
       "      <th>85</th>\n",
       "      <td>0</td>\n",
       "      <td>0</td>\n",
       "    </tr>\n",
       "    <tr>\n",
       "      <th>25</th>\n",
       "      <td>1</td>\n",
       "      <td>1</td>\n",
       "    </tr>\n",
       "    <tr>\n",
       "      <th>48</th>\n",
       "      <td>1</td>\n",
       "      <td>1</td>\n",
       "    </tr>\n",
       "    <tr>\n",
       "      <th>10</th>\n",
       "      <td>1</td>\n",
       "      <td>1</td>\n",
       "    </tr>\n",
       "    <tr>\n",
       "      <th>0</th>\n",
       "      <td>1</td>\n",
       "      <td>1</td>\n",
       "    </tr>\n",
       "    <tr>\n",
       "      <th>52</th>\n",
       "      <td>0</td>\n",
       "      <td>0</td>\n",
       "    </tr>\n",
       "    <tr>\n",
       "      <th>35</th>\n",
       "      <td>1</td>\n",
       "      <td>1</td>\n",
       "    </tr>\n",
       "    <tr>\n",
       "      <th>98</th>\n",
       "      <td>0</td>\n",
       "      <td>1</td>\n",
       "    </tr>\n",
       "    <tr>\n",
       "      <th>7</th>\n",
       "      <td>1</td>\n",
       "      <td>1</td>\n",
       "    </tr>\n",
       "    <tr>\n",
       "      <th>14</th>\n",
       "      <td>1</td>\n",
       "      <td>1</td>\n",
       "    </tr>\n",
       "    <tr>\n",
       "      <th>13</th>\n",
       "      <td>1</td>\n",
       "      <td>0</td>\n",
       "    </tr>\n",
       "    <tr>\n",
       "      <th>40</th>\n",
       "      <td>1</td>\n",
       "      <td>1</td>\n",
       "    </tr>\n",
       "    <tr>\n",
       "      <th>12</th>\n",
       "      <td>1</td>\n",
       "      <td>1</td>\n",
       "    </tr>\n",
       "    <tr>\n",
       "      <th>9</th>\n",
       "      <td>1</td>\n",
       "      <td>1</td>\n",
       "    </tr>\n",
       "    <tr>\n",
       "      <th>26</th>\n",
       "      <td>1</td>\n",
       "      <td>1</td>\n",
       "    </tr>\n",
       "    <tr>\n",
       "      <th>43</th>\n",
       "      <td>1</td>\n",
       "      <td>1</td>\n",
       "    </tr>\n",
       "    <tr>\n",
       "      <th>93</th>\n",
       "      <td>0</td>\n",
       "      <td>0</td>\n",
       "    </tr>\n",
       "    <tr>\n",
       "      <th>25</th>\n",
       "      <td>0</td>\n",
       "      <td>0</td>\n",
       "    </tr>\n",
       "  </tbody>\n",
       "</table>\n",
       "</div>"
      ],
      "text/plain": [
       "    status actual  status predicted\n",
       "80              0                 0\n",
       "2               1                 1\n",
       "94              0                 0\n",
       "71              0                 1\n",
       "51              1                 1\n",
       "3               1                 1\n",
       "28              1                 1\n",
       "84              0                 1\n",
       "26              0                 0\n",
       "1               1                 1\n",
       "85              0                 0\n",
       "25              1                 1\n",
       "48              1                 1\n",
       "10              1                 1\n",
       "0               1                 1\n",
       "52              0                 0\n",
       "35              1                 1\n",
       "98              0                 1\n",
       "7               1                 1\n",
       "14              1                 1\n",
       "13              1                 0\n",
       "40              1                 1\n",
       "12              1                 1\n",
       "9               1                 1\n",
       "26              1                 1\n",
       "43              1                 1\n",
       "93              0                 0\n",
       "25              0                 0"
      ]
     },
     "execution_count": 141,
     "metadata": {},
     "output_type": "execute_result"
    }
   ],
   "source": [
    "pd.DataFrame({\n",
    "    \"status actual\" : y_test_prostate,\n",
    "    \"status predicted\" : pred\n",
    "})"
   ]
  },
  {
   "cell_type": "code",
   "execution_count": 142,
   "metadata": {},
   "outputs": [
    {
     "data": {
      "text/plain": [
       "0.8571428571428571"
      ]
     },
     "execution_count": 142,
     "metadata": {},
     "output_type": "execute_result"
    }
   ],
   "source": [
    "accProstate = accuracy_score(y_test_prostate,pred)\n",
    "accProstate"
   ]
  },
  {
   "cell_type": "code",
   "execution_count": 143,
   "metadata": {},
   "outputs": [
    {
     "name": "stdout",
     "output_type": "stream",
     "text": [
      "              precision    recall  f1-score   support\n",
      "\n",
      "           0       0.88      0.70      0.78        10\n",
      "           1       0.85      0.94      0.89        18\n",
      "\n",
      "    accuracy                           0.86        28\n",
      "   macro avg       0.86      0.82      0.84        28\n",
      "weighted avg       0.86      0.86      0.85        28\n",
      "\n"
     ]
    }
   ],
   "source": [
    "print(classification_report(y_test_prostate, pred))"
   ]
  },
  {
   "cell_type": "code",
   "execution_count": 144,
   "metadata": {
    "scrolled": true
   },
   "outputs": [
    {
     "data": {
      "image/png": "[encoded data removed]",
      "text/plain": [
       "<Figure size 921.6x432 with 2 Axes>"
      ]
     },
     "metadata": {
      "needs_background": "light"
     },
     "output_type": "display_data"
    }
   ],
   "source": [
    "aux_df = data_prostate[['status']].drop_duplicates().sort_values('status')\n",
    "conf_matrix = confusion_matrix(y_test_prostate, pred)\n",
    "plt.figure(figsize=(12.8,6))\n",
    "sns.heatmap(conf_matrix, \n",
    "            annot=True,\n",
    "            xticklabels=aux_df['status'].values, \n",
    "            yticklabels=aux_df['status'].values,\n",
    "            cmap=\"Blues\")\n",
    "plt.ylabel('Predicted')\n",
    "plt.xlabel('Actual')\n",
    "plt.title('Confusion matrix')\n",
    "plt.show()"
   ]
  },
  {
   "cell_type": "markdown",
   "metadata": {},
   "source": [
    "4. Ovarian Cancer"
   ]
  },
  {
   "cell_type": "code",
   "execution_count": 145,
   "metadata": {},
   "outputs": [],
   "source": [
    "classifier_ovarian = GridDT_ovarian.best_estimator_"
   ]
  },
  {
   "cell_type": "code",
   "execution_count": 146,
   "metadata": {},
   "outputs": [
    {
     "data": {
      "text/plain": [
       "RandomForestClassifier(bootstrap=False, class_weight=None, criterion='gini',\n",
       "                       max_depth=None, max_features='auto', max_leaf_nodes=None,\n",
       "                       min_impurity_decrease=0.0, min_impurity_split=None,\n",
       "                       min_samples_leaf=1, min_samples_split=5,\n",
       "                       min_weight_fraction_leaf=0.0, n_estimators=400,\n",
       "                       n_jobs=None, oob_score=False, random_state=None,\n",
       "                       verbose=0, warm_start=False)"
      ]
     },
     "execution_count": 146,
     "metadata": {},
     "output_type": "execute_result"
    }
   ],
   "source": [
    "classifier_ovarian.fit(X_trainOvarianCA,y_train_ovarian)"
   ]
  },
  {
   "cell_type": "code",
   "execution_count": 147,
   "metadata": {},
   "outputs": [
    {
     "data": {
      "text/plain": [
       "array([0, 0, 0, 0, 0, 0, 0, 1, 1, 1, 1, 0, 1, 1, 0, 1, 1, 1, 1, 1, 1, 0,\n",
       "       1, 1, 1, 1, 0, 1, 1, 1, 1, 1, 0, 0, 1, 1, 1, 1, 1, 0, 0, 0, 0, 0,\n",
       "       1, 1, 1, 1, 0, 0, 0], dtype=int64)"
      ]
     },
     "execution_count": 147,
     "metadata": {},
     "output_type": "execute_result"
    }
   ],
   "source": [
    "pred = classifier_ovarian.predict(X_testOvarianCA)\n",
    "pred"
   ]
  },
  {
   "cell_type": "code",
   "execution_count": 148,
   "metadata": {},
   "outputs": [
    {
     "data": {
      "text/html": [
       "<div>\n",
       "<style scoped>\n",
       "    .dataframe tbody tr th:only-of-type {\n",
       "        vertical-align: middle;\n",
       "    }\n",
       "\n",
       "    .dataframe tbody tr th {\n",
       "        vertical-align: top;\n",
       "    }\n",
       "\n",
       "    .dataframe thead th {\n",
       "        text-align: right;\n",
       "    }\n",
       "</style>\n",
       "<table border=\"1\" class=\"dataframe\">\n",
       "  <thead>\n",
       "    <tr style=\"text-align: right;\">\n",
       "      <th></th>\n",
       "      <th>status actual</th>\n",
       "      <th>status predicted</th>\n",
       "    </tr>\n",
       "  </thead>\n",
       "  <tbody>\n",
       "    <tr>\n",
       "      <th>38</th>\n",
       "      <td>0</td>\n",
       "      <td>0</td>\n",
       "    </tr>\n",
       "    <tr>\n",
       "      <th>83</th>\n",
       "      <td>0</td>\n",
       "      <td>0</td>\n",
       "    </tr>\n",
       "    <tr>\n",
       "      <th>72</th>\n",
       "      <td>0</td>\n",
       "      <td>0</td>\n",
       "    </tr>\n",
       "    <tr>\n",
       "      <th>30</th>\n",
       "      <td>0</td>\n",
       "      <td>0</td>\n",
       "    </tr>\n",
       "    <tr>\n",
       "      <th>79</th>\n",
       "      <td>0</td>\n",
       "      <td>0</td>\n",
       "    </tr>\n",
       "    <tr>\n",
       "      <th>73</th>\n",
       "      <td>0</td>\n",
       "      <td>0</td>\n",
       "    </tr>\n",
       "    <tr>\n",
       "      <th>47</th>\n",
       "      <td>0</td>\n",
       "      <td>0</td>\n",
       "    </tr>\n",
       "    <tr>\n",
       "      <th>141</th>\n",
       "      <td>1</td>\n",
       "      <td>1</td>\n",
       "    </tr>\n",
       "    <tr>\n",
       "      <th>224</th>\n",
       "      <td>1</td>\n",
       "      <td>1</td>\n",
       "    </tr>\n",
       "    <tr>\n",
       "      <th>112</th>\n",
       "      <td>1</td>\n",
       "      <td>1</td>\n",
       "    </tr>\n",
       "    <tr>\n",
       "      <th>220</th>\n",
       "      <td>1</td>\n",
       "      <td>1</td>\n",
       "    </tr>\n",
       "    <tr>\n",
       "      <th>1</th>\n",
       "      <td>0</td>\n",
       "      <td>0</td>\n",
       "    </tr>\n",
       "    <tr>\n",
       "      <th>101</th>\n",
       "      <td>1</td>\n",
       "      <td>1</td>\n",
       "    </tr>\n",
       "    <tr>\n",
       "      <th>197</th>\n",
       "      <td>1</td>\n",
       "      <td>1</td>\n",
       "    </tr>\n",
       "    <tr>\n",
       "      <th>50</th>\n",
       "      <td>0</td>\n",
       "      <td>0</td>\n",
       "    </tr>\n",
       "    <tr>\n",
       "      <th>230</th>\n",
       "      <td>1</td>\n",
       "      <td>1</td>\n",
       "    </tr>\n",
       "    <tr>\n",
       "      <th>115</th>\n",
       "      <td>1</td>\n",
       "      <td>1</td>\n",
       "    </tr>\n",
       "    <tr>\n",
       "      <th>175</th>\n",
       "      <td>1</td>\n",
       "      <td>1</td>\n",
       "    </tr>\n",
       "    <tr>\n",
       "      <th>232</th>\n",
       "      <td>1</td>\n",
       "      <td>1</td>\n",
       "    </tr>\n",
       "    <tr>\n",
       "      <th>210</th>\n",
       "      <td>1</td>\n",
       "      <td>1</td>\n",
       "    </tr>\n",
       "    <tr>\n",
       "      <th>165</th>\n",
       "      <td>1</td>\n",
       "      <td>1</td>\n",
       "    </tr>\n",
       "    <tr>\n",
       "      <th>69</th>\n",
       "      <td>0</td>\n",
       "      <td>0</td>\n",
       "    </tr>\n",
       "    <tr>\n",
       "      <th>192</th>\n",
       "      <td>1</td>\n",
       "      <td>1</td>\n",
       "    </tr>\n",
       "    <tr>\n",
       "      <th>221</th>\n",
       "      <td>1</td>\n",
       "      <td>1</td>\n",
       "    </tr>\n",
       "    <tr>\n",
       "      <th>226</th>\n",
       "      <td>1</td>\n",
       "      <td>1</td>\n",
       "    </tr>\n",
       "    <tr>\n",
       "      <th>214</th>\n",
       "      <td>1</td>\n",
       "      <td>1</td>\n",
       "    </tr>\n",
       "    <tr>\n",
       "      <th>10</th>\n",
       "      <td>0</td>\n",
       "      <td>0</td>\n",
       "    </tr>\n",
       "    <tr>\n",
       "      <th>117</th>\n",
       "      <td>1</td>\n",
       "      <td>1</td>\n",
       "    </tr>\n",
       "    <tr>\n",
       "      <th>96</th>\n",
       "      <td>1</td>\n",
       "      <td>1</td>\n",
       "    </tr>\n",
       "    <tr>\n",
       "      <th>205</th>\n",
       "      <td>1</td>\n",
       "      <td>1</td>\n",
       "    </tr>\n",
       "    <tr>\n",
       "      <th>235</th>\n",
       "      <td>1</td>\n",
       "      <td>1</td>\n",
       "    </tr>\n",
       "    <tr>\n",
       "      <th>244</th>\n",
       "      <td>1</td>\n",
       "      <td>1</td>\n",
       "    </tr>\n",
       "    <tr>\n",
       "      <th>3</th>\n",
       "      <td>0</td>\n",
       "      <td>0</td>\n",
       "    </tr>\n",
       "    <tr>\n",
       "      <th>33</th>\n",
       "      <td>0</td>\n",
       "      <td>0</td>\n",
       "    </tr>\n",
       "    <tr>\n",
       "      <th>119</th>\n",
       "      <td>1</td>\n",
       "      <td>1</td>\n",
       "    </tr>\n",
       "    <tr>\n",
       "      <th>170</th>\n",
       "      <td>1</td>\n",
       "      <td>1</td>\n",
       "    </tr>\n",
       "    <tr>\n",
       "      <th>125</th>\n",
       "      <td>1</td>\n",
       "      <td>1</td>\n",
       "    </tr>\n",
       "    <tr>\n",
       "      <th>212</th>\n",
       "      <td>1</td>\n",
       "      <td>1</td>\n",
       "    </tr>\n",
       "    <tr>\n",
       "      <th>168</th>\n",
       "      <td>1</td>\n",
       "      <td>1</td>\n",
       "    </tr>\n",
       "    <tr>\n",
       "      <th>13</th>\n",
       "      <td>0</td>\n",
       "      <td>0</td>\n",
       "    </tr>\n",
       "    <tr>\n",
       "      <th>25</th>\n",
       "      <td>0</td>\n",
       "      <td>0</td>\n",
       "    </tr>\n",
       "    <tr>\n",
       "      <th>67</th>\n",
       "      <td>0</td>\n",
       "      <td>0</td>\n",
       "    </tr>\n",
       "    <tr>\n",
       "      <th>0</th>\n",
       "      <td>0</td>\n",
       "      <td>0</td>\n",
       "    </tr>\n",
       "    <tr>\n",
       "      <th>40</th>\n",
       "      <td>0</td>\n",
       "      <td>0</td>\n",
       "    </tr>\n",
       "    <tr>\n",
       "      <th>228</th>\n",
       "      <td>1</td>\n",
       "      <td>1</td>\n",
       "    </tr>\n",
       "    <tr>\n",
       "      <th>194</th>\n",
       "      <td>1</td>\n",
       "      <td>1</td>\n",
       "    </tr>\n",
       "    <tr>\n",
       "      <th>179</th>\n",
       "      <td>1</td>\n",
       "      <td>1</td>\n",
       "    </tr>\n",
       "    <tr>\n",
       "      <th>159</th>\n",
       "      <td>1</td>\n",
       "      <td>1</td>\n",
       "    </tr>\n",
       "    <tr>\n",
       "      <th>26</th>\n",
       "      <td>0</td>\n",
       "      <td>0</td>\n",
       "    </tr>\n",
       "    <tr>\n",
       "      <th>35</th>\n",
       "      <td>0</td>\n",
       "      <td>0</td>\n",
       "    </tr>\n",
       "    <tr>\n",
       "      <th>45</th>\n",
       "      <td>0</td>\n",
       "      <td>0</td>\n",
       "    </tr>\n",
       "  </tbody>\n",
       "</table>\n",
       "</div>"
      ],
      "text/plain": [
       "     status actual  status predicted\n",
       "38               0                 0\n",
       "83               0                 0\n",
       "72               0                 0\n",
       "30               0                 0\n",
       "79               0                 0\n",
       "73               0                 0\n",
       "47               0                 0\n",
       "141              1                 1\n",
       "224              1                 1\n",
       "112              1                 1\n",
       "220              1                 1\n",
       "1                0                 0\n",
       "101              1                 1\n",
       "197              1                 1\n",
       "50               0                 0\n",
       "230              1                 1\n",
       "115              1                 1\n",
       "175              1                 1\n",
       "232              1                 1\n",
       "210              1                 1\n",
       "165              1                 1\n",
       "69               0                 0\n",
       "192              1                 1\n",
       "221              1                 1\n",
       "226              1                 1\n",
       "214              1                 1\n",
       "10               0                 0\n",
       "117              1                 1\n",
       "96               1                 1\n",
       "205              1                 1\n",
       "235              1                 1\n",
       "244              1                 1\n",
       "3                0                 0\n",
       "33               0                 0\n",
       "119              1                 1\n",
       "170              1                 1\n",
       "125              1                 1\n",
       "212              1                 1\n",
       "168              1                 1\n",
       "13               0                 0\n",
       "25               0                 0\n",
       "67               0                 0\n",
       "0                0                 0\n",
       "40               0                 0\n",
       "228              1                 1\n",
       "194              1                 1\n",
       "179              1                 1\n",
       "159              1                 1\n",
       "26               0                 0\n",
       "35               0                 0\n",
       "45               0                 0"
      ]
     },
     "execution_count": 148,
     "metadata": {},
     "output_type": "execute_result"
    }
   ],
   "source": [
    "pd.DataFrame({\n",
    "    \"status actual\" : y_test_ovarian,\n",
    "    \"status predicted\" : pred\n",
    "})"
   ]
  },
  {
   "cell_type": "code",
   "execution_count": 149,
   "metadata": {},
   "outputs": [
    {
     "data": {
      "text/plain": [
       "1.0"
      ]
     },
     "execution_count": 149,
     "metadata": {},
     "output_type": "execute_result"
    }
   ],
   "source": [
    "accOvarian = accuracy_score(y_test_ovarian,pred)\n",
    "accOvarian"
   ]
  },
  {
   "cell_type": "code",
   "execution_count": 150,
   "metadata": {},
   "outputs": [
    {
     "name": "stdout",
     "output_type": "stream",
     "text": [
      "              precision    recall  f1-score   support\n",
      "\n",
      "           0       1.00      1.00      1.00        21\n",
      "           1       1.00      1.00      1.00        30\n",
      "\n",
      "    accuracy                           1.00        51\n",
      "   macro avg       1.00      1.00      1.00        51\n",
      "weighted avg       1.00      1.00      1.00        51\n",
      "\n"
     ]
    }
   ],
   "source": [
    "print(classification_report(y_test_ovarian, pred))"
   ]
  },
  {
   "cell_type": "code",
   "execution_count": 151,
   "metadata": {},
   "outputs": [
    {
     "data": {
      "image/png": "[encoded data removed]",
      "text/plain": [
       "<Figure size 921.6x432 with 2 Axes>"
      ]
     },
     "metadata": {
      "needs_background": "light"
     },
     "output_type": "display_data"
    }
   ],
   "source": [
    "aux_df = data_ovarian[['status']].drop_duplicates().sort_values('status')\n",
    "conf_matrix = confusion_matrix(y_test_ovarian, pred)\n",
    "plt.figure(figsize=(12.8,6))\n",
    "sns.heatmap(conf_matrix, \n",
    "            annot=True,\n",
    "            xticklabels=aux_df['status'].values, \n",
    "            yticklabels=aux_df['status'].values,\n",
    "            cmap=\"Blues\")\n",
    "plt.ylabel('Predicted')\n",
    "plt.xlabel('Actual')\n",
    "plt.title('Confusion matrix')\n",
    "plt.show()"
   ]
  },
  {
   "cell_type": "markdown",
   "metadata": {},
   "source": [
    "5. Central Nervous "
   ]
  },
  {
   "cell_type": "code",
   "execution_count": 152,
   "metadata": {},
   "outputs": [],
   "source": [
    "classifier_central = GridDT_central.best_estimator_"
   ]
  },
  {
   "cell_type": "code",
   "execution_count": 153,
   "metadata": {},
   "outputs": [
    {
     "data": {
      "text/plain": [
       "RandomForestClassifier(bootstrap=False, class_weight=None, criterion='gini',\n",
       "                       max_depth=None, max_features='auto', max_leaf_nodes=None,\n",
       "                       min_impurity_decrease=0.0, min_impurity_split=None,\n",
       "                       min_samples_leaf=1, min_samples_split=10,\n",
       "                       min_weight_fraction_leaf=0.0, n_estimators=200,\n",
       "                       n_jobs=None, oob_score=False, random_state=None,\n",
       "                       verbose=0, warm_start=False)"
      ]
     },
     "execution_count": 153,
     "metadata": {},
     "output_type": "execute_result"
    }
   ],
   "source": [
    "classifier_central.fit(X_trainCentralCA,y_train_central)"
   ]
  },
  {
   "cell_type": "code",
   "execution_count": 154,
   "metadata": {},
   "outputs": [
    {
     "data": {
      "text/plain": [
       "array([0, 0, 0, 0, 0, 0, 0, 0, 0, 0, 0, 0], dtype=int64)"
      ]
     },
     "execution_count": 154,
     "metadata": {},
     "output_type": "execute_result"
    }
   ],
   "source": [
    "pred = classifier_central.predict(X_testCentralCA)\n",
    "pred"
   ]
  },
  {
   "cell_type": "code",
   "execution_count": 155,
   "metadata": {},
   "outputs": [
    {
     "data": {
      "text/html": [
       "<div>\n",
       "<style scoped>\n",
       "    .dataframe tbody tr th:only-of-type {\n",
       "        vertical-align: middle;\n",
       "    }\n",
       "\n",
       "    .dataframe tbody tr th {\n",
       "        vertical-align: top;\n",
       "    }\n",
       "\n",
       "    .dataframe thead th {\n",
       "        text-align: right;\n",
       "    }\n",
       "</style>\n",
       "<table border=\"1\" class=\"dataframe\">\n",
       "  <thead>\n",
       "    <tr style=\"text-align: right;\">\n",
       "      <th></th>\n",
       "      <th>status actual</th>\n",
       "      <th>status predicted</th>\n",
       "    </tr>\n",
       "  </thead>\n",
       "  <tbody>\n",
       "    <tr>\n",
       "      <th>5</th>\n",
       "      <td>1</td>\n",
       "      <td>0</td>\n",
       "    </tr>\n",
       "    <tr>\n",
       "      <th>26</th>\n",
       "      <td>0</td>\n",
       "      <td>0</td>\n",
       "    </tr>\n",
       "    <tr>\n",
       "      <th>57</th>\n",
       "      <td>0</td>\n",
       "      <td>0</td>\n",
       "    </tr>\n",
       "    <tr>\n",
       "      <th>39</th>\n",
       "      <td>0</td>\n",
       "      <td>0</td>\n",
       "    </tr>\n",
       "    <tr>\n",
       "      <th>36</th>\n",
       "      <td>0</td>\n",
       "      <td>0</td>\n",
       "    </tr>\n",
       "    <tr>\n",
       "      <th>50</th>\n",
       "      <td>0</td>\n",
       "      <td>0</td>\n",
       "    </tr>\n",
       "    <tr>\n",
       "      <th>42</th>\n",
       "      <td>0</td>\n",
       "      <td>0</td>\n",
       "    </tr>\n",
       "    <tr>\n",
       "      <th>19</th>\n",
       "      <td>1</td>\n",
       "      <td>0</td>\n",
       "    </tr>\n",
       "    <tr>\n",
       "      <th>25</th>\n",
       "      <td>0</td>\n",
       "      <td>0</td>\n",
       "    </tr>\n",
       "    <tr>\n",
       "      <th>18</th>\n",
       "      <td>1</td>\n",
       "      <td>0</td>\n",
       "    </tr>\n",
       "    <tr>\n",
       "      <th>43</th>\n",
       "      <td>0</td>\n",
       "      <td>0</td>\n",
       "    </tr>\n",
       "    <tr>\n",
       "      <th>37</th>\n",
       "      <td>0</td>\n",
       "      <td>0</td>\n",
       "    </tr>\n",
       "  </tbody>\n",
       "</table>\n",
       "</div>"
      ],
      "text/plain": [
       "    status actual  status predicted\n",
       "5               1                 0\n",
       "26              0                 0\n",
       "57              0                 0\n",
       "39              0                 0\n",
       "36              0                 0\n",
       "50              0                 0\n",
       "42              0                 0\n",
       "19              1                 0\n",
       "25              0                 0\n",
       "18              1                 0\n",
       "43              0                 0\n",
       "37              0                 0"
      ]
     },
     "execution_count": 155,
     "metadata": {},
     "output_type": "execute_result"
    }
   ],
   "source": [
    "pd.DataFrame({\n",
    "    \"status actual\" : y_test_central,\n",
    "    \"status predicted\" : pred\n",
    "})"
   ]
  },
  {
   "cell_type": "code",
   "execution_count": 156,
   "metadata": {},
   "outputs": [
    {
     "data": {
      "text/plain": [
       "0.75"
      ]
     },
     "execution_count": 156,
     "metadata": {},
     "output_type": "execute_result"
    }
   ],
   "source": [
    "accCentral = accuracy_score(y_test_central,pred)\n",
    "accCentral"
   ]
  },
  {
   "cell_type": "code",
   "execution_count": 157,
   "metadata": {},
   "outputs": [
    {
     "name": "stdout",
     "output_type": "stream",
     "text": [
      "              precision    recall  f1-score   support\n",
      "\n",
      "           0       0.75      1.00      0.86         9\n",
      "           1       0.00      0.00      0.00         3\n",
      "\n",
      "    accuracy                           0.75        12\n",
      "   macro avg       0.38      0.50      0.43        12\n",
      "weighted avg       0.56      0.75      0.64        12\n",
      "\n"
     ]
    }
   ],
   "source": [
    "print(classification_report(y_test_central, pred))"
   ]
  },
  {
   "cell_type": "code",
   "execution_count": 158,
   "metadata": {},
   "outputs": [
    {
     "data": {
      "image/png": "[encoded data removed]",
      "text/plain": [
       "<Figure size 921.6x432 with 2 Axes>"
      ]
     },
     "metadata": {
      "needs_background": "light"
     },
     "output_type": "display_data"
    }
   ],
   "source": [
    "aux_df = data_central[['status']].drop_duplicates().sort_values('status')\n",
    "conf_matrix = confusion_matrix(y_test_central, pred)\n",
    "plt.figure(figsize=(12.8,6))\n",
    "sns.heatmap(conf_matrix, \n",
    "            annot=True,\n",
    "            xticklabels=aux_df['status'].values, \n",
    "            yticklabels=aux_df['status'].values,\n",
    "            cmap=\"Blues\")\n",
    "plt.ylabel('Predicted')\n",
    "plt.xlabel('Actual')\n",
    "plt.title('Confusion matrix')\n",
    "plt.show()"
   ]
  },
  {
   "cell_type": "markdown",
   "metadata": {},
   "source": [
    "### Result"
   ]
  },
  {
   "cell_type": "code",
   "execution_count": 159,
   "metadata": {},
   "outputs": [
    {
     "data": {
      "text/html": [
       "<div>\n",
       "<style scoped>\n",
       "    .dataframe tbody tr th:only-of-type {\n",
       "        vertical-align: middle;\n",
       "    }\n",
       "\n",
       "    .dataframe tbody tr th {\n",
       "        vertical-align: top;\n",
       "    }\n",
       "\n",
       "    .dataframe thead th {\n",
       "        text-align: right;\n",
       "    }\n",
       "</style>\n",
       "<table border=\"1\" class=\"dataframe\">\n",
       "  <thead>\n",
       "    <tr style=\"text-align: right;\">\n",
       "      <th></th>\n",
       "      <th>Akurasi</th>\n",
       "    </tr>\n",
       "    <tr>\n",
       "      <th>dataset</th>\n",
       "      <th></th>\n",
       "    </tr>\n",
       "  </thead>\n",
       "  <tbody>\n",
       "    <tr>\n",
       "      <th>Colon Cancer</th>\n",
       "      <td>1.000000</td>\n",
       "    </tr>\n",
       "    <tr>\n",
       "      <th>Lung Cancer</th>\n",
       "      <td>1.000000</td>\n",
       "    </tr>\n",
       "    <tr>\n",
       "      <th>Ovarian Cancer</th>\n",
       "      <td>1.000000</td>\n",
       "    </tr>\n",
       "    <tr>\n",
       "      <th>Prostate Tumor</th>\n",
       "      <td>0.857143</td>\n",
       "    </tr>\n",
       "    <tr>\n",
       "      <th>Central Nervous</th>\n",
       "      <td>0.750000</td>\n",
       "    </tr>\n",
       "  </tbody>\n",
       "</table>\n",
       "</div>"
      ],
      "text/plain": [
       "                  Akurasi\n",
       "dataset                  \n",
       "Colon Cancer     1.000000\n",
       "Lung Cancer      1.000000\n",
       "Ovarian Cancer   1.000000\n",
       "Prostate Tumor   0.857143\n",
       "Central Nervous  0.750000"
      ]
     },
     "execution_count": 159,
     "metadata": {},
     "output_type": "execute_result"
    }
   ],
   "source": [
    "hasil = pd.DataFrame({\n",
    "    \"dataset\" : ['Colon Cancer', 'Lung Cancer','Ovarian Cancer', 'Prostate Tumor', 'Central Nervous'],\n",
    "    \"Akurasi\" : [accColon,accLung,accOvarian,accProstate,accCentral]\n",
    "})\n",
    "\n",
    "hasil = hasil.set_index(['dataset'],drop=True)\n",
    "hasil"
   ]
  },
  {
   "cell_type": "code",
   "execution_count": 160,
   "metadata": {
    "scrolled": false
   },
   "outputs": [
    {
     "data": {
      "image/png": "[encoded data removed]",
      "text/plain": [
       "<Figure size 1440x720 with 1 Axes>"
      ]
     },
     "metadata": {
      "needs_background": "light"
     },
     "output_type": "display_data"
    }
   ],
   "source": [
    "hasil.loc[:,['Akurasi']].plot.bar(color=['b'], figsize=(20,10))\n",
    "plt.title(\"Diagram Hasil\")\n",
    "plt.xlabel('Dataset')\n",
    "plt.ylabel('Akurasi')\n",
    "plt.show()"
   ]
  }
 ],
 "metadata": {
  "kernelspec": {
   "display_name": "Python 3",
   "language": "python",
   "name": "python3"
  },
  "language_info": {
   "codemirror_mode": {
    "name": "ipython",
    "version": 3
   },
   "file_extension": ".py",
   "mimetype": "text/x-python",
   "name": "python",
   "nbconvert_exporter": "python",
   "pygments_lexer": "ipython3",
   "version": "3.7.2"
  }
 },
 "nbformat": 4,
 "nbformat_minor": 2
}
